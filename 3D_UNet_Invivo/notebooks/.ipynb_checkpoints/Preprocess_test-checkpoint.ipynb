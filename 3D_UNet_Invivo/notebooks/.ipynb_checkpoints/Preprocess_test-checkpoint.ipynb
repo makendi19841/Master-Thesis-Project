{
 "cells": [
  {
   "cell_type": "code",
   "execution_count": 1,
   "metadata": {},
   "outputs": [],
   "source": [
    "import pydicom as dicom\n",
    "import os\n",
    "import time\n",
    "from glob import glob\n",
    "import numpy as np\n",
    "from matplotlib import pyplot, cm\n"
   ]
  },
  {
   "cell_type": "code",
   "execution_count": 2,
   "metadata": {},
   "outputs": [],
   "source": [
    "pathDicom = os.path.join('..', 'data/raw', 'train/')\n",
    "g = glob(os.path.join(os.path.expanduser('~'), '3D_UNet/data/raw', 'training','*.dcm' )) \n",
    "pathDicom2 = os.path.join(os.path.expanduser('~'), '3D_UNet/data/raw', 'training','*.dcm')\n",
    "pathDicom3 = \"/home/amos/3D_UNet/data/raw\""
   ]
  },
  {
   "cell_type": "code",
   "execution_count": 3,
   "metadata": {},
   "outputs": [
    {
     "name": "stdout",
     "output_type": "stream",
     "text": [
      "['training', 'leaderboard', 'test']\n",
      "../data/raw/train/\n",
      "/home/amos/3D_UNet/data/raw/training/*.dcm\n",
      "/home/amos/3D_UNet/data/raw\n"
     ]
    }
   ],
   "source": [
    "# os.listdir(dirname): get the list of files or folders in a directory\n",
    "print(os.listdir(pathDicom3))\n",
    "print(os.path.join('..', 'data/raw', 'train/'))\n",
    "print(os.path.join(os.path.expanduser('~'), '3D_UNet/data/raw', 'training','*.dcm' ))\n",
    "print(\"/home/amos/3D_UNet/data/raw\")"
   ]
  },
  {
   "cell_type": "code",
   "execution_count": 4,
   "metadata": {},
   "outputs": [
    {
     "name": "stdout",
     "output_type": "stream",
     "text": [
      "('/home/amos/3D_UNet/data/raw', ['training', 'leaderboard', 'test'], [])\n",
      "['training', 'leaderboard', 'test']\n",
      "leaderboard\n"
     ]
    }
   ],
   "source": [
    "directory = \"/home/amos/3D_UNet/data/raw\"\n",
    "subdirs = next(os.walk(directory))\n",
    "subdirs1 = next(os.walk(directory))[1]\n",
    "print(subdirs)\n",
    "print(subdirs1)\n",
    "print(subdirs1[1])\n"
   ]
  },
  {
   "cell_type": "code",
   "execution_count": 5,
   "metadata": {},
   "outputs": [],
   "source": [
    "'''\n",
    "For the given path, get the list of all files in the directory tree\n",
    "'''\n",
    "def getListOfFiles(dirname):\n",
    "    listOfFile = os.listdir(dirname) # get list of all folders existing in the directory\n",
    "    allFiles = []\n",
    "    for entry in listOfFile:\n",
    "        fullPath = os.path.join(dirname, entry) # define all full path leading to exisiting folders\n",
    "        if os.path.isdir(fullPath):\n",
    "            allFiles = allFiles + getListOfFiles(fullPath)\n",
    "        else:\n",
    "            allFiles.append(fullPath)\n",
    "    return allFiles"
   ]
  },
  {
   "cell_type": "code",
   "execution_count": 6,
   "metadata": {},
   "outputs": [
    {
     "name": "stdout",
     "output_type": "stream",
     "text": [
      "/home/amos/3D_UNet/data/raw/training/Pat_01_s221_T2s.dcm\n",
      "/home/amos/3D_UNet/data/raw/training/Pat_01_s221_T2.dcm\n",
      "/home/amos/3D_UNet/data/raw/training/Pat_01_s221.nrrd\n",
      "/home/amos/3D_UNet/data/raw/training/Pat_01_s221_T1.dcm\n",
      "/home/amos/3D_UNet/data/raw/training/Pat_01_s221.cso\n",
      "/home/amos/3D_UNet/data/raw/training/Pat_01_s221_PD.dcm\n",
      "/home/amos/3D_UNet/data/raw/training/Pat_01_s221.cso.dcm\n",
      "/home/amos/3D_UNet/data/raw/leaderboard/Pat_01_s221_T2s.dcm\n",
      "/home/amos/3D_UNet/data/raw/leaderboard/Pat_01_s221_T2.dcm\n",
      "/home/amos/3D_UNet/data/raw/leaderboard/Pat_01_s221.nrrd\n",
      "/home/amos/3D_UNet/data/raw/leaderboard/Pat_01_s221_T1.dcm\n",
      "/home/amos/3D_UNet/data/raw/leaderboard/Pat_01_s221.cso\n",
      "/home/amos/3D_UNet/data/raw/leaderboard/Pat_01_s221_PD.dcm\n",
      "/home/amos/3D_UNet/data/raw/leaderboard/Pat_01_s221.cso.dcm\n",
      "/home/amos/3D_UNet/data/raw/test/Pat_01_s221_T2s.dcm\n",
      "/home/amos/3D_UNet/data/raw/test/Pat_01_s221_T2.dcm\n",
      "/home/amos/3D_UNet/data/raw/test/Pat_01_s221.nrrd\n",
      "/home/amos/3D_UNet/data/raw/test/Pat_01_s221_T1.dcm\n",
      "/home/amos/3D_UNet/data/raw/test/Pat_01_s221.cso\n",
      "/home/amos/3D_UNet/data/raw/test/Pat_01_s221_PD.dcm\n",
      "/home/amos/3D_UNet/data/raw/test/Pat_01_s221.cso.dcm\n"
     ]
    }
   ],
   "source": [
    "listOfFiles = getListOfFiles(pathDicom3)\n",
    "\n",
    "for elem in listOfFiles:\n",
    "    print(elem)"
   ]
  },
  {
   "cell_type": "code",
   "execution_count": 7,
   "metadata": {},
   "outputs": [
    {
     "name": "stdout",
     "output_type": "stream",
     "text": [
      "/home/amos/3D_UNet/data/raw/training/Pat_01_s221_T2s.dcm\n",
      "/home/amos/3D_UNet/data/raw/training/Pat_01_s221_T2.dcm\n",
      "/home/amos/3D_UNet/data/raw/training/Pat_01_s221.nrrd\n",
      "/home/amos/3D_UNet/data/raw/training/Pat_01_s221_T1.dcm\n",
      "/home/amos/3D_UNet/data/raw/training/Pat_01_s221.cso\n",
      "/home/amos/3D_UNet/data/raw/training/Pat_01_s221_PD.dcm\n",
      "/home/amos/3D_UNet/data/raw/training/Pat_01_s221.cso.dcm\n",
      "/home/amos/3D_UNet/data/raw/leaderboard/Pat_01_s221_T2s.dcm\n",
      "/home/amos/3D_UNet/data/raw/leaderboard/Pat_01_s221_T2.dcm\n",
      "/home/amos/3D_UNet/data/raw/leaderboard/Pat_01_s221.nrrd\n",
      "/home/amos/3D_UNet/data/raw/leaderboard/Pat_01_s221_T1.dcm\n",
      "/home/amos/3D_UNet/data/raw/leaderboard/Pat_01_s221.cso\n",
      "/home/amos/3D_UNet/data/raw/leaderboard/Pat_01_s221_PD.dcm\n",
      "/home/amos/3D_UNet/data/raw/leaderboard/Pat_01_s221.cso.dcm\n",
      "/home/amos/3D_UNet/data/raw/test/Pat_01_s221_T2s.dcm\n",
      "/home/amos/3D_UNet/data/raw/test/Pat_01_s221_T2.dcm\n",
      "/home/amos/3D_UNet/data/raw/test/Pat_01_s221.nrrd\n",
      "/home/amos/3D_UNet/data/raw/test/Pat_01_s221_T1.dcm\n",
      "/home/amos/3D_UNet/data/raw/test/Pat_01_s221.cso\n",
      "/home/amos/3D_UNet/data/raw/test/Pat_01_s221_PD.dcm\n",
      "/home/amos/3D_UNet/data/raw/test/Pat_01_s221.cso.dcm\n"
     ]
    }
   ],
   "source": [
    "# Get the list of all folders or files existing in the directory tree at given path\n",
    "# Iterate over the directory tree and generate a list of all the files at given path\n",
    "# os.walk(): return a tuple containing: < dirName, ListOfSubDirs, ListOfFiles >\n",
    "listOfFiles = list()\n",
    "\n",
    "for (dirpath, dirnames, filenames) in os.walk(pathDicom3):\n",
    "    listOfFiles += [os.path.join(dirpath, file) for file in filenames]\n",
    "\n",
    "for elem in listOfFiles:\n",
    "    print(elem)"
   ]
  },
  {
   "cell_type": "code",
   "execution_count": 8,
   "metadata": {},
   "outputs": [
    {
     "name": "stdout",
     "output_type": "stream",
     "text": [
      "/home/amos/3D_UNet/notebooks\n"
     ]
    }
   ],
   "source": [
    "# os.getcwd(): get current working directory\n",
    "# os.chdir(): change the current working directory\n",
    "print(os.getcwd())"
   ]
  },
  {
   "cell_type": "code",
   "execution_count": 9,
   "metadata": {},
   "outputs": [
    {
     "name": "stdout",
     "output_type": "stream",
     "text": [
      "3D_UNet/data/raw/training/Pat_01_s221_T2s.dcm\n",
      "/home/amos\n",
      "/home/amos/3D_UNet/data/raw/training/Pat_01_s221_T2s.dcm\n"
     ]
    }
   ],
   "source": [
    "# os.path.join(): manipulate dirnames and filenames\n",
    "print(os.path.join('3D_UNet/data/raw/training/', 'Pat_01_s221_T2s.dcm')) # existence of / before filename gisve the basolute directoy\n",
    "print(os.path.expanduser('~'))\n",
    "print(os.path.join(os.path.expanduser('~'), '3D_UNet/data/raw', 'training','Pat_01_s221_T2s.dcm' ))"
   ]
  },
  {
   "cell_type": "code",
   "execution_count": 10,
   "metadata": {},
   "outputs": [
    {
     "name": "stdout",
     "output_type": "stream",
     "text": [
      "(dirname, filename) are: ('../data/raw/training', 'Pat_01_s221_T2s.dcm')\n",
      "dirname is:  ../data/raw/training\n",
      "filename is:  Pat_01_s221_T2s.dcm\n"
     ]
    }
   ],
   "source": [
    "# os.path.split(): return a tuple of (dirname, filename)\n",
    "pathDicom = \"../data/raw/training/Pat_01_s221_T2s.dcm\"\n",
    "(dirname, filename) = os.path.split(pathDicom)\n",
    "print(\"(dirname, filename) are:\", (dirname,filename))\n",
    "print(\"dirname is: \", dirname)\n",
    "print(\"filename is: \", filename)"
   ]
  },
  {
   "cell_type": "code",
   "execution_count": 11,
   "metadata": {},
   "outputs": [
    {
     "name": "stdout",
     "output_type": "stream",
     "text": [
      "('Pat_01_s221_T2s', '.dcm')\n",
      "('Pat_01_s221_T2s', '.dcm')\n",
      "shortname is:  Pat_01_s221_T2s\n",
      "extension is:  .dcm\n"
     ]
    }
   ],
   "source": [
    "# os.path.splitext(): splits filename into a tuple of filename and file extension\n",
    "print(os.path.splitext(filename))\n",
    "print(os.path.splitext('Pat_01_s221_T2s.dcm'))\n",
    "(shortname, extension) = os.path.splitext(filename)\n",
    "print(\"shortname is: \", shortname)\n",
    "print(\"extension is: \", extension)"
   ]
  },
  {
   "cell_type": "code",
   "execution_count": 12,
   "metadata": {},
   "outputs": [
    {
     "name": "stdout",
     "output_type": "stream",
     "text": [
      "5\n",
      "['/home/amos/3D_UNet/data/raw/training/Pat_01_s221_T2s.dcm', '/home/amos/3D_UNet/data/raw/training/Pat_01_s221_T2.dcm', '/home/amos/3D_UNet/data/raw/training/Pat_01_s221_T1.dcm', '/home/amos/3D_UNet/data/raw/training/Pat_01_s221_PD.dcm', '/home/amos/3D_UNet/data/raw/training/Pat_01_s221.cso.dcm']\n"
     ]
    }
   ],
   "source": [
    "# glob.glob(): get the contents of a directory progammatically : returns list of files\n",
    "g = glob(os.path.join(os.path.expanduser('~'), '3D_UNet/data/raw', 'training','*.dcm' )) # garther all .dcm files\n",
    "print(len(g))  # count total .dcm files garthered\n",
    "print(glob(os.path.join(os.path.expanduser('~'), '3D_UNet/data/raw', 'training','*.dcm' )))"
   ]
  },
  {
   "cell_type": "code",
   "execution_count": 13,
   "metadata": {},
   "outputs": [
    {
     "name": "stdout",
     "output_type": "stream",
     "text": [
      "metadata file size is:  526252  bytes\n",
      "metadata time is:  1557329452.40899\n",
      "time.struct_time(tm_year=2019, tm_mon=5, tm_mday=8, tm_hour=17, tm_min=30, tm_sec=52, tm_wday=2, tm_yday=128, tm_isdst=1)\n",
      "os.stat_result(st_mode=33279, st_ino=109183164, st_dev=2049, st_nlink=1, st_uid=1000, st_gid=1000, st_size=526252, st_atime=1561365729, st_mtime=1557329452, st_ctime=1560841371)\n",
      "os.stat_result(st_mode=33279, st_ino=109183156, st_dev=2049, st_nlink=1, st_uid=1000, st_gid=1000, st_size=526252, st_atime=1561380803, st_mtime=1557329452, st_ctime=1560841371)\n",
      "os.stat_result(st_mode=33279, st_ino=109183155, st_dev=2049, st_nlink=1, st_uid=1000, st_gid=1000, st_size=526250, st_atime=1561380803, st_mtime=1557329452, st_ctime=1560841371)\n",
      "os.stat_result(st_mode=33279, st_ino=109183152, st_dev=2049, st_nlink=1, st_uid=1000, st_gid=1000, st_size=526242, st_atime=1561380803, st_mtime=1557329452, st_ctime=1560841371)\n",
      "os.stat_result(st_mode=33279, st_ino=109183151, st_dev=2049, st_nlink=1, st_uid=1000, st_gid=1000, st_size=526250, st_atime=1561380803, st_mtime=1557329452, st_ctime=1560841371)\n"
     ]
    }
   ],
   "source": [
    "# metadata files: e.g creation date, last modified date, file size, etc...\n",
    "metadata = os.stat('../data/raw/training/Pat_01_s221_T2s.dcm')\n",
    "print(\"metadata file size is: \",metadata.st_size,\" bytes\")\n",
    "print(\"metadata time is: \", metadata.st_mtime)\n",
    "print(time.localtime(metadata.st_mtime))\n",
    "\n",
    "# read the metadata info of each .dcm file located in directory\n",
    "for meta in g:\n",
    "    meta_info = os.stat(meta)\n",
    "    print(meta_info)\n"
   ]
  },
  {
   "cell_type": "code",
   "execution_count": 14,
   "metadata": {},
   "outputs": [],
   "source": [
    "pathDicom = \"../data/raw/training/\"\n",
    "lstFilesDCM = []\n",
    "for dirName, subdirList, fileList in os.walk(pathDicom):\n",
    "    for filename in fileList:\n",
    "        if \".dcm\" in filename.lower():\n",
    "            lstFilesDCM.append(os.path.join(dirName, filename))"
   ]
  },
  {
   "cell_type": "code",
   "execution_count": 15,
   "metadata": {},
   "outputs": [
    {
     "name": "stdout",
     "output_type": "stream",
     "text": [
      "['../data/raw/training/Pat_01_s221_T2s.dcm', '../data/raw/training/Pat_01_s221_T2.dcm', '../data/raw/training/Pat_01_s221_T1.dcm', '../data/raw/training/Pat_01_s221_PD.dcm', '../data/raw/training/Pat_01_s221.cso.dcm']\n"
     ]
    }
   ],
   "source": [
    "print(lstFilesDCM)"
   ]
  },
  {
   "cell_type": "code",
   "execution_count": 16,
   "metadata": {},
   "outputs": [
    {
     "name": "stdout",
     "output_type": "stream",
     "text": [
      "(0008, 0008) Image Type                          CS: ['DERIVED', 'SECONDARY', 'OTHER', 'MEVISLAB']\n",
      "(0008, 0012) Instance Creation Date              DA: '20080813'\n",
      "(0008, 0013) Instance Creation Time              TM: '092442'\n",
      "(0008, 0016) SOP Class UID                       UI: MR Image Storage\n",
      "(0008, 0018) SOP Instance UID                    UI: 1.3.6.1.4.1.34261.93383154909039.29348.1557329452.16\n",
      "(0008, 0020) Study Date                          DA: '20080812'\n",
      "(0008, 0022) Acquisition Date                    DA: '20080812'\n",
      "(0008, 0023) Content Date                        DA: '20190508'\n",
      "(0008, 0030) Study Time                          TM: '190551'\n",
      "(0008, 0032) Acquisition Time                    TM: '213443'\n",
      "(0008, 0033) Content Time                        TM: '173052.396000'\n",
      "(0008, 0050) Accession Number                    SH: '890993315260586290631548281360202943075753233713'\n",
      "(0008, 0060) Modality                            CS: 'MR'\n",
      "(0008, 0070) Manufacturer                        LO: 'Bruker BioSpin MRI GmbH'\n",
      "(0008, 0080) Institution Name                    LO: 'anonymized'\n",
      "(0008, 0090) Referring Physician's Name          PN: ''\n",
      "(0008, 1010) Station Name                        SH: 'anonymized'\n",
      "(0010, 0010) Patient's Name                      PN: ''\n",
      "(0010, 0020) Patient ID                          LO: '670988151218117021204524491230866652344500040284'\n",
      "(0010, 0021) Issuer of Patient ID                LO: 'MEDIAN V2.14b (Feb  2 2017 21:53:37)'\n",
      "(0010, 0030) Patient's Birth Date                DA: ''\n",
      "(0010, 0040) Patient's Sex                       CS: 'F'\n",
      "(0010, 1030) Patient's Weight                    DS: \"5\"\n",
      "(0018, 0020) Scanning Sequence                   CS: 'RM'\n",
      "(0018, 0021) Sequence Variant                    CS: 'NONE'\n",
      "(0018, 0022) Scan Options                        CS: ''\n",
      "(0018, 0023) MR Acquisition Type                 CS: '3D'\n",
      "(0018, 0024) Sequence Name                       SH: 'RARE (pvm)'\n",
      "(0018, 0050) Slice Thickness                     DS: \"0.1\"\n",
      "(0018, 0080) Repetition Time                     DS: \"2500\"\n",
      "(0018, 0081) Echo Time                           DS: \"40\"\n",
      "(0018, 0083) Number of Averages                  DS: \"1\"\n",
      "(0018, 0084) Imaging Frequency                   DS: \"400.316\"\n",
      "(0018, 0085) Imaged Nucleus                      SH: '1H'\n",
      "(0018, 0088) Spacing Between Slices              DS: \"0.029296875\"\n",
      "(0018, 0089) Number of Phase Encoding Steps      IS: \"256\"\n",
      "(0018, 0091) Echo Train Length                   IS: \"16\"\n",
      "(0018, 0094) Percent Phase Field of View         DS: \"100\"\n",
      "(0018, 0095) Pixel Bandwidth                     DS: \"434.028\"\n",
      "(0018, 1020) Software Version(s)                 LO: 'ParaVision 4.0'\n",
      "(0018, 1030) Protocol Name                       LO: '04_T2_RARE_3D'\n",
      "(0018, 1310) Acquisition Matrix                  US: [160, 0, 0, 320]\n",
      "(0018, 1312) In-plane Phase Encoding Direction   CS: 'COL'\n",
      "(0018, 1314) Flip Angle                          DS: \"180\"\n",
      "(0018, 5100) Patient Position                    CS: 'HFS'\n",
      "(0020, 000d) Study Instance UID                  UI: 1.3.6.1.4.1.49296.0.7262809140622816981338180527584755793307\n",
      "(0020, 000e) Series Instance UID                 UI: 1.3.6.1.4.1.49296.0.5565972840634653204324649866771264862229\n",
      "(0020, 0010) Study ID                            SH: '1121661249504791295698736456178913600364764674400'\n",
      "(0020, 0011) Series Number                       IS: \"327681\"\n",
      "(0020, 0012) Acquisition Number                  IS: \"1\"\n",
      "(0020, 0013) Instance Number                     IS: \"1\"\n",
      "(0020, 0032) Image Position (Patient)            DS: ['4.12395407889604', '22.4909071514723', '-14973.499996425']\n",
      "(0020, 0037) Image Orientation (Patient)         DS: ['1', '-2.833088129e-12', '-2.828518679e-12', '-2.833088129e-12', '-1', '1.3322676376e-15']\n",
      "(0020, 0052) Frame of Reference UID              UI: 2.16.756.5.5.100.993970969.6854.1218572503.30\n",
      "(0020, 1002) Images in Acquisition               IS: \"1\"\n",
      "(0020, 1040) Position Reference Indicator        LO: ''\n",
      "(0020, 4000) Image Comments                      LT: 'MeVisLab'\n",
      "(0021, 0010) Private Creator                     LO: 'MeVis eD: Timepoint Information'\n",
      "(0021, 1010) Private tag data                    LT: '20080812 213443.000000'\n",
      "(0021, 1011) Private tag data                    CS: 'UNKNOWN'\n",
      "(0028, 0002) Samples per Pixel                   US: 1\n",
      "(0028, 0004) Photometric Interpretation          CS: 'MONOCHROME2'\n",
      "(0028, 0008) Number of Frames                    IS: \"1\"\n",
      "(0028, 0010) Rows                                US: 512\n",
      "(0028, 0011) Columns                             US: 512\n",
      "(0028, 0030) Pixel Spacing                       DS: ['0.029296875', '0.029296875']\n",
      "(0028, 0100) Bits Allocated                      US: 16\n",
      "(0028, 0101) Bits Stored                         US: 16\n",
      "(0028, 0102) High Bit                            US: 15\n",
      "(0028, 0103) Pixel Representation                US: 1\n",
      "(0028, 0106) Smallest Image Pixel Value          SS: 0\n",
      "(0028, 0107) Largest Image Pixel Value           SS: 32767\n",
      "(0028, 1050) Window Center                       DS: \"16440\"\n",
      "(0028, 1051) Window Width                        DS: \"32654\"\n",
      "(0028, 1055) Window Center & Width Explanation   LO: 'MinMax'\n",
      "(1111, 0010) Private Creator                     LO: 'MEDIAN V2.14b (Feb  2 2017 21:53:37)'\n",
      "(7fe0, 0010) Pixel Data                          OW: Array of 524288 bytes\n"
     ]
    }
   ],
   "source": [
    "RefDs = dicom.read_file(lstFilesDCM[0])\n",
    "print(RefDs)\n",
    "#print(RefDs.pixel_array.dtype)"
   ]
  },
  {
   "cell_type": "code",
   "execution_count": 17,
   "metadata": {},
   "outputs": [
    {
     "name": "stdout",
     "output_type": "stream",
     "text": [
      "Constant Pixel Dimensions:  (512, 512, 5)\n",
      "Constant Pixel Spacing:  (0.029296875, 0.029296875, 0.1)\n"
     ]
    }
   ],
   "source": [
    "#Load dimensions based on numbers of rows, colums and slices\n",
    "# number of pixel rows in a slice\n",
    "# number pixel columns in a slice\n",
    "# Number of slices\n",
    "# alongx, y, z cartesian axes\n",
    "\n",
    "ConstPixelDims = (int(RefDs.Rows), int(RefDs.Columns), len(lstFilesDCM))\n",
    "print(\"Constant Pixel Dimensions: \", ConstPixelDims)\n",
    "\n",
    "#Load spacing values\n",
    "# calculate the spacing between pixel in the three axes\n",
    "\n",
    "ConstPixelSpacing = (float(RefDs.PixelSpacing[0]), float(RefDs.PixelSpacing[1]), float(RefDs.SliceThickness))\n",
    "print(\"Constant Pixel Spacing: \", ConstPixelSpacing)\n"
   ]
  },
  {
   "cell_type": "code",
   "execution_count": 18,
   "metadata": {},
   "outputs": [],
   "source": [
    "# use numpy arange to calculate axes for array\n",
    "x = np.arange(0.0, (ConstPixelDims[0]+1)*ConstPixelSpacing[0], ConstPixelSpacing[0])\n",
    "y = np.arange(0.0, (ConstPixelDims[1]+1)*ConstPixelSpacing[1], ConstPixelSpacing[1])\n",
    "z = np.arange(0.0, (ConstPixelDims[2]+1)*ConstPixelSpacing[2], ConstPixelSpacing[2])\n"
   ]
  },
  {
   "cell_type": "code",
   "execution_count": 19,
   "metadata": {},
   "outputs": [],
   "source": [
    "# The array is sized based on 'ConstPixelDims'\n",
    "# dtype is to make sure that array values are the same as the pixel_array of the reference dataset\n",
    "ArrayDicom = np.zeros(ConstPixelDims, dtype=RefDs.pixel_array.dtype) # initialize numpy array to contain dicom \n",
    "#print(ArrayDicom)\n",
    "for filenameDCM in lstFilesDCM:\n",
    "    # read the file\n",
    "    ds = dicom.read_file(filenameDCM)\n",
    "    # store the raw image data : store dicom into numpy array\n",
    "    ArrayDicom[:, :, lstFilesDCM.index(filenameDCM)] = ds.pixel_array  \n",
    "    \n",
    "    \n"
   ]
  },
  {
   "cell_type": "code",
   "execution_count": 20,
   "metadata": {},
   "outputs": [],
   "source": [
    "#pyplot.figure(dpi=300)\n",
    "#pyplot.axes().set_aspect('equal', 'datalim')\n",
    "#pyplot.set_cmap(pyplot.gray())\n",
    "#pyplot.pcolormesh(x, y, np.flipud(ArrayDicom[:, :, 80]))"
   ]
  },
  {
   "cell_type": "code",
   "execution_count": 21,
   "metadata": {},
   "outputs": [],
   "source": [
    "# Python Regex\n",
    "# pattern\n",
    "# test_string\n",
    "# goal is to: \n",
    "# search(), \n",
    "# match(), \n",
    "# match.group(), \n",
    "# compile()\n",
    "# re.sub()\n",
    "# re.subn()\n",
    "# re.split()\n",
    "# re.findall()"
   ]
  },
  {
   "cell_type": "code",
   "execution_count": 34,
   "metadata": {},
   "outputs": [
    {
     "name": "stdout",
     "output_type": "stream",
     "text": [
      "s\n",
      "Pat_01_s221_T2.dcm\n",
      "Pat\n",
      "re.compile('(\\\\D{3})_(\\\\d{2})_(\\\\D{1})(\\\\d{3})_(\\\\D{1})(\\\\d{1})(\\\\D{1})\\\\.dcm')\n",
      "re.compile('(\\\\D{3})_(\\\\d{2})_(\\\\D{1})(\\\\d{3})_(\\\\D{1})(\\\\d{1})\\\\.dcm')\n"
     ]
    }
   ],
   "source": [
    "    import re\n",
    "    string = 'Pat_01_s221_T2s.dcm'\n",
    "    string2= 'Pat_01_s221_T2.dcm'\n",
    "    pattern = '(\\D{3})_(\\d{2})_(\\D{1})(\\d{3})_(\\D{1})(\\d{1})(\\D{1})\\.dcm'\n",
    "    pattern2 = '(\\D{3})_(\\d{2})_(\\D{1})(\\d{3})_(\\D{1})(\\d{1})\\.dcm'\n",
    "    match = re.search(pattern, string) \n",
    "    match2 = re.search(pattern2, string2)\n",
    "    if match:\n",
    "        print(match.group(7))\n",
    "        print(match2.group(0))\n",
    "        print(match2.group(1))\n",
    "        print(match.re)\n",
    "        print(match2.re)\n",
    "    else:\n",
    "        print(\"pattern not found\")\n"
   ]
  },
  {
   "cell_type": "code",
   "execution_count": 23,
   "metadata": {},
   "outputs": [
    {
     "data": {
      "text/plain": [
       "'Pat_01_s221_T2s.dcm'"
      ]
     },
     "execution_count": 23,
     "metadata": {},
     "output_type": "execute_result"
    }
   ],
   "source": [
    "match.string"
   ]
  },
  {
   "cell_type": "code",
   "execution_count": 43,
   "metadata": {},
   "outputs": [
    {
     "name": "stdout",
     "output_type": "stream",
     "text": [
      "directory is: /home/amos/3D_UNet/data/raw\n",
      "os.walk(directory) is: ('/home/amos/3D_UNet/data/raw', ['training', 'leaderboard', 'test'], [])\n",
      "The dirName is:  /home/amos/3D_UNet/data/raw\n",
      "The subFileList is:  ['training', 'leaderboard', 'test']\n",
      "The fileName is:  []\n",
      ".....\n",
      "next(os.walk(directory))[1] is:  ['training', 'leaderboard', 'test']\n",
      "subdirs[0] is:  training\n",
      "length subdir is:  3\n"
     ]
    }
   ],
   "source": [
    "directory = \"/home/amos/3D_UNet/data/raw\"\n",
    "subdirs = next(os.walk(directory))\n",
    "print(\"directory is: /home/amos/3D_UNet/data/raw\")\n",
    "print(\"os.walk(directory) is:\", subdirs)\n",
    "print(\"The dirName is: \", subdirs[0])\n",
    "print(\"The subFileList is: \", subdirs[1])\n",
    "print(\"The fileName is: \", subdirs[2])\n",
    "\n",
    "print(\".....\")\n",
    "\n",
    "subdirs = next(os.walk(directory))[1]\n",
    "print(\"next(os.walk(directory))[1] is: \", subdirs)\n",
    "print(\"subdirs[0] is: \", subdirs[0])\n",
    "print(\"length of subdirs is: \", len(subdirs))\n",
    "\n",
    "\n",
    "while True:\n",
    "    subdirs = next(os.walk(directory))[1]\n",
    "    if len(subdirs) == 1:\n",
    "        directory = os.path.join(directory, subdirs[0])\n",
    "    else:\n",
    "        break\n",
    "\n",
    "slices = []\n",
    "for s in subdirs:\n",
    "    m = re.match(\"sax_(\\d+)\", s)\n",
    "    if m is not None:\n",
    "        slices.append(int(m.group(1)))\n",
    "\n",
    "#for slice_elm in slices:\n",
    "    #print(slice_elm)\n",
    "\n",
    "slices_map = {}\n",
    "first = True\n",
    "times = []\n",
    "\n",
    "for s in slices:\n",
    "    files  = next(os.walk(os.path.join(directory, \"sax_%d\" % s)))[2]\n",
    "    offset = None\n",
    "    \n",
    "    for f in files:\n",
    "        m = re.match(\"(\\D{3})_(\\d{2})_(\\D{1})(\\d{3})_(\\D{1})(\\d{1})\\.dcm\", f)\n",
    "        if m is not None:\n",
    "            if first:\n",
    "                times.append(int(m.group(2)))\n",
    "            if offset is None:\n",
    "                offset = int(m.group(1))\n",
    "    \n",
    "    first = False\n",
    "    slices_map[s] = offset\n",
    "    \n",
    "for t in times:\n",
    "    print(t)\n",
    "\n",
    "\n",
    "            \n",
    "\n",
    "\n",
    "        \n",
    "        "
   ]
  },
  {
   "cell_type": "code",
   "execution_count": null,
   "metadata": {},
   "outputs": [],
   "source": []
  }
 ],
 "metadata": {
  "kernelspec": {
   "display_name": "Python 3",
   "language": "python",
   "name": "python3"
  },
  "language_info": {
   "codemirror_mode": {
    "name": "ipython",
    "version": 3
   },
   "file_extension": ".py",
   "mimetype": "text/x-python",
   "name": "python",
   "nbconvert_exporter": "python",
   "pygments_lexer": "ipython3",
   "version": "3.6.8"
  }
 },
 "nbformat": 4,
 "nbformat_minor": 2
}
