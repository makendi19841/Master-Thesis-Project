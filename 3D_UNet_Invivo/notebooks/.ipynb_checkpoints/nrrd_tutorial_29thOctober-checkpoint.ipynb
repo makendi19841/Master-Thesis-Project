{
 "cells": [
  {
   "cell_type": "code",
   "execution_count": 5,
   "metadata": {},
   "outputs": [],
   "source": [
    "import nrrd\n",
    "import numpy as np\n",
    "import pandas as pd\n",
    "from copy import copy, deepcopy\n",
    "import matplotlib.pyplot as plt\n",
    "\n",
    "# use to extract label info from segment arrays\n",
    "import scipy.ndimage as ndi\n",
    "\n",
    "#\n",
    "import pydicom\n",
    "\n",
    "# \n",
    "import skimage\n",
    "\n",
    "#from skimage.transform import resize\n",
    "import tensorflow as tf"
   ]
  },
  {
   "cell_type": "code",
   "execution_count": 9,
   "metadata": {},
   "outputs": [],
   "source": [
    "input_seg = nrrd.read('/home/amos/3D_UNet_Multi_Class/data/raw/evaluation/Pat_01_s146.nrrd')\n",
    "input_scan = pydicom.dcmread('/home/amos/3D_UNet_Multi_Class/data/raw/evaluation/Pat_01_s146_T1.dcm')"
   ]
  },
  {
   "cell_type": "code",
   "execution_count": 10,
   "metadata": {},
   "outputs": [],
   "source": [
    "# extract data and header\n",
    "seg = input_seg[0]\n",
    "header = input_seg[1]"
   ]
  },
  {
   "cell_type": "code",
   "execution_count": 13,
   "metadata": {},
   "outputs": [
    {
     "name": "stdout",
     "output_type": "stream",
     "text": [
      "(array([[0, 0, 0, ..., 0, 0, 0],\n",
      "       [0, 0, 0, ..., 0, 0, 0],\n",
      "       [0, 0, 0, ..., 0, 0, 0],\n",
      "       ...,\n",
      "       [0, 0, 0, ..., 0, 0, 0],\n",
      "       [0, 0, 0, ..., 0, 0, 0],\n",
      "       [0, 0, 0, ..., 0, 0, 0]], dtype=int16), OrderedDict([('type', 'short'), ('dimension', 2), ('space dimension', 2), ('sizes', array([512, 512])), ('space directions', array([[ 2.92968750e-02, -8.30006288e-14],\n",
      "       [-8.30006288e-14, -2.92968750e-02]])), ('kinds', ['domain', 'domain']), ('endian', 'little'), ('encoding', 'raw'), ('space origin', array([ 1.73062315, 20.4296068 ]))]))\n",
      ".......................................................\n"
     ]
    }
   ],
   "source": [
    "print(input_seg)\n",
    "print('.......................................................')\n",
    "\n",
    "print(seg)\n",
    "print('.......................................................')\n",
    "\n",
    "#print(input_scan.values)\n",
    "#print('.......................................................')\n",
    "\n",
    "#print(input_scan.pixel_array.shape)\n",
    "\n"
   ]
  },
  {
   "cell_type": "code",
   "execution_count": null,
   "metadata": {},
   "outputs": [],
   "source": [
    "print(header)"
   ]
  },
  {
   "cell_type": "code",
   "execution_count": null,
   "metadata": {},
   "outputs": [],
   "source": [
    "print(header['type'])\n",
    "print(header['space dimension'])\n",
    "print(header['space directions'])\n"
   ]
  },
  {
   "cell_type": "code",
   "execution_count": null,
   "metadata": {},
   "outputs": [],
   "source": [
    "# save original image as txt for debugging purposes\n",
    "#np.savetxt('data.txt', seg, fmt='%1u')"
   ]
  },
  {
   "cell_type": "code",
   "execution_count": null,
   "metadata": {},
   "outputs": [],
   "source": [
    "# get all possible classes from nrrd\n",
    "\n",
    "# Method 1\n",
    "classes1 = np.unique(seg)\n",
    "print('classes1' + str(classes1))\n",
    "print(\"..........................\")\n",
    "\n",
    "# Method 2\n",
    "u, ind = np.unique(seg, return_index=True)\n",
    "classes2 = u[np.argsort(ind)]\n",
    "print('classes2 no sort' + str(classes2))\n",
    "# sort classes indexes\n",
    "classes2.sort()\n",
    "print('classes2 wi sort' + str(classes2))\n",
    "\n",
    "# asserting results\n",
    "\n",
    "#assert (classes1 == classes2)\n",
    "np.alltrue(classes1 == classes2)\n",
    "\n",
    "#"
   ]
  },
  {
   "cell_type": "code",
   "execution_count": null,
   "metadata": {},
   "outputs": [],
   "source": [
    "# get number of classes for mevislab\n",
    "class_ = np.unique(seg)\n",
    "num_classes_method1 = class_.size\n",
    "print('segment_values: ' +str(np.unique(seg)))\n",
    "print('num_classes_method1: ' + str(num_classes_method1))\n",
    "print('--------------------')\n",
    "\n",
    "num_classes_method2 = np.max(seg) + 1\n",
    "print('segment_values: ' +str(np.unique(seg)))\n",
    "print('num_classes_method2: ' + str(num_classes_method2))"
   ]
  },
  {
   "cell_type": "code",
   "execution_count": null,
   "metadata": {},
   "outputs": [],
   "source": [
    "# Encoding segmented images\n",
    "\n",
    "# initialize resulting encoded image\n",
    "seg_encoded2 = np.zeros(seg.shape)\n",
    "print('seg_encoded shape is: ' + str(seg_encoded2.shape))\n",
    "\n",
    "# initialize encoded image\n",
    "seg_encoded = np.zeros_like(seg, subok=True)\n",
    "print('seg_encoded2 shape is: ' + str(seg_encoded.shape))\n",
    "\n",
    "# add an additional axis for stacking segments later\n",
    "# seg_encoded = seg_encoded[:,:,np.newaxis]\n",
    "# print(\"seg_encoded new shape: \" + str(seg_encoded.shape))\n",
    "\n",
    "#\n",
    "\n"
   ]
  },
  {
   "cell_type": "code",
   "execution_count": null,
   "metadata": {},
   "outputs": [],
   "source": [
    "# case: just 03 segments\n",
    "\n",
    "# define segment arrays\n",
    "segment_intima = np.where(seg == 1, seg, 0)\n",
    "segment_media = np.where(seg == 2, seg, 0)\n",
    "segment_lumen = np.where(seg == 14, seg, 0)\n",
    "\n",
    "\n"
   ]
  },
  {
   "cell_type": "code",
   "execution_count": null,
   "metadata": {},
   "outputs": [],
   "source": [
    "plt.imshow(segment_media, cmap='gray')\n",
    "plt.title('segment_media')\n",
    "plt.axis('off')\n",
    "plt.show()\n",
    "\n",
    "\n",
    "# Check exisiting classes\n",
    "class_ = np.unique(segment_media)\n",
    "num_classes_method1 = class_.size\n",
    "print('segment_values: ' +str(np.unique(segment_media)))\n",
    "print('num_classes_method1: ' + str(num_classes_method1))\n",
    "print('--------------------')"
   ]
  },
  {
   "cell_type": "code",
   "execution_count": null,
   "metadata": {},
   "outputs": [],
   "source": [
    "plt.imshow(segment_lumen, cmap='gray')\n",
    "plt.axis('off')\n",
    "plt.show()\n",
    "\n",
    "\n",
    "# Check exisiting classes\n",
    "class_ = np.unique(segment_lumen)\n",
    "num_classes_method1 = class_.size\n",
    "print('segment_values: ' +str(np.unique(segment_lumen)))\n",
    "print('num_classes_method1: ' + str(num_classes_method1))\n",
    "print('--------------------')\n"
   ]
  },
  {
   "cell_type": "code",
   "execution_count": null,
   "metadata": {},
   "outputs": [],
   "source": [
    "plt.imshow(segment_intima, cmap='gray')\n",
    "plt.title('segment_intima')\n",
    "plt.axis('off')\n",
    "plt.show()\n",
    "\n",
    "\n",
    "\n",
    "# Check exisiting classes\n",
    "class_ = np.unique(segment_intima)\n",
    "num_classes_method1 = class_.size\n",
    "print('segment_values: ' +str(np.unique(segment_intima)))\n",
    "print('num_classes_method1: ' + str(num_classes_method1))\n",
    "print('--------------------')\n",
    "\n",
    "\n",
    "\n",
    "# One hot encoding\n",
    "# https://stackoverflow.com/questions/36960320/convert-a-2d-matrix-to-a-3d-one-hot-matrix-numpy/36960495#36960495\n",
    "# 0-based indexing\n",
    "seg_ = (np.arange(segment_intima.max()+1) == segment_intima[...,None]).astype(int)\n",
    "print('shape hot_seg_method1: ' + str(seg_.shape))\n",
    "print('segment_hot_values_method1: ' +str(np.unique(seg_)))\n",
    "print('--------------------')\n",
    "\n",
    "\n",
    "# One hot encoding \n",
    "# transform [width, height] into [width, height, number_classes]\n",
    "ncols = segment_intima.max() + 1\n",
    "labels_one_hot = (segment_intima.ravel()[np.newaxis] == np.arange(ncols)[:, np.newaxis]).T\n",
    "labels_one_hot.shape = segment_intima.shape + (ncols, )\n",
    "print('number colums image: ' + str(ncols))\n",
    "print('labels_one_hot shape method2: ' +str(labels_one_hot.shape))\n",
    "print('labels_one_hot_values_method1: ' +str(np.unique(labels_one_hot)))\n",
    "print('--------------------')\n",
    "\n",
    "# there are 2 classes: indexes 0 and 1\n",
    "plt.imshow(labels_one_hot[:,:,0], cmap='gray')\n",
    "plt.title('labels_one_hot')\n",
    "plt.axis('off')\n",
    "plt.show()\n",
    "\n",
    "\n",
    "# resize targets while preserving their boolean nature: [width, height, ncols]\n",
    "seg_resize_reshape = skimage.img_as_bool(\n",
    "                skimage.transform.resize(\n",
    "                    image=labels_one_hot,\n",
    "                    output_shape=(64, 64, ncols)\n",
    "                ))\n",
    "seg_preprocess = seg_resize_reshape.astype(int)\n",
    "\n",
    "print('seg_preprocess shape: ' +str(seg_preprocess.shape))\n",
    "print('seg_preprocess_values: ' +str(np.unique(seg_preprocess)))\n",
    "print('--------------------')\n",
    "\n",
    "#\n",
    "plt.imshow(seg_preprocess[:,:,0], cmap='gray')\n",
    "plt.title('seg_preprocess')\n",
    "plt.axis('off')\n",
    "plt.show()\n",
    "\n",
    "# resize and reshape target image to: [depth, width, height, ncols]\n",
    "list_img = []\n",
    "depth_= 4\n",
    "for i in range(depth_):\n",
    "    list_img.append(seg_preprocess)\n",
    "seg_preprocess_final = np.array(list_img)\n",
    "print('seg_preprocess_final shape: ' +str(seg_preprocess_final.shape))\n",
    "print('seg_preprocess_final_values: ' +str(np.unique(seg_preprocess_final)))\n",
    "print('--------------------')\n",
    "\n",
    "# display all target images\n",
    "for depth__ in range(4):\n",
    "    plt.imshow(seg_preprocess_final[depth__,:,:,0], cmap='gray')\n",
    "    plt.title('seg_preprocess_final')\n",
    "    plt.axis('off')\n",
    "    plt.show()\n",
    "    \n",
    "\n",
    "\n",
    "\n",
    "\n",
    "\n"
   ]
  },
  {
   "cell_type": "code",
   "execution_count": null,
   "metadata": {},
   "outputs": [],
   "source": [
    "# preprocessing target image with the shape: [width, height]\n",
    "seg = deepcopy(seg)\n",
    "\n",
    "# One hot encoding \n",
    "# transform [width, height] into [width, height, number_classes]\n",
    "ncols = seg.max() + 1\n",
    "labels_one_hot = (seg.ravel()[np.newaxis] == np.arange(ncols)[:, np.newaxis]).T\n",
    "labels_one_hot.shape = seg.shape + (ncols, )\n",
    "print('number colums image: ' + str(ncols))\n",
    "print('labels_one_hot shape: ' +str(labels_one_hot.shape))\n",
    "print('labels_one_hot_values: ' +str(np.unique(labels_one_hot)))\n",
    "print('--------------------')\n",
    "\n",
    "# there are 15 classes: indexes 0 to 14\n",
    "plt.imshow(labels_one_hot[:,:,14], cmap='gray')\n",
    "plt.title('labels_one_hot')\n",
    "plt.axis('off')\n",
    "plt.show()\n",
    "\n",
    "\n",
    "# resize targets while preserving their boolean nature: [width, height, ncols]\n",
    "seg_resize_reshape = skimage.img_as_bool(\n",
    "                skimage.transform.resize(\n",
    "                    image=labels_one_hot,\n",
    "                    output_shape=(128, 128, ncols)\n",
    "                ))\n",
    "seg_preprocess = seg_resize_reshape.astype(int)\n",
    "print('seg_preprocess shape: ' +str(seg_preprocess.shape))\n",
    "print('seg_preprocess_values: ' +str(np.unique(seg_preprocess)))\n",
    "print('--------------------')\n",
    "\n",
    "\n",
    "# for classes: 0,1,2,...,14\n",
    "plt.imshow(seg_preprocess[:,:,14], cmap='gray')\n",
    "plt.title('seg_preprocess')\n",
    "plt.axis('off')\n",
    "plt.show()\n",
    "\n",
    "\n",
    "# resize and reshape target image to: [depth, width, height, ncols]\n",
    "list_img = []\n",
    "depth_= 4\n",
    "for i in range(depth_):\n",
    "    list_img.append(seg_preprocess)\n",
    "seg_preprocess_final = np.array(list_img)\n",
    "\n",
    "print('seg_preprocess_final shape: ' +str(seg_preprocess_final.shape))\n",
    "print('seg_preprocess_final_values: ' +str(np.unique(seg_preprocess_final)))\n",
    "print('--------------------')\n",
    "\n",
    "\n",
    "# display all target images for classes: 0,1,2,...,14\n",
    "for depth__ in range(4):\n",
    "    plt.imshow(seg_preprocess_final[depth__,:,:,0], cmap='gray')\n",
    "    plt.title('seg_preprocess_final')\n",
    "    plt.axis('off')\n",
    "    plt.show()\n"
   ]
  },
  {
   "cell_type": "code",
   "execution_count": null,
   "metadata": {},
   "outputs": [],
   "source": [
    "# One-Hot-Encoded segmented File\n",
    "\n",
    "# seg = deepcopy(seg)\n",
    "# ncols = np.max(seg) + 1\n",
    "# print(ncols)\n",
    "\n",
    "#classes = np.unique(seg)\n",
    "# get number of classes from seg files\n",
    "#num_classes = classes.size\n",
    "# num_classes2 = np.max(seg) + 1\n",
    "# print('number of classes are: ' +str(num_classes2))\n",
    "\n",
    "# # initialize resulting encoded image\n",
    "# seg_encoded = np.zeros_like(seg, subok=True)\n",
    "            \n",
    "# # add new axis for stacking segments later\n",
    "# #seg_encoded = seg_encoded[:,:,np.newaxis]\n",
    "                       \n",
    "# # define segments arrays\n",
    "# segment_background = np.where(seg == 0, 1, 0)\n",
    "# segment_intima = np.where(seg == 1, seg, 0)\n",
    "# segment_media = np.where(seg == 2, seg, 0)\n",
    "# segment_3 = np.where(seg == 3, seg, 0)\n",
    "# segment_4 = np.where(seg == 4, seg, 0)\n",
    "# segment_5 = np.where(seg == 5, seg, 0)\n",
    "# segment_6 = np.where(seg == 6, seg, 0)\n",
    "# segment_7 = np.where(seg == 7, seg, 0)\n",
    "# segment_8 = np.where(seg == 8, seg, 0)\n",
    "# segment_9 = np.where(seg == 9, seg, 0)\n",
    "# segment_10 = np.where(seg == 10, seg, 0)\n",
    "# segment_11 = np.where(seg == 11, seg, 0)\n",
    "# segment_12 = np.where(seg == 12, seg, 0)\n",
    "# segment_13 = np.where(seg == 13, seg, 0)\n",
    "# segment_lumen = np.where(seg == 14, seg, 0)\n",
    "            \n",
    "# # stack segments\n",
    "# #seg_background = np.where(seg==0, 1, 0)\n",
    "# #seg_lumen = np.where(seg==14, seg, 0 ) \n",
    "# #seg = np.stack((seg_background, seg_lumen), axis=2)\n",
    "# # seg_encoded = np.stack((segment_background,segment_intima,segment_media,segment_3,segment_4,segment_5,segment_6,segment_7,segment_8,segment_9,segment_10,segment_11,segment_12,segment_13,segment_lumen), axis=2)\n",
    "# # print('segment shape in: ' + str(seg_encoded.shape))\n",
    "\n",
    "\n"
   ]
  },
  {
   "cell_type": "code",
   "execution_count": null,
   "metadata": {},
   "outputs": [],
   "source": [
    "# How to visualize a One_Hot_Encoded_Individual_segment\n",
    "\n",
    "# for class_idx in range(15):\n",
    "#     segment = seg_encoded2[:, :, class_idx]\n",
    "#     plt.imshow(segment, cmap='rainbow')\n",
    "#     plt.axis('off')\n",
    "#     plt.show()\n",
    "\n",
    "\n",
    "# segment = seg[:,:,:,14]\n",
    "# plt.imshow(segment, cmap='gray')\n",
    "# plt.axis('off')\n",
    "# plt.show()\n",
    "\n",
    "# segment = seg[0][:,:,14]\n",
    "# plt.imshow(segment, cmap='gray')\n",
    "# plt.axis('off')\n",
    "# plt.show()\n"
   ]
  },
  {
   "cell_type": "code",
   "execution_count": null,
   "metadata": {},
   "outputs": [],
   "source": [
    "# # segment pipeline: filter--> mask---> ndi.label() to label each object--> morphological operation\n",
    "# seg_filter = ndi.gaussian_filter(seg, sigma = 2)\n",
    "# segment_intima = np.where(seg == 14, seg_filter, 0)\n",
    "# labels, nlabels = ndi.label(segment_intima)\n",
    "# print('labels name: ' + str(labels))\n",
    "# print('nlabels: ' + str(nlabels))\n",
    "# plt.imshow(labels, cmap='gray')\n",
    "# plt.axis('off')\n",
    "# plt.show()"
   ]
  },
  {
   "cell_type": "code",
   "execution_count": null,
   "metadata": {},
   "outputs": [],
   "source": [
    "# # Plot the labels array on top of the original image.\n",
    "# overlay = np.where(labels > 0, labels, np.nan)\n",
    "# plt.imshow(overlay, cmap='rainbow')\n",
    "# plt.axis('off')\n",
    "# plt.show()"
   ]
  },
  {
   "cell_type": "code",
   "execution_count": null,
   "metadata": {},
   "outputs": [],
   "source": [
    "# # select and plot a label from image\n",
    "# single_label = np.where(labels==1, seg, 0)\n",
    "# plt.imshow(single_label, cmap='gray')\n",
    "# plt.axis('off')\n",
    "# plt.show()"
   ]
  },
  {
   "cell_type": "code",
   "execution_count": null,
   "metadata": {},
   "outputs": [],
   "source": [
    "# fig, axes = plt.subplots(nrows=1, ncols=3)\n",
    "# axes[0].imshow(segment_intima, cmap='gray')\n",
    "# axes[1].imshow(segment_media, cmap='gray')\n",
    "# axes[2].imshow(segment_lumen, cmap='gray')\n",
    "# plt.axis('off')\n",
    "# plt.show()"
   ]
  },
  {
   "cell_type": "code",
   "execution_count": null,
   "metadata": {},
   "outputs": [],
   "source": [
    "# # Get the histogram of bone intensities\n",
    "# hist = ndi.histogram(segment_intima, min=0, max=255, bins=256)\n",
    "\n",
    "# # Plot masked image and histogram\n",
    "# fig, axes = plt.subplots(2,1)\n",
    "# axes[0].imshow(segment_intima)\n",
    "# axes[1].plot(hist)\n",
    "# #format_and_render_plot()"
   ]
  },
  {
   "cell_type": "code",
   "execution_count": null,
   "metadata": {},
   "outputs": [],
   "source": [
    "# print('seg_encoded stacked segments shape is: ' + str(seg_encoded.shape))\n",
    "# seg_encoded.shape[0]\n",
    "# seg_encoded.shape[1]\n",
    "# seg_encoded.shape[2]\n"
   ]
  },
  {
   "cell_type": "code",
   "execution_count": null,
   "metadata": {},
   "outputs": [],
   "source": [
    "# # resulting encoded image in shape [depth, width, height, num_classes]\n",
    "# depth = 5\n",
    "\n",
    "# seg_encoded_resize = skimage.transform.resize(\n",
    "#                     image=seg_encoded,\n",
    "#                     output_shape=(depth, seg_encoded.shape[0], seg_encoded.shape[1], num_classes))\n",
    "\n",
    "# scan_resized = skimage.transform.resize(\n",
    "#                image = input_scan.pixel_array,\n",
    "#                output_shape = (depth, input_scan.pixel_array.shape[0], input_scan.pixel_array.shape[1]))\n"
   ]
  },
  {
   "cell_type": "code",
   "execution_count": null,
   "metadata": {},
   "outputs": [],
   "source": [
    "# print('seg_encoded resized segments shape is: ' + str(seg_encoded_resize.shape))\n",
    "# print('scan_encoded resized shape is: ' + str(scan_resized.shape))\n",
    "# print('----------------------------------------------------------------')\n",
    "# print('Segment_Values: ' + str(np.unique(seg_encoded_resize)))\n",
    "# print('Scan_Values: ' + str(np.unique(scan_resized)))"
   ]
  },
  {
   "cell_type": "markdown",
   "metadata": {},
   "source": [
    "## Visualization of Dicom Scan and Resize One Hot Encoded Files"
   ]
  },
  {
   "cell_type": "code",
   "execution_count": null,
   "metadata": {},
   "outputs": [],
   "source": [
    "\n",
    "# # Plot only dicom scan alone\n",
    "# plt.imshow(input_scan.pixel_array, cmap = plt.cm.bone)\n",
    "# print(np.unique(input_scan.pixel_array))"
   ]
  },
  {
   "cell_type": "code",
   "execution_count": null,
   "metadata": {},
   "outputs": [],
   "source": [
    "# #\n",
    "\n",
    "# # Plot only dicom scan alone\n",
    "# plt.imshow(input_scan.pixel_array, cmap = plt.cm.bone)\n",
    "# print(np.unique(input_scan.pixel_array))"
   ]
  },
  {
   "cell_type": "code",
   "execution_count": null,
   "metadata": {},
   "outputs": [],
   "source": [
    "# #\n",
    "\n",
    "# # print seg file shapes \n",
    "# print('seg_encoded segments shape is: ' + str(seg_encoded.shape))\n",
    "# print('seg_encoded resized segments shape is: ' + str(seg_encoded_resize.shape))\n",
    "# print('scan_encoded resized shape is: ' + str(scan_resized.shape))"
   ]
  },
  {
   "cell_type": "code",
   "execution_count": null,
   "metadata": {},
   "outputs": [],
   "source": [
    "# #\n",
    "\n",
    "# # concatenate scan and seg files\n",
    "# scan = scan_resized\n",
    "# seg  = seg_encoded_resize[0] * 10000\n",
    "\n",
    "# print(scan_resized.shape, seg_encoded_resize[0].shape)\n",
    "# print(input_scan.pixel_array.shape, seg.shape)\n",
    "# print(input_scan.pixel_array.shape, seg[:,:,1].shape)"
   ]
  },
  {
   "cell_type": "code",
   "execution_count": null,
   "metadata": {},
   "outputs": [],
   "source": [
    "# #\n",
    "\n",
    "# #print pixel values in dicom scan and nrrd file\n",
    "# print(np.unique(seg_encoded_resize[0]))\n",
    "# print(np.unique(input_scan.pixel_array))\n",
    "# print(np.unique(input_seg[0]))\n",
    "\n",
    "# seg1 = input_seg[0]*10000\n"
   ]
  },
  {
   "cell_type": "code",
   "execution_count": null,
   "metadata": {},
   "outputs": [],
   "source": [
    "# fig, ax = plt.subplots()\n",
    "# #img = input_scan.pixel_array\n",
    "# #for class_idx in range(15):\n",
    "# #img = np.hstack([seg[:,:,14], input_scan.pixel_array])\n",
    "# img = np.hstack([input_scan.pixel_array, seg1])\n",
    "# plt.imshow(img, cmap=plt.cm.bone)\n",
    "# display(fig)\n",
    "# plt.axis('off')\n",
    "# plt.show()\n",
    "\n"
   ]
  },
  {
   "cell_type": "markdown",
   "metadata": {},
   "source": [
    "## Reshape tensor using list and numpy.array"
   ]
  },
  {
   "cell_type": "code",
   "execution_count": null,
   "metadata": {},
   "outputs": [],
   "source": [
    "# print('seg_encoded shape is: ' +str(seg_encoded.shape))"
   ]
  },
  {
   "cell_type": "code",
   "execution_count": null,
   "metadata": {},
   "outputs": [],
   "source": [
    "# seg_encoded_copy = deepcopy(seg_encoded)\n",
    "# depth = 4\n",
    "# list_img = []\n",
    "\n",
    "# for i in range(depth):\n",
    "#     list_img.append(seg_encoded_copy)\n",
    "    \n",
    "# print('size list_images: ' + str(list_img[0].shape))\n",
    "# print('size list_images: ' + str(list_img[1].shape))\n",
    "# print('size list_images: ' + str(list_img[2].shape))\n",
    "# print('size list_images: ' + str(list_img[3].shape))\n",
    "# #print('size list_images: ' + str(list_img[4].shape))\n",
    "    "
   ]
  },
  {
   "cell_type": "code",
   "execution_count": null,
   "metadata": {},
   "outputs": [],
   "source": [
    "# seg_encoded_new = np.array(list_img)"
   ]
  },
  {
   "cell_type": "code",
   "execution_count": null,
   "metadata": {},
   "outputs": [],
   "source": [
    "# seg_encoded_new.shape"
   ]
  },
  {
   "cell_type": "code",
   "execution_count": null,
   "metadata": {},
   "outputs": [],
   "source": [
    "# seg_encoded_new[0].shape"
   ]
  },
  {
   "cell_type": "code",
   "execution_count": null,
   "metadata": {},
   "outputs": [],
   "source": [
    "# print(np.unique(seg_encoded_new[0]))\n",
    "# print(np.unique(input_scan.pixel_array))"
   ]
  },
  {
   "cell_type": "code",
   "execution_count": null,
   "metadata": {},
   "outputs": [],
   "source": [
    "# seg1 = seg_encoded_new[0]*10000\n",
    "\n",
    "# #img = input_scan.pixel_array\n",
    "# #for class_idx in range(15):\n",
    "# #img = np.hstack([seg[:,:,14], iAnput_scan.pixel_array])0"
   ]
  },
  {
   "cell_type": "code",
   "execution_count": null,
   "metadata": {},
   "outputs": [],
   "source": [
    "# fig, ax = plt.subplots()\n",
    "\n",
    "# for class_idx in range(15): \n",
    "#     img = np.hstack([input_scan.pixel_array, seg1[:,:,class_idx]])\n",
    "#     plt.imshow(img, cmap='gray')\n",
    "#     display(fig)\n",
    "#     plt.axis('off')\n",
    "#     plt.show()"
   ]
  }
 ],
 "metadata": {
  "kernelspec": {
   "display_name": "Python 3",
   "language": "python",
   "name": "python3"
  },
  "language_info": {
   "codemirror_mode": {
    "name": "ipython",
    "version": 3
   },
   "file_extension": ".py",
   "mimetype": "text/x-python",
   "name": "python",
   "nbconvert_exporter": "python",
   "pygments_lexer": "ipython3",
   "version": "3.6.8"
  }
 },
 "nbformat": 4,
 "nbformat_minor": 2
}
