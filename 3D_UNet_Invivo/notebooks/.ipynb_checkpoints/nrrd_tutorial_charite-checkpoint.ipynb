{
 "cells": [
  {
   "cell_type": "code",
   "execution_count": 1,
   "metadata": {},
   "outputs": [],
   "source": [
    "import nrrd\n",
    "import glob\n",
    "import re\n",
    "import os\n",
    "import numpy as np\n",
    "import pandas as pd\n",
    "from copy import copy, deepcopy\n",
    "import matplotlib.pyplot as plt\n",
    "from PIL import Image\n",
    "\n",
    "# use to extract label info from segment arrays\n",
    "import scipy.ndimage as ndi\n",
    "\n",
    "#\n",
    "import pydicom\n",
    "\n",
    "# \n",
    "import skimage\n",
    "\n",
    "#from skimage.transform import resize\n",
    "import tensorflow as tf"
   ]
  },
  {
   "cell_type": "code",
   "execution_count": null,
   "metadata": {},
   "outputs": [],
   "source": []
  },
  {
   "cell_type": "code",
   "execution_count": 63,
   "metadata": {},
   "outputs": [],
   "source": [
    "# get file paths to DICOM MRI scans and segmentation images\n",
    "scan_files = glob.glob('../data/raw/test/**/*.dcm', recursive=True)\n",
    "seg_files = glob.glob('../data/raw/test/**/*.nrrd', recursive=True)"
   ]
  },
  {
   "cell_type": "code",
   "execution_count": 93,
   "metadata": {},
   "outputs": [
    {
     "ename": "AttributeError",
     "evalue": "'dict' object has no attribute 'append'",
     "output_type": "error",
     "traceback": [
      "\u001b[0;31m---------------------------------------------------------------------------\u001b[0m",
      "\u001b[0;31mAttributeError\u001b[0m                            Traceback (most recent call last)",
      "\u001b[0;32m<ipython-input-93-0f421df6e881>\u001b[0m in \u001b[0;36m<module>\u001b[0;34m\u001b[0m\n\u001b[1;32m     16\u001b[0m \u001b[0;32mfor\u001b[0m \u001b[0ms\u001b[0m \u001b[0;32min\u001b[0m \u001b[0mseg_files\u001b[0m\u001b[0;34m:\u001b[0m\u001b[0;34m\u001b[0m\u001b[0;34m\u001b[0m\u001b[0m\n\u001b[1;32m     17\u001b[0m     \u001b[0mds\u001b[0m \u001b[0;34m=\u001b[0m \u001b[0mnrrd\u001b[0m\u001b[0;34m.\u001b[0m\u001b[0mread\u001b[0m\u001b[0;34m(\u001b[0m\u001b[0ms\u001b[0m\u001b[0;34m)\u001b[0m\u001b[0;34m\u001b[0m\u001b[0;34m\u001b[0m\u001b[0m\n\u001b[0;32m---> 18\u001b[0;31m     \u001b[0msegs\u001b[0m\u001b[0;34m.\u001b[0m\u001b[0mappend\u001b[0m\u001b[0;34m(\u001b[0m\u001b[0mds\u001b[0m\u001b[0;34m)\u001b[0m\u001b[0;34m\u001b[0m\u001b[0;34m\u001b[0m\u001b[0m\n\u001b[0m\u001b[1;32m     19\u001b[0m \u001b[0;34m\u001b[0m\u001b[0m\n",
      "\u001b[0;31mAttributeError\u001b[0m: 'dict' object has no attribute 'append'"
     ]
    }
   ],
   "source": [
    "scans = [pydicom.dcmread(scan) for scan in scan_files]\n",
    "\n",
    "segs = {\n",
    "            seg.split('/')[-1]: nrrd.read(seg)[0] for seg in seg_files}\n",
    "\n",
    "segs_dict = {\n",
    "            seg.split('/')[-1]: nrrd.read(seg)[0] for seg in seg_files}\n",
    "\n",
    "\n",
    "\n",
    "#segs_list = [nrrd.read(seg) for seg in seg_files]\n",
    "\n",
    "\n",
    "segs_list = list()\n",
    "        \n",
    "for s in seg_files:\n",
    "    ds = nrrd.read(s)\n",
    "    segs.append(ds)\n",
    "        "
   ]
  },
  {
   "cell_type": "code",
   "execution_count": 65,
   "metadata": {},
   "outputs": [],
   "source": [
    "#print(segs_list)\n",
    "\n",
    "#print(segs)\n",
    "\n",
    "#print(scans)"
   ]
  },
  {
   "cell_type": "code",
   "execution_count": 91,
   "metadata": {},
   "outputs": [
    {
     "name": "stdout",
     "output_type": "stream",
     "text": [
      "0 (array([[0, 0, 0, ..., 0, 0, 0],\n",
      "       [0, 0, 0, ..., 0, 0, 0],\n",
      "       [0, 0, 0, ..., 0, 0, 0],\n",
      "       ...,\n",
      "       [0, 0, 0, ..., 0, 0, 0],\n",
      "       [0, 0, 0, ..., 0, 0, 0],\n",
      "       [0, 0, 0, ..., 0, 0, 0]], dtype=int16), OrderedDict([('type', 'short'), ('dimension', 2), ('space dimension', 2), ('sizes', array([512, 512])), ('space directions', array([[-2.92968750e-02, -8.30006288e-14],\n",
      "       [ 8.30006288e-14, -2.92968750e-02]])), ('kinds', ['domain', 'domain']), ('endian', 'little'), ('encoding', 'raw'), ('space origin', array([11.12974305, 26.43008215]))]))\n"
     ]
    },
    {
     "data": {
      "image/png": "[encoded data removed]",
      "text/plain": [
       "<Figure size 432x288 with 1 Axes>"
      ]
     },
     "metadata": {
      "needs_background": "light"
     },
     "output_type": "display_data"
    },
    {
     "name": "stdout",
     "output_type": "stream",
     "text": [
      "1 (array([[0, 0, 0, ..., 0, 0, 0],\n",
      "       [0, 0, 0, ..., 0, 0, 0],\n",
      "       [0, 0, 0, ..., 0, 0, 0],\n",
      "       ...,\n",
      "       [0, 0, 0, ..., 0, 0, 0],\n",
      "       [0, 0, 0, ..., 0, 0, 0],\n",
      "       [0, 0, 0, ..., 0, 0, 0]], dtype=int16), OrderedDict([('type', 'short'), ('dimension', 2), ('space dimension', 2), ('sizes', array([512, 512])), ('space directions', array([[-2.92968750e-02, -8.30006288e-14],\n",
      "       [ 8.30006288e-14, -2.92968750e-02]])), ('kinds', ['domain', 'domain']), ('endian', 'little'), ('encoding', 'raw'), ('space origin', array([11.85435521, 26.49062048]))]))\n"
     ]
    },
    {
     "data": {
      "image/png": "[encoded data removed]",
      "text/plain": [
       "<Figure size 432x288 with 1 Axes>"
      ]
     },
     "metadata": {
      "needs_background": "light"
     },
     "output_type": "display_data"
    },
    {
     "name": "stdout",
     "output_type": "stream",
     "text": [
      "2 (array([[0, 0, 0, ..., 0, 0, 0],\n",
      "       [0, 0, 0, ..., 0, 0, 0],\n",
      "       [0, 0, 0, ..., 0, 0, 0],\n",
      "       ...,\n",
      "       [0, 0, 0, ..., 0, 0, 0],\n",
      "       [0, 0, 0, ..., 0, 0, 0],\n",
      "       [0, 0, 0, ..., 0, 0, 0]], dtype=int16), OrderedDict([('type', 'short'), ('dimension', 2), ('space dimension', 2), ('sizes', array([512, 512])), ('space directions', array([[-2.92968750e-02, -8.30006288e-14],\n",
      "       [ 8.30006288e-14, -2.92968750e-02]])), ('kinds', ['domain', 'domain']), ('endian', 'little'), ('encoding', 'raw'), ('space origin', array([13.18134059, 13.2470785 ]))]))\n"
     ]
    },
    {
     "data": {
      "image/png": "[encoded data removed]",
      "text/plain": [
       "<Figure size 432x288 with 1 Axes>"
      ]
     },
     "metadata": {
      "needs_background": "light"
     },
     "output_type": "display_data"
    },
    {
     "name": "stdout",
     "output_type": "stream",
     "text": [
      "3 (array([[0, 0, 0, ..., 0, 0, 0],\n",
      "       [0, 0, 0, ..., 0, 0, 0],\n",
      "       [0, 0, 0, ..., 0, 0, 0],\n",
      "       ...,\n",
      "       [0, 0, 0, ..., 0, 0, 0],\n",
      "       [0, 0, 0, ..., 0, 0, 0],\n",
      "       [0, 0, 0, ..., 0, 0, 0]], dtype=int16), OrderedDict([('type', 'short'), ('dimension', 2), ('space dimension', 2), ('sizes', array([512, 512])), ('space directions', array([[-2.92968750e-02, -8.30006288e-14],\n",
      "       [ 8.30006288e-14, -2.92968750e-02]])), ('kinds', ['domain', 'domain']), ('endian', 'little'), ('encoding', 'raw'), ('space origin', array([13.26537103, 13.81988327]))]))\n"
     ]
    },
    {
     "data": {
      "image/png": "[encoded data removed]",
      "text/plain": [
       "<Figure size 432x288 with 1 Axes>"
      ]
     },
     "metadata": {
      "needs_background": "light"
     },
     "output_type": "display_data"
    },
    {
     "name": "stdout",
     "output_type": "stream",
     "text": [
      "4 (array([[0, 0, 0, ..., 0, 0, 0],\n",
      "       [0, 0, 0, ..., 0, 0, 0],\n",
      "       [0, 0, 0, ..., 0, 0, 0],\n",
      "       ...,\n",
      "       [0, 0, 0, ..., 0, 0, 0],\n",
      "       [0, 0, 0, ..., 0, 0, 0],\n",
      "       [0, 0, 0, ..., 0, 0, 0]], dtype=int16), OrderedDict([('type', 'short'), ('dimension', 2), ('space dimension', 2), ('sizes', array([512, 512])), ('space directions', array([[-2.92968750e-02, -8.30006288e-14],\n",
      "       [ 8.30006288e-14, -2.92968750e-02]])), ('kinds', ['domain', 'domain']), ('endian', 'little'), ('encoding', 'raw'), ('space origin', array([11.92308355, 26.86008657]))]))\n"
     ]
    },
    {
     "data": {
      "image/png": "[encoded data removed]",
      "text/plain": [
       "<Figure size 432x288 with 1 Axes>"
      ]
     },
     "metadata": {
      "needs_background": "light"
     },
     "output_type": "display_data"
    },
    {
     "name": "stdout",
     "output_type": "stream",
     "text": [
      "5 (array([[0, 0, 0, ..., 0, 0, 0],\n",
      "       [0, 0, 0, ..., 0, 0, 0],\n",
      "       [0, 0, 0, ..., 0, 0, 0],\n",
      "       ...,\n",
      "       [0, 0, 0, ..., 0, 0, 0],\n",
      "       [0, 0, 0, ..., 0, 0, 0],\n",
      "       [0, 0, 0, ..., 0, 0, 0]], dtype=int16), OrderedDict([('type', 'short'), ('dimension', 2), ('space dimension', 2), ('sizes', array([512, 512])), ('space directions', array([[-2.92968750e-02, -8.30006288e-14],\n",
      "       [ 8.30006288e-14, -2.92968750e-02]])), ('kinds', ['domain', 'domain']), ('endian', 'little'), ('encoding', 'raw'), ('space origin', array([13.4320792, 26.4668611]))]))\n"
     ]
    },
    {
     "data": {
      "image/png": "[encoded data removed]",
      "text/plain": [
       "<Figure size 432x288 with 1 Axes>"
      ]
     },
     "metadata": {
      "needs_background": "light"
     },
     "output_type": "display_data"
    },
    {
     "name": "stdout",
     "output_type": "stream",
     "text": [
      "6 (array([[0, 0, 0, ..., 0, 0, 0],\n",
      "       [0, 0, 0, ..., 0, 0, 0],\n",
      "       [0, 0, 0, ..., 0, 0, 0],\n",
      "       ...,\n",
      "       [0, 0, 0, ..., 0, 0, 0],\n",
      "       [0, 0, 0, ..., 0, 0, 0],\n",
      "       [0, 0, 0, ..., 0, 0, 0]], dtype=int16), OrderedDict([('type', 'short'), ('dimension', 2), ('space dimension', 2), ('sizes', array([512, 512])), ('space directions', array([[-2.92968750e-02, -8.30006288e-14],\n",
      "       [ 8.30006288e-14, -2.92968750e-02]])), ('kinds', ['domain', 'domain']), ('endian', 'little'), ('encoding', 'raw'), ('space origin', array([11.88071105, 25.21409617]))]))\n"
     ]
    },
    {
     "data": {
      "image/png": "[encoded data removed]",
      "text/plain": [
       "<Figure size 432x288 with 1 Axes>"
      ]
     },
     "metadata": {
      "needs_background": "light"
     },
     "output_type": "display_data"
    },
    {
     "name": "stdout",
     "output_type": "stream",
     "text": [
      "7 (array([[0, 0, 0, ..., 0, 0, 0],\n",
      "       [0, 0, 0, ..., 0, 0, 0],\n",
      "       [0, 0, 0, ..., 0, 0, 0],\n",
      "       ...,\n",
      "       [0, 0, 0, ..., 0, 0, 0],\n",
      "       [0, 0, 0, ..., 0, 0, 0],\n",
      "       [0, 0, 0, ..., 0, 0, 0]], dtype=int16), OrderedDict([('type', 'short'), ('dimension', 2), ('space dimension', 2), ('sizes', array([512, 512])), ('space directions', array([[-2.92968750e-02, -8.30006288e-14],\n",
      "       [ 8.30006288e-14, -2.92968750e-02]])), ('kinds', ['domain', 'domain']), ('endian', 'little'), ('encoding', 'raw'), ('space origin', array([11.97613273, 25.28761757]))]))\n"
     ]
    },
    {
     "data": {
      "image/png": "[encoded data removed]",
      "text/plain": [
       "<Figure size 432x288 with 1 Axes>"
      ]
     },
     "metadata": {
      "needs_background": "light"
     },
     "output_type": "display_data"
    },
    {
     "name": "stdout",
     "output_type": "stream",
     "text": [
      "8 (array([[0, 0, 0, ..., 0, 0, 0],\n",
      "       [0, 0, 0, ..., 0, 0, 0],\n",
      "       [0, 0, 0, ..., 0, 0, 0],\n",
      "       ...,\n",
      "       [0, 0, 0, ..., 0, 0, 0],\n",
      "       [0, 0, 0, ..., 0, 0, 0],\n",
      "       [0, 0, 0, ..., 0, 0, 0]], dtype=int16), OrderedDict([('type', 'short'), ('dimension', 2), ('space dimension', 2), ('sizes', array([512, 512])), ('space directions', array([[-2.92968750e-02, -8.30006288e-14],\n",
      "       [ 8.30006288e-14, -2.92968750e-02]])), ('kinds', ['domain', 'domain']), ('endian', 'little'), ('encoding', 'raw'), ('space origin', array([12.80883154, 13.16181537]))]))\n"
     ]
    },
    {
     "data": {
      "image/png": "[encoded data removed]",
      "text/plain": [
       "<Figure size 432x288 with 1 Axes>"
      ]
     },
     "metadata": {
      "needs_background": "light"
     },
     "output_type": "display_data"
    },
    {
     "name": "stdout",
     "output_type": "stream",
     "text": [
      "9 (array([[0, 0, 0, ..., 0, 0, 0],\n",
      "       [0, 0, 0, ..., 0, 0, 0],\n",
      "       [0, 0, 0, ..., 0, 0, 0],\n",
      "       ...,\n",
      "       [0, 0, 0, ..., 0, 0, 0],\n",
      "       [0, 0, 0, ..., 0, 0, 0],\n",
      "       [0, 0, 0, ..., 0, 0, 0]], dtype=int16), OrderedDict([('type', 'short'), ('dimension', 2), ('space dimension', 2), ('sizes', array([512, 512])), ('space directions', array([[ 2.92968750e-02, -8.30006288e-14],\n",
      "       [-8.30006288e-14, -2.92968750e-02]])), ('kinds', ['domain', 'domain']), ('endian', 'little'), ('encoding', 'raw'), ('space origin', array([-2.98501183, 26.75659783]))]))\n"
     ]
    },
    {
     "data": {
      "image/png": "[encoded data removed]",
      "text/plain": [
       "<Figure size 432x288 with 1 Axes>"
      ]
     },
     "metadata": {
      "needs_background": "light"
     },
     "output_type": "display_data"
    },
    {
     "name": "stdout",
     "output_type": "stream",
     "text": [
      "10 (array([[0, 0, 0, ..., 0, 0, 0],\n",
      "       [0, 0, 0, ..., 0, 0, 0],\n",
      "       [0, 0, 0, ..., 0, 0, 0],\n",
      "       ...,\n",
      "       [0, 0, 0, ..., 0, 0, 0],\n",
      "       [0, 0, 0, ..., 0, 0, 0],\n",
      "       [0, 0, 0, ..., 0, 0, 0]], dtype=int16), OrderedDict([('type', 'short'), ('dimension', 2), ('space dimension', 2), ('sizes', array([512, 512])), ('space directions', array([[-2.92968750e-02, -8.30006288e-14],\n",
      "       [ 8.30006288e-14, -2.92968750e-02]])), ('kinds', ['domain', 'domain']), ('endian', 'little'), ('encoding', 'raw'), ('space origin', array([11.37961692, 26.79260922]))]))\n"
     ]
    },
    {
     "data": {
      "image/png": "[encoded data removed]",
      "text/plain": [
       "<Figure size 432x288 with 1 Axes>"
      ]
     },
     "metadata": {
      "needs_background": "light"
     },
     "output_type": "display_data"
    }
   ],
   "source": [
    "# Visualize list of segmentation files\n",
    "#\n",
    "#\n",
    "for i, seg in enumerate(segs_list):\n",
    "    print(i, seg)\n",
    "    plt.imshow(seg[0], cmap='gray')\n",
    "    plt.axis('off')\n",
    "    plt.show()"
   ]
  },
  {
   "cell_type": "code",
   "execution_count": 6,
   "metadata": {},
   "outputs": [
    {
     "name": "stdout",
     "output_type": "stream",
     "text": [
      "Pat_10_s96.nrrd\n"
     ]
    },
    {
     "data": {
      "image/png": "[encoded data removed]",
      "text/plain": [
       "<Figure size 432x288 with 1 Axes>"
      ]
     },
     "metadata": {
      "needs_background": "light"
     },
     "output_type": "display_data"
    },
    {
     "name": "stdout",
     "output_type": "stream",
     "text": [
      "Pat_10_s118.nrrd\n"
     ]
    },
    {
     "data": {
      "image/png": "[encoded data removed]",
      "text/plain": [
       "<Figure size 432x288 with 1 Axes>"
      ]
     },
     "metadata": {
      "needs_background": "light"
     },
     "output_type": "display_data"
    },
    {
     "name": "stdout",
     "output_type": "stream",
     "text": [
      "Pat_09_s110.nrrd\n"
     ]
    },
    {
     "data": {
      "image/png": "[encoded data removed]",
      "text/plain": [
       "<Figure size 432x288 with 1 Axes>"
      ]
     },
     "metadata": {
      "needs_background": "light"
     },
     "output_type": "display_data"
    },
    {
     "name": "stdout",
     "output_type": "stream",
     "text": [
      "Pat_09_s167.nrrd\n"
     ]
    },
    {
     "data": {
      "image/png": "[encoded data removed]",
      "text/plain": [
       "<Figure size 432x288 with 1 Axes>"
      ]
     },
     "metadata": {
      "needs_background": "light"
     },
     "output_type": "display_data"
    },
    {
     "name": "stdout",
     "output_type": "stream",
     "text": [
      "Pat_10_s125.nrrd\n"
     ]
    },
    {
     "data": {
      "image/png": "[encoded data removed]",
      "text/plain": [
       "<Figure size 432x288 with 1 Axes>"
      ]
     },
     "metadata": {
      "needs_background": "light"
     },
     "output_type": "display_data"
    },
    {
     "name": "stdout",
     "output_type": "stream",
     "text": [
      "Pat_10_s196.nrrd\n"
     ]
    },
    {
     "data": {
      "image/png": "[encoded data removed]",
      "text/plain": [
       "<Figure size 432x288 with 1 Axes>"
      ]
     },
     "metadata": {
      "needs_background": "light"
     },
     "output_type": "display_data"
    },
    {
     "name": "stdout",
     "output_type": "stream",
     "text": [
      "Pat_10_s74.nrrd\n"
     ]
    },
    {
     "data": {
      "image/png": "[encoded data removed]",
      "text/plain": [
       "<Figure size 432x288 with 1 Axes>"
      ]
     },
     "metadata": {
      "needs_background": "light"
     },
     "output_type": "display_data"
    },
    {
     "name": "stdout",
     "output_type": "stream",
     "text": [
      "Pat_10_s76.nrrd\n"
     ]
    },
    {
     "data": {
      "image/png": "[encoded data removed]",
      "text/plain": [
       "<Figure size 432x288 with 1 Axes>"
      ]
     },
     "metadata": {
      "needs_background": "light"
     },
     "output_type": "display_data"
    },
    {
     "name": "stdout",
     "output_type": "stream",
     "text": [
      "Pat_09_s117.nrrd\n"
     ]
    },
    {
     "data": {
      "image/png": "[encoded data removed]",
      "text/plain": [
       "<Figure size 432x288 with 1 Axes>"
      ]
     },
     "metadata": {
      "needs_background": "light"
     },
     "output_type": "display_data"
    },
    {
     "name": "stdout",
     "output_type": "stream",
     "text": [
      "Pat_10_s135.nrrd\n"
     ]
    },
    {
     "data": {
      "image/png": "[encoded data removed]",
      "text/plain": [
       "<Figure size 432x288 with 1 Axes>"
      ]
     },
     "metadata": {
      "needs_background": "light"
     },
     "output_type": "display_data"
    },
    {
     "name": "stdout",
     "output_type": "stream",
     "text": [
      "Pat_10_s113.nrrd\n"
     ]
    },
    {
     "data": {
      "image/png": "[encoded data removed]",
      "text/plain": [
       "<Figure size 432x288 with 1 Axes>"
      ]
     },
     "metadata": {
      "needs_background": "light"
     },
     "output_type": "display_data"
    }
   ],
   "source": [
    "# Visualize dict of segmentation files\n",
    "#\n",
    "#\n",
    "\n",
    "#segs_dict = np.array(segs_dict)\n",
    "#print(segs_dict)\n",
    "\n",
    "for i, seg in segs_dict.items():\n",
    "    print(i)\n",
    "    plt.imshow(seg, cmap='gray')\n",
    "    plt.axis('off')\n",
    "    plt.show()\n",
    "            \n"
   ]
  },
  {
   "cell_type": "code",
   "execution_count": 7,
   "metadata": {},
   "outputs": [],
   "source": [
    "# for seg in segs_dict.values():\n",
    "#     print(i,seg)\n",
    "#     plt.imshow(seg, cmap='gray')\n",
    "#     plt.axis('off')\n",
    "#     plt.show()"
   ]
  },
  {
   "cell_type": "markdown",
   "metadata": {},
   "source": [
    "### Order dictionary of segmentation files"
   ]
  },
  {
   "cell_type": "code",
   "execution_count": 8,
   "metadata": {},
   "outputs": [
    {
     "name": "stdout",
     "output_type": "stream",
     "text": [
      "filename: Pat_10_s96.nrrd\n",
      "filename_without_extension: Pat_10_s96\n",
      "filename_parts: 96\n",
      "number_slice: 96\n",
      "filename: Pat_10_s118.nrrd\n",
      "filename_without_extension: Pat_10_s118\n",
      "filename_parts: 118\n",
      "number_slice: 118\n",
      "filename: Pat_09_s110.nrrd\n",
      "filename_without_extension: Pat_09_s110\n",
      "filename_parts: 110\n",
      "number_slice: 110\n",
      "filename: Pat_09_s167.nrrd\n",
      "filename_without_extension: Pat_09_s167\n",
      "filename_parts: 167\n",
      "number_slice: 167\n",
      "filename: Pat_10_s125.nrrd\n",
      "filename_without_extension: Pat_10_s125\n",
      "filename_parts: 125\n",
      "number_slice: 125\n",
      "filename: Pat_10_s196.nrrd\n",
      "filename_without_extension: Pat_10_s196\n",
      "filename_parts: 196\n",
      "number_slice: 196\n",
      "filename: Pat_10_s74.nrrd\n",
      "filename_without_extension: Pat_10_s74\n",
      "filename_parts: 74\n",
      "number_slice: 74\n",
      "filename: Pat_10_s76.nrrd\n",
      "filename_without_extension: Pat_10_s76\n",
      "filename_parts: 76\n",
      "number_slice: 76\n",
      "filename: Pat_09_s117.nrrd\n",
      "filename_without_extension: Pat_09_s117\n",
      "filename_parts: 117\n",
      "number_slice: 117\n",
      "filename: Pat_10_s135.nrrd\n",
      "filename_without_extension: Pat_10_s135\n",
      "filename_parts: 135\n",
      "number_slice: 135\n",
      "filename: Pat_10_s113.nrrd\n",
      "filename_without_extension: Pat_10_s113\n",
      "filename_parts: 113\n",
      "number_slice: 113\n",
      "[('Pat_10_s96.nrrd', 96), ('Pat_10_s118.nrrd', 118), ('Pat_09_s110.nrrd', 110), ('Pat_09_s167.nrrd', 167), ('Pat_10_s125.nrrd', 125), ('Pat_10_s196.nrrd', 196), ('Pat_10_s74.nrrd', 74), ('Pat_10_s76.nrrd', 76), ('Pat_09_s117.nrrd', 117), ('Pat_10_s135.nrrd', 135), ('Pat_10_s113.nrrd', 113)]\n",
      "-----------------------------------------\n",
      "[('Pat_10_s74.nrrd', 74), ('Pat_10_s76.nrrd', 76), ('Pat_10_s96.nrrd', 96), ('Pat_09_s110.nrrd', 110), ('Pat_10_s113.nrrd', 113), ('Pat_09_s117.nrrd', 117), ('Pat_10_s118.nrrd', 118), ('Pat_10_s125.nrrd', 125), ('Pat_10_s135.nrrd', 135), ('Pat_09_s167.nrrd', 167), ('Pat_10_s196.nrrd', 196)]\n",
      "-----------------------------------------\n",
      "['Pat_10_s74.nrrd', 'Pat_10_s76.nrrd', 'Pat_10_s96.nrrd', 'Pat_09_s110.nrrd', 'Pat_10_s113.nrrd', 'Pat_09_s117.nrrd', 'Pat_10_s118.nrrd', 'Pat_10_s125.nrrd', 'Pat_10_s135.nrrd', 'Pat_09_s167.nrrd', 'Pat_10_s196.nrrd']\n",
      "Pat_10_s74.nrrd\n",
      "Pat_10_s76.nrrd\n",
      "Pat_10_s96.nrrd\n",
      "Pat_09_s110.nrrd\n",
      "Pat_10_s113.nrrd\n",
      "Pat_09_s117.nrrd\n",
      "Pat_10_s118.nrrd\n",
      "Pat_10_s125.nrrd\n",
      "Pat_10_s135.nrrd\n",
      "Pat_09_s167.nrrd\n",
      "Pat_10_s196.nrrd\n"
     ]
    }
   ],
   "source": [
    "#https://thomas-cokelaer.info/blog/2017/12/how-to-sort-a-dictionary-by-values-in-python/\n",
    "#https://thomas-cokelaer.info/blog/2017/12/how-to-sort-a-dictionary-by-values-in-python/\n",
    "\n",
    "\n",
    "#line 349 data_utils.py\n",
    "\n",
    "c_nrrd = []\n",
    "segs_dict_order =  {}\n",
    "for filename,seg in segs_dict.items():\n",
    "    print(\"filename: \" +str(filename))\n",
    "    \n",
    "    if \".nrrd\" in filename.lower():\n",
    "        filename_without_extension = filename.split(\".\")[0]\n",
    "        print('filename_without_extension: ' +str(filename_without_extension))\n",
    "        filename_parts = filename_without_extension.split(\"_s\")[1]\n",
    "        print('filename_parts: ' + str(filename_parts))\n",
    "        number_slice = int(filename_parts)\n",
    "        print('number_slice: ' + str(number_slice))\n",
    "        c_nrrd.append((filename, number_slice))\n",
    "print(c_nrrd)\n",
    "print('-----------------------------------------')\n",
    "\n",
    "if len(c_nrrd) > 0:\n",
    "    c_nrrd = sorted(c_nrrd, key = lambda t: t[1])\n",
    "print(c_nrrd)\n",
    "print('-----------------------------------------')\n",
    "segs_dict_order = [c[0] for c in c_nrrd]\n",
    "\n",
    "print(segs_dict_order)\n",
    "\n",
    "for seg in segs_dict_order:\n",
    "    print(seg)\n",
    "    \n",
    "\n",
    "    \n",
    "    \n",
    "    \n",
    "# ????\n",
    "# Questions: it seems like it is just filename how to read content of it?\n",
    "\n",
    "# "
   ]
  },
  {
   "cell_type": "code",
   "execution_count": 9,
   "metadata": {},
   "outputs": [
    {
     "data": {
      "text/plain": [
       "[('Pat_09_s110.nrrd', array([[0, 0, 0, ..., 0, 0, 0],\n",
       "         [0, 0, 0, ..., 0, 0, 0],\n",
       "         [0, 0, 0, ..., 0, 0, 0],\n",
       "         ...,\n",
       "         [0, 0, 0, ..., 0, 0, 0],\n",
       "         [0, 0, 0, ..., 0, 0, 0],\n",
       "         [0, 0, 0, ..., 0, 0, 0]], dtype=int16)),\n",
       " ('Pat_09_s117.nrrd', array([[0, 0, 0, ..., 0, 0, 0],\n",
       "         [0, 0, 0, ..., 0, 0, 0],\n",
       "         [0, 0, 0, ..., 0, 0, 0],\n",
       "         ...,\n",
       "         [0, 0, 0, ..., 0, 0, 0],\n",
       "         [0, 0, 0, ..., 0, 0, 0],\n",
       "         [0, 0, 0, ..., 0, 0, 0]], dtype=int16)),\n",
       " ('Pat_09_s167.nrrd', array([[0, 0, 0, ..., 0, 0, 0],\n",
       "         [0, 0, 0, ..., 0, 0, 0],\n",
       "         [0, 0, 0, ..., 0, 0, 0],\n",
       "         ...,\n",
       "         [0, 0, 0, ..., 0, 0, 0],\n",
       "         [0, 0, 0, ..., 0, 0, 0],\n",
       "         [0, 0, 0, ..., 0, 0, 0]], dtype=int16)),\n",
       " ('Pat_10_s113.nrrd', array([[0, 0, 0, ..., 0, 0, 0],\n",
       "         [0, 0, 0, ..., 0, 0, 0],\n",
       "         [0, 0, 0, ..., 0, 0, 0],\n",
       "         ...,\n",
       "         [0, 0, 0, ..., 0, 0, 0],\n",
       "         [0, 0, 0, ..., 0, 0, 0],\n",
       "         [0, 0, 0, ..., 0, 0, 0]], dtype=int16)),\n",
       " ('Pat_10_s118.nrrd', array([[0, 0, 0, ..., 0, 0, 0],\n",
       "         [0, 0, 0, ..., 0, 0, 0],\n",
       "         [0, 0, 0, ..., 0, 0, 0],\n",
       "         ...,\n",
       "         [0, 0, 0, ..., 0, 0, 0],\n",
       "         [0, 0, 0, ..., 0, 0, 0],\n",
       "         [0, 0, 0, ..., 0, 0, 0]], dtype=int16)),\n",
       " ('Pat_10_s125.nrrd', array([[0, 0, 0, ..., 0, 0, 0],\n",
       "         [0, 0, 0, ..., 0, 0, 0],\n",
       "         [0, 0, 0, ..., 0, 0, 0],\n",
       "         ...,\n",
       "         [0, 0, 0, ..., 0, 0, 0],\n",
       "         [0, 0, 0, ..., 0, 0, 0],\n",
       "         [0, 0, 0, ..., 0, 0, 0]], dtype=int16)),\n",
       " ('Pat_10_s135.nrrd', array([[0, 0, 0, ..., 0, 0, 0],\n",
       "         [0, 0, 0, ..., 0, 0, 0],\n",
       "         [0, 0, 0, ..., 0, 0, 0],\n",
       "         ...,\n",
       "         [0, 0, 0, ..., 0, 0, 0],\n",
       "         [0, 0, 0, ..., 0, 0, 0],\n",
       "         [0, 0, 0, ..., 0, 0, 0]], dtype=int16)),\n",
       " ('Pat_10_s196.nrrd', array([[0, 0, 0, ..., 0, 0, 0],\n",
       "         [0, 0, 0, ..., 0, 0, 0],\n",
       "         [0, 0, 0, ..., 0, 0, 0],\n",
       "         ...,\n",
       "         [0, 0, 0, ..., 0, 0, 0],\n",
       "         [0, 0, 0, ..., 0, 0, 0],\n",
       "         [0, 0, 0, ..., 0, 0, 0]], dtype=int16)),\n",
       " ('Pat_10_s74.nrrd', array([[0, 0, 0, ..., 0, 0, 0],\n",
       "         [0, 0, 0, ..., 0, 0, 0],\n",
       "         [0, 0, 0, ..., 0, 0, 0],\n",
       "         ...,\n",
       "         [0, 0, 0, ..., 0, 0, 0],\n",
       "         [0, 0, 0, ..., 0, 0, 0],\n",
       "         [0, 0, 0, ..., 0, 0, 0]], dtype=int16)),\n",
       " ('Pat_10_s76.nrrd', array([[0, 0, 0, ..., 0, 0, 0],\n",
       "         [0, 0, 0, ..., 0, 0, 0],\n",
       "         [0, 0, 0, ..., 0, 0, 0],\n",
       "         ...,\n",
       "         [0, 0, 0, ..., 0, 0, 0],\n",
       "         [0, 0, 0, ..., 0, 0, 0],\n",
       "         [0, 0, 0, ..., 0, 0, 0]], dtype=int16)),\n",
       " ('Pat_10_s96.nrrd', array([[0, 0, 0, ..., 0, 0, 0],\n",
       "         [0, 0, 0, ..., 0, 0, 0],\n",
       "         [0, 0, 0, ..., 0, 0, 0],\n",
       "         ...,\n",
       "         [0, 0, 0, ..., 0, 0, 0],\n",
       "         [0, 0, 0, ..., 0, 0, 0],\n",
       "         [0, 0, 0, ..., 0, 0, 0]], dtype=int16))]"
      ]
     },
     "execution_count": 9,
     "metadata": {},
     "output_type": "execute_result"
    }
   ],
   "source": [
    "# second approach\n",
    "import operator  \n",
    "import collections\n",
    "orderedDict = collections.OrderedDict()\n",
    "from collections import OrderedDict\n",
    "\n",
    "#segs_list = orderedDict(sorted(segs_list.iteritems(), key=lambda x: x[1]['type']))\n",
    "#OrderedDict(sorted(segs_list.items(), key=lambda item: item[1]['type']))\n",
    "\n",
    "sorted((key, value) for (key,value) in segs_dict.items())\n",
    "\n",
    "#sorted(segs_dict.items(), key=lambda x: x[1])\n",
    "#sorted(segs_dict.items(), key=operator.itemgetter(1))\n",
    "#sorted(segs_dict.items(), key=lambda item: item[1]['type'])\n",
    "# keep ordering in dict so that you can use it later on."
   ]
  },
  {
   "cell_type": "code",
   "execution_count": 10,
   "metadata": {},
   "outputs": [
    {
     "name": "stdout",
     "output_type": "stream",
     "text": [
      "Pat_09_s110.nrrd: [[0 0 0 ... 0 0 0]\n",
      " [0 0 0 ... 0 0 0]\n",
      " [0 0 0 ... 0 0 0]\n",
      " ...\n",
      " [0 0 0 ... 0 0 0]\n",
      " [0 0 0 ... 0 0 0]\n",
      " [0 0 0 ... 0 0 0]]\n",
      "Pat_09_s117.nrrd: [[0 0 0 ... 0 0 0]\n",
      " [0 0 0 ... 0 0 0]\n",
      " [0 0 0 ... 0 0 0]\n",
      " ...\n",
      " [0 0 0 ... 0 0 0]\n",
      " [0 0 0 ... 0 0 0]\n",
      " [0 0 0 ... 0 0 0]]\n",
      "Pat_09_s167.nrrd: [[0 0 0 ... 0 0 0]\n",
      " [0 0 0 ... 0 0 0]\n",
      " [0 0 0 ... 0 0 0]\n",
      " ...\n",
      " [0 0 0 ... 0 0 0]\n",
      " [0 0 0 ... 0 0 0]\n",
      " [0 0 0 ... 0 0 0]]\n",
      "Pat_10_s113.nrrd: [[0 0 0 ... 0 0 0]\n",
      " [0 0 0 ... 0 0 0]\n",
      " [0 0 0 ... 0 0 0]\n",
      " ...\n",
      " [0 0 0 ... 0 0 0]\n",
      " [0 0 0 ... 0 0 0]\n",
      " [0 0 0 ... 0 0 0]]\n",
      "Pat_10_s118.nrrd: [[0 0 0 ... 0 0 0]\n",
      " [0 0 0 ... 0 0 0]\n",
      " [0 0 0 ... 0 0 0]\n",
      " ...\n",
      " [0 0 0 ... 0 0 0]\n",
      " [0 0 0 ... 0 0 0]\n",
      " [0 0 0 ... 0 0 0]]\n",
      "Pat_10_s125.nrrd: [[0 0 0 ... 0 0 0]\n",
      " [0 0 0 ... 0 0 0]\n",
      " [0 0 0 ... 0 0 0]\n",
      " ...\n",
      " [0 0 0 ... 0 0 0]\n",
      " [0 0 0 ... 0 0 0]\n",
      " [0 0 0 ... 0 0 0]]\n",
      "Pat_10_s135.nrrd: [[0 0 0 ... 0 0 0]\n",
      " [0 0 0 ... 0 0 0]\n",
      " [0 0 0 ... 0 0 0]\n",
      " ...\n",
      " [0 0 0 ... 0 0 0]\n",
      " [0 0 0 ... 0 0 0]\n",
      " [0 0 0 ... 0 0 0]]\n",
      "Pat_10_s196.nrrd: [[0 0 0 ... 0 0 0]\n",
      " [0 0 0 ... 0 0 0]\n",
      " [0 0 0 ... 0 0 0]\n",
      " ...\n",
      " [0 0 0 ... 0 0 0]\n",
      " [0 0 0 ... 0 0 0]\n",
      " [0 0 0 ... 0 0 0]]\n",
      "Pat_10_s74.nrrd: [[0 0 0 ... 0 0 0]\n",
      " [0 0 0 ... 0 0 0]\n",
      " [0 0 0 ... 0 0 0]\n",
      " ...\n",
      " [0 0 0 ... 0 0 0]\n",
      " [0 0 0 ... 0 0 0]\n",
      " [0 0 0 ... 0 0 0]]\n",
      "Pat_10_s76.nrrd: [[0 0 0 ... 0 0 0]\n",
      " [0 0 0 ... 0 0 0]\n",
      " [0 0 0 ... 0 0 0]\n",
      " ...\n",
      " [0 0 0 ... 0 0 0]\n",
      " [0 0 0 ... 0 0 0]\n",
      " [0 0 0 ... 0 0 0]]\n",
      "Pat_10_s96.nrrd: [[0 0 0 ... 0 0 0]\n",
      " [0 0 0 ... 0 0 0]\n",
      " [0 0 0 ... 0 0 0]\n",
      " ...\n",
      " [0 0 0 ... 0 0 0]\n",
      " [0 0 0 ... 0 0 0]\n",
      " [0 0 0 ... 0 0 0]]\n"
     ]
    }
   ],
   "source": [
    "# Failed to order dictionary\n",
    "# for key, value in sorted(segs_dict.items(), key=lambda item: item[1]):\n",
    "#     print(\"%s: %s\" % (key, value))\n",
    "\n",
    "# \n",
    "for key in sorted(segs_dict.keys()):\n",
    "    print(\"%s: %s\" % (key, segs_dict[key]))"
   ]
  },
  {
   "cell_type": "code",
   "execution_count": 11,
   "metadata": {},
   "outputs": [
    {
     "name": "stdout",
     "output_type": "stream",
     "text": [
      "Pat_10_s96.nrrd\n"
     ]
    },
    {
     "data": {
      "image/png": "[encoded data removed]",
      "text/plain": [
       "<Figure size 432x288 with 1 Axes>"
      ]
     },
     "metadata": {
      "needs_background": "light"
     },
     "output_type": "display_data"
    },
    {
     "name": "stdout",
     "output_type": "stream",
     "text": [
      "Pat_10_s118.nrrd\n"
     ]
    },
    {
     "data": {
      "image/png": "[encoded data removed]",
      "text/plain": [
       "<Figure size 432x288 with 1 Axes>"
      ]
     },
     "metadata": {
      "needs_background": "light"
     },
     "output_type": "display_data"
    },
    {
     "name": "stdout",
     "output_type": "stream",
     "text": [
      "Pat_09_s110.nrrd\n"
     ]
    },
    {
     "data": {
      "image/png": "[encoded data removed]",
      "text/plain": [
       "<Figure size 432x288 with 1 Axes>"
      ]
     },
     "metadata": {
      "needs_background": "light"
     },
     "output_type": "display_data"
    },
    {
     "name": "stdout",
     "output_type": "stream",
     "text": [
      "Pat_09_s167.nrrd\n"
     ]
    },
    {
     "data": {
      "image/png": "[encoded data removed]",
      "text/plain": [
       "<Figure size 432x288 with 1 Axes>"
      ]
     },
     "metadata": {
      "needs_background": "light"
     },
     "output_type": "display_data"
    },
    {
     "name": "stdout",
     "output_type": "stream",
     "text": [
      "Pat_10_s125.nrrd\n"
     ]
    },
    {
     "data": {
      "image/png": "[encoded data removed]",
      "text/plain": [
       "<Figure size 432x288 with 1 Axes>"
      ]
     },
     "metadata": {
      "needs_background": "light"
     },
     "output_type": "display_data"
    },
    {
     "name": "stdout",
     "output_type": "stream",
     "text": [
      "Pat_10_s196.nrrd\n"
     ]
    },
    {
     "data": {
      "image/png": "[encoded data removed]",
      "text/plain": [
       "<Figure size 432x288 with 1 Axes>"
      ]
     },
     "metadata": {
      "needs_background": "light"
     },
     "output_type": "display_data"
    },
    {
     "name": "stdout",
     "output_type": "stream",
     "text": [
      "Pat_10_s74.nrrd\n"
     ]
    },
    {
     "data": {
      "image/png": "[encoded data removed]",
      "text/plain": [
       "<Figure size 432x288 with 1 Axes>"
      ]
     },
     "metadata": {
      "needs_background": "light"
     },
     "output_type": "display_data"
    },
    {
     "name": "stdout",
     "output_type": "stream",
     "text": [
      "Pat_10_s76.nrrd\n"
     ]
    },
    {
     "data": {
      "image/png": "[encoded data removed]",
      "text/plain": [
       "<Figure size 432x288 with 1 Axes>"
      ]
     },
     "metadata": {
      "needs_background": "light"
     },
     "output_type": "display_data"
    },
    {
     "name": "stdout",
     "output_type": "stream",
     "text": [
      "Pat_09_s117.nrrd\n"
     ]
    },
    {
     "data": {
      "image/png": "[encoded data removed]",
      "text/plain": [
       "<Figure size 432x288 with 1 Axes>"
      ]
     },
     "metadata": {
      "needs_background": "light"
     },
     "output_type": "display_data"
    },
    {
     "name": "stdout",
     "output_type": "stream",
     "text": [
      "Pat_10_s135.nrrd\n"
     ]
    },
    {
     "data": {
      "image/png": "[encoded data removed]",
      "text/plain": [
       "<Figure size 432x288 with 1 Axes>"
      ]
     },
     "metadata": {
      "needs_background": "light"
     },
     "output_type": "display_data"
    },
    {
     "name": "stdout",
     "output_type": "stream",
     "text": [
      "Pat_10_s113.nrrd\n"
     ]
    },
    {
     "data": {
      "image/png": "[encoded data removed]",
      "text/plain": [
       "<Figure size 432x288 with 1 Axes>"
      ]
     },
     "metadata": {
      "needs_background": "light"
     },
     "output_type": "display_data"
    }
   ],
   "source": [
    "# check if ordering dict remain stable after sorting\n",
    "for i, seg in segs_dict.items():\n",
    "    print(i)\n",
    "    plt.imshow(seg, cmap='gray')\n",
    "    plt.axis('off')\n",
    "    plt.show()"
   ]
  },
  {
   "cell_type": "markdown",
   "metadata": {},
   "source": [
    "### Add image in dictionary of segmentation files"
   ]
  },
  {
   "cell_type": "code",
   "execution_count": null,
   "metadata": {},
   "outputs": [],
   "source": [
    "# line 313 data_utils.py\n",
    "# ???\n",
    "\n",
    "# find way to add up segs in dictionay\n",
    "#segs = self.segs\n",
    "#self.segs = segs.update(seg)\n",
    "        "
   ]
  },
  {
   "cell_type": "code",
   "execution_count": 84,
   "metadata": {},
   "outputs": [],
   "source": [
    "# for key, seg in segs_dict.items():\n",
    "#     print(key, seg)"
   ]
  },
  {
   "cell_type": "code",
   "execution_count": null,
   "metadata": {},
   "outputs": [],
   "source": []
  },
  {
   "cell_type": "code",
   "execution_count": null,
   "metadata": {},
   "outputs": [],
   "source": []
  },
  {
   "cell_type": "code",
   "execution_count": null,
   "metadata": {},
   "outputs": [],
   "source": []
  },
  {
   "cell_type": "markdown",
   "metadata": {},
   "source": [
    "### Order list of segmentation files"
   ]
  },
  {
   "cell_type": "code",
   "execution_count": 79,
   "metadata": {},
   "outputs": [],
   "source": [
    "# line341 data_utils.py\n",
    "\n",
    "#print(segs_list[0])\n",
    "# order = np.argsort(_instance_nums)\n",
    "# segs_list = np.array(segs_list)\n",
    "# segs_list = scans[order, :, :]"
   ]
  },
  {
   "cell_type": "code",
   "execution_count": null,
   "metadata": {},
   "outputs": [],
   "source": []
  },
  {
   "cell_type": "code",
   "execution_count": null,
   "metadata": {},
   "outputs": [],
   "source": []
  },
  {
   "cell_type": "code",
   "execution_count": null,
   "metadata": {},
   "outputs": [],
   "source": []
  },
  {
   "cell_type": "code",
   "execution_count": null,
   "metadata": {},
   "outputs": [],
   "source": []
  },
  {
   "cell_type": "code",
   "execution_count": null,
   "metadata": {},
   "outputs": [],
   "source": []
  },
  {
   "cell_type": "markdown",
   "metadata": {},
   "source": [
    "### Order scan files"
   ]
  },
  {
   "cell_type": "code",
   "execution_count": 78,
   "metadata": {},
   "outputs": [],
   "source": [
    "#print(scans[0])\n",
    "# order = np.argsort(_instance_nums)\n",
    "# scans = np.array(scans)\n",
    "# scans = scans[order, :, :]\n"
   ]
  },
  {
   "cell_type": "code",
   "execution_count": null,
   "metadata": {},
   "outputs": [],
   "source": []
  },
  {
   "cell_type": "code",
   "execution_count": null,
   "metadata": {},
   "outputs": [],
   "source": []
  },
  {
   "cell_type": "code",
   "execution_count": null,
   "metadata": {},
   "outputs": [],
   "source": []
  },
  {
   "cell_type": "code",
   "execution_count": null,
   "metadata": {},
   "outputs": [],
   "source": []
  },
  {
   "cell_type": "code",
   "execution_count": null,
   "metadata": {},
   "outputs": [],
   "source": []
  },
  {
   "cell_type": "markdown",
   "metadata": {},
   "source": [
    "### Pair respectively a given dicom scan with its segmentation file knowing that we have list of scans and segs"
   ]
  },
  {
   "cell_type": "code",
   "execution_count": 89,
   "metadata": {},
   "outputs": [
    {
     "name": "stdout",
     "output_type": "stream",
     "text": [
      "Pat_10_s118.nrrd\n",
      "Pat_10_s118_T1.dcm\n",
      "-----------\n",
      "Pat_09_s117.nrrd\n",
      "Pat_09_s117_T1.dcm\n",
      "-----------\n",
      "Pat_10_s96.nrrd\n",
      "Pat_10_s96_T1.dcm\n",
      "-----------\n",
      "Pat_09_s167.nrrd\n",
      "Pat_09_s167_T1.dcm\n",
      "-----------\n",
      "Pat_10_s74.nrrd\n",
      "Pat_10_s74_T1.dcm\n",
      "-----------\n",
      "Pat_10_s196.nrrd\n",
      "Pat_10_s196_T1.dcm\n",
      "-----------\n",
      "Pat_09_s110.nrrd\n",
      "Pat_09_s110_T1.dcm\n",
      "-----------\n",
      "Pat_10_s125.nrrd\n",
      "Pat_10_s125_T1.dcm\n",
      "-----------\n",
      "Pat_10_s76.nrrd\n",
      "Pat_10_s76_T1.dcm\n",
      "-----------\n",
      "Pat_10_s135.nrrd\n",
      "Pat_10_s135_T1.dcm\n",
      "-----------\n",
      "Pat_10_s113.nrrd\n",
      "Pat_10_s113_T1.dcm\n",
      "-----------\n"
     ]
    }
   ],
   "source": [
    "# line 73 data_utils.py\n",
    "\n",
    "patients = list()\n",
    "for i, (scan, seg) in enumerate(zip(scans, segs_list)):\n",
    "    \n",
    "    filepath,filename = os.path.split(scan_files[i])\n",
    "    # e.g [/home/amos/3DUnet/data/raw   Pat_01_s221_T1.dcm]\n",
    "   \n",
    "    # split filename at the extension \".\"\n",
    "    filename_without_extension = filename.split(\".\")[0]\n",
    "    # [Pat_01_s221_T1   dcm]-----> Pat_01_s221_T1\n",
    "    \n",
    "    filename_parts = filename_without_extension.split(\"_\")\n",
    "    # ['Pat' '01' 's221' data_test_dir'T1']---> exclude last element list \"T1\"\n",
    "    \n",
    "    filebasename = \"_\".join(filename_parts[:-1 or None])\n",
    "    # Pat_01_s221 \n",
    "    \n",
    "    # /home/amos/3DUnet/data/raw/Pat_01_s221  \n",
    "    seg_file = os.path.join(filebasename + '.nrrd')\n",
    "    \n",
    "    #seg_file = glob.glob(filebasename + '.nrrd')\n",
    "    print(seg_file)\n",
    "    print(filename)\n",
    "    print('-----------')\n",
    "    \n",
    "    #\n",
    "    #plt.imshow(seg_file, cmap='gray')\n",
    "    #plt.title('seg_file')\n",
    "    #plt.axis('off')\n",
    "    #plt.show()\n",
    "    \n",
    "    #\n",
    "    # res\n",
    "    \n",
    "    \n",
    "\n",
    "    \n",
    "\n",
    "    \n",
    "    \n",
    "# ???question: how to imshow these info (contents)? for they are just file name....\n",
    "                \n",
    "            \n",
    "                        "
   ]
  },
  {
   "cell_type": "markdown",
   "metadata": {},
   "source": [
    "### Pair respectively a given dicom scan with its segmentation file knowing that we have list of scans and dictionary of segmentation files"
   ]
  },
  {
   "cell_type": "code",
   "execution_count": 75,
   "metadata": {},
   "outputs": [],
   "source": [
    "# line 73 data_utils.py\n",
    "\n",
    "# patients = list()\n",
    "# for i, scan in enumerate(scans):\n",
    "#     pat_folder_regex = re.compile(r'Pat\\w\\d{2}\\w{2}\\d{2}')\n",
    "#     patient_folder = re.search(\n",
    "#         pat_folder_regex, scan_files[i]).group()\n",
    "#     seg_file = segs['%s.nrrd' % patient_folder]\n",
    "#     patients.append((scan, seg_file,i))\n",
    "    \n",
    "    \n",
    "# for i, scan in enumerate(scans):\n",
    "            \n",
    "#     # unfortunately, the PatientID cannot be trusted as sometimes \n",
    "#     # it doesn't correspond to the appropriate nddr file, so we use \n",
    "#     # regex to extract patient_id from the folder of the DICOM file, e.g. Pat_01_s102_T1\n",
    "#     pat_folder_regex = re.compile(r'Pat\\w\\d{2}\\w{2}\\d{3}')\n",
    "#     patient_folder = re.search(\n",
    "#         pat_folder_regex, scan_files[i]).group()\n",
    "#     seg_file = segs['%s.nrrd' % patient_folder]\n",
    "#     #print(np.unique(seg_file))\n",
    "#     #print(scan, seg_file)\n",
    "#     patients.append((scan, seg_file,i))\n",
    "    \n",
    "\n",
    "    \n",
    "    "
   ]
  },
  {
   "cell_type": "code",
   "execution_count": null,
   "metadata": {},
   "outputs": [],
   "source": []
  },
  {
   "cell_type": "code",
   "execution_count": 16,
   "metadata": {},
   "outputs": [],
   "source": [
    "# input_seg = nrrd.read('/home/amos/3D_UNet/data/raw/evaluation/Pat_01_s221.nrrd')\n",
    "# input_scan = pydicom.dcmread('/home/amos/3D_UNet/data/raw/evaluation/Pat_01_s221_T1.dcm')"
   ]
  },
  {
   "cell_type": "code",
   "execution_count": 17,
   "metadata": {},
   "outputs": [],
   "source": [
    "# # extract data and header\n",
    "# seg = input_seg[1]\n",
    "# header = input_seg[1]"
   ]
  },
  {
   "cell_type": "code",
   "execution_count": 18,
   "metadata": {},
   "outputs": [],
   "source": [
    "# print(input_seg)\n",
    "# print('.......................................................')\n",
    "\n",
    "# print(input_seg[0])\n",
    "# print('.......................................................')\n",
    "\n",
    "# print(input_scan.values)\n",
    "# print('.......................................................')\n",
    "\n",
    "#print(input_scan.pixel_array.shape)\n",
    "\n"
   ]
  },
  {
   "cell_type": "code",
   "execution_count": 19,
   "metadata": {},
   "outputs": [],
   "source": [
    "# print(header)"
   ]
  },
  {
   "cell_type": "code",
   "execution_count": 20,
   "metadata": {},
   "outputs": [],
   "source": [
    "# print(header['type'])\n",
    "# print(header['space dimension'])\n",
    "# print(header['space directions'])\n"
   ]
  },
  {
   "cell_type": "code",
   "execution_count": 21,
   "metadata": {},
   "outputs": [],
   "source": [
    "# save original image as txt for debugging purposes\n",
    "#np.savetxt('data.txt', seg, fmt='%1u')"
   ]
  },
  {
   "cell_type": "code",
   "execution_count": 22,
   "metadata": {},
   "outputs": [],
   "source": [
    "# # get all possible classes from nrrd\n",
    "\n",
    "# # Method 1\n",
    "# classes1 = np.unique(seg)\n",
    "# print('classes1' + str(classes1))\n",
    "# print(\"..........................\")\n",
    "\n",
    "# # Method 2\n",
    "# u, ind = np.unique(seg, return_index=True)\n",
    "# classes2 = u[np.argsort(ind)]\n",
    "# print('classes2 no sort' + str(classes2))\n",
    "# # sort classes indexes\n",
    "# classes2.sort()\n",
    "# print('classes2 wi sort' + str(classes2))\n",
    "\n",
    "# # asserting results\n",
    "\n",
    "# #assert (classes1 == classes2)\n",
    "# np.alltrue(classes1 == classes2)\n",
    "\n",
    "# #"
   ]
  },
  {
   "cell_type": "code",
   "execution_count": 23,
   "metadata": {},
   "outputs": [],
   "source": [
    "# # get number of classes for mevislab\n",
    "# class_ = np.unique(seg)\n",
    "# num_classes_method1 = class_.size\n",
    "# print('segment_values: ' +str(np.unique(seg)))\n",
    "# print('num_classes_method1: ' + str(num_classes_method1))\n",
    "# print('--------------------')\n",
    "\n",
    "# num_classes_method2 = np.max(seg) + 1\n",
    "# print('segment_values: ' +str(np.unique(seg)))\n",
    "# print('num_classes_method2: ' + str(num_classes_method2))"
   ]
  },
  {
   "cell_type": "code",
   "execution_count": 24,
   "metadata": {},
   "outputs": [],
   "source": [
    "# # Encoding segmented images\n",
    "\n",
    "# # initialize resulting encoded image\n",
    "# seg_encoded2 = np.zeros(seg.shape)\n",
    "# print('seg_encoded shape is: ' + str(seg_encoded2.shape))\n",
    "\n",
    "# # initialize encoded image\n",
    "# seg_encoded = np.zeros_like(seg, subok=True)\n",
    "# print('seg_encoded2 shape is: ' + str(seg_encoded.shape))\n",
    "\n",
    "# # add an additional axis for stacking segments later\n",
    "# # seg_encoded = seg_encoded[:,:,np.newaxis]\n",
    "# # print(\"seg_encoded new shape: \" + str(seg_encoded.shape))\n",
    "\n",
    "# #\n",
    "\n"
   ]
  },
  {
   "cell_type": "code",
   "execution_count": 25,
   "metadata": {},
   "outputs": [],
   "source": [
    "# # case: just 03 segments\n",
    "\n",
    "# # define segment arrays\n",
    "# segment_intima = np.where(seg == 1, seg, 0)\n",
    "# segment_media = np.where(seg == 2, seg, 0)\n",
    "# segment_lumen = np.where(seg == 14, seg, 0)\n",
    "\n",
    "\n"
   ]
  },
  {
   "cell_type": "code",
   "execution_count": 26,
   "metadata": {},
   "outputs": [],
   "source": [
    "# plt.imshow(segment_media, cmap='gray')\n",
    "# plt.title('segment_media')\n",
    "# plt.axis('off')\n",
    "# plt.show()\n",
    "\n",
    "\n",
    "# # Check exisiting classes\n",
    "# class_ = np.unique(segment_media)\n",
    "# num_classes_method1 = class_.size\n",
    "# print('segment_values: ' +str(np.unique(segment_media)))\n",
    "# print('num_classes_method1: ' + str(num_classes_method1))\n",
    "# print('--------------------')"
   ]
  },
  {
   "cell_type": "code",
   "execution_count": 27,
   "metadata": {},
   "outputs": [],
   "source": [
    "# plt.imshow(segment_lumen, cmap='gray')\n",
    "# plt.axis('off')\n",
    "# plt.show()\n",
    "\n",
    "\n",
    "# # Check exisiting classes\n",
    "# class_ = np.unique(segment_lumen)\n",
    "# num_classes_method1 = class_.size\n",
    "# print('segment_values: ' +str(np.unique(segment_lumen)))\n",
    "# print('num_classes_method1: ' + str(num_classes_method1))\n",
    "# print('--------------------')\n"
   ]
  },
  {
   "cell_type": "code",
   "execution_count": 28,
   "metadata": {},
   "outputs": [],
   "source": [
    "# plt.imshow(segment_intima, cmap='gray')\n",
    "# plt.title('segment_intima')\n",
    "# plt.axis('off')\n",
    "# plt.show()\n",
    "\n",
    "\n",
    "\n",
    "# # Check exisiting classes\n",
    "# class_ = np.unique(segment_intima)\n",
    "# num_classes_method1 = class_.size\n",
    "# print('segment_values: ' +str(np.unique(segment_intima)))\n",
    "# print('num_classes_method1: ' + str(num_classes_method1))\n",
    "# print('--------------------')\n",
    "\n",
    "\n",
    "\n",
    "# # One hot encoding\n",
    "# # https://stackoverflow.com/questions/36960320/convert-a-2d-matrix-to-a-3d-one-hot-matrix-numpy/36960495#36960495\n",
    "# # 0-based indexing\n",
    "# seg_ = (np.arange(segment_intima.max()+1) == segment_intima[...,None]).astype(int)\n",
    "# print('shape hot_seg_method1: ' + str(seg_.shape))\n",
    "# print('segment_hot_values_method1: ' +str(np.unique(seg_)))\n",
    "# print('--------------------')\n",
    "\n",
    "\n",
    "# # One hot encoding \n",
    "# # transform [width, height] into [width, height, number_classes]\n",
    "# ncols = segment_intima.max() + 1\n",
    "# labels_one_hot = (segment_intima.ravel()[np.newaxis] == np.arange(ncols)[:, np.newaxis]).T\n",
    "# labels_one_hot.shape = segment_intima.shape + (ncols, )\n",
    "# print('number colums image: ' + str(ncols))\n",
    "# print('labels_one_hot shape method2: ' +str(labels_one_hot.shape))\n",
    "# print('labels_one_hot_values_method1: ' +str(np.unique(labels_one_hot)))\n",
    "# print('--------------------')\n",
    "\n",
    "# # there are 2 classes: indexes 0 and 1\n",
    "# plt.imshow(labels_one_hot[:,:,0], cmap='gray')\n",
    "# plt.title('labels_one_hot')\n",
    "# plt.axis('off')\n",
    "# plt.show()\n",
    "\n",
    "\n",
    "# # resize targets while preserving their boolean nature: [width, height, ncols]\n",
    "# seg_resize_reshape = skimage.img_as_bool(\n",
    "#                 skimage.transform.resize(\n",
    "#                     image=labels_one_hot,\n",
    "#                     output_shape=(64, 64, ncols)\n",
    "#                 ))\n",
    "# seg_preprocess = seg_resize_reshape.astype(int)\n",
    "\n",
    "# print('seg_preprocess shape: ' +str(seg_preprocess.shape))\n",
    "# print('seg_preprocess_values: ' +str(np.unique(seg_preprocess)))\n",
    "# print('--------------------')\n",
    "\n",
    "# #\n",
    "# plt.imshow(seg_preprocess[:,:,0], cmap='gray')\n",
    "# plt.title('seg_preprocess')\n",
    "# plt.axis('off')\n",
    "# plt.show()\n",
    "\n",
    "# # resize and reshape target image to: [depth, width, height, ncols]\n",
    "# list_img = []\n",
    "# depth_= 4\n",
    "# for i in range(depth_):\n",
    "#     list_img.append(seg_preprocess)\n",
    "# seg_preprocess_final = np.array(list_img)\n",
    "# print('seg_preprocess_final shape: ' +str(seg_preprocess_final.shape))\n",
    "# print('seg_preprocess_final_values: ' +str(np.unique(seg_preprocess_final)))\n",
    "# print('--------------------')\n",
    "\n",
    "# # display all target images\n",
    "# for depth__ in range(4):\n",
    "#     plt.imshow(seg_preprocess_final[depth__,:,:,0], cmap='gray')\n",
    "#     plt.title('seg_preprocess_final')\n",
    "#     plt.axis('off')\n",
    "#     plt.show()\n",
    "    \n",
    "\n",
    "\n",
    "\n",
    "\n",
    "\n"
   ]
  },
  {
   "cell_type": "code",
   "execution_count": 29,
   "metadata": {},
   "outputs": [],
   "source": [
    "# # preprocessing target image with the shape: [width, height]\n",
    "# seg = deepcopy(seg)\n",
    "\n",
    "# # One hot encoding \n",
    "# # transform [width, height] into [width, height, number_classes]\n",
    "# ncols = seg.max() + 1\n",
    "# labels_one_hot = (seg.ravel()[np.newaxis] == np.arange(ncols)[:, np.newaxis]).T\n",
    "# labels_one_hot.shape = seg.shape + (ncols, )\n",
    "# print('number colums image: ' + str(ncols))\n",
    "# print('labels_one_hot shape: ' +str(labels_one_hot.shape))\n",
    "# print('labels_one_hot_values: ' +str(np.unique(labels_one_hot)))\n",
    "# print('--------------------')\n",
    "\n",
    "# # there are 15 classes: indexes 0 to 14\n",
    "# plt.imshow(labels_one_hot[:,:,14], cmap='gray')\n",
    "# plt.title('labels_one_hot')\n",
    "# plt.axis('off')\n",
    "# plt.show()\n",
    "\n",
    "\n",
    "# # resize targets while preserving their boolean nature: [width, height, ncols]\n",
    "# seg_resize_reshape = skimage.img_as_bool(\n",
    "#                 skimage.transform.resize(\n",
    "#                     image=labels_one_hot,\n",
    "#                     output_shape=(128, 128, ncols)\n",
    "#                 ))\n",
    "# seg_preprocess = seg_resize_reshape.astype(int)\n",
    "# print('seg_preprocess shape: ' +str(seg_preprocess.shape))\n",
    "# print('seg_preprocess_values: ' +str(np.unique(seg_preprocess)))\n",
    "# print('--------------------')\n",
    "\n",
    "\n",
    "# # for classes: 0,1,2,...,14\n",
    "# plt.imshow(seg_preprocess[:,:,14], cmap='gray')\n",
    "# plt.title('seg_preprocess')\n",
    "# plt.axis('off')\n",
    "# plt.show()\n",
    "\n",
    "\n",
    "# # resize and reshape target image to: [depth, width, height, ncols]\n",
    "# list_img = []\n",
    "# depth_= 4\n",
    "# for i in range(depth_):\n",
    "#     list_img.append(seg_preprocess)\n",
    "# seg_preprocess_final = np.array(list_img)\n",
    "\n",
    "# print('seg_preprocess_final shape: ' +str(seg_preprocess_final.shape))\n",
    "# print('seg_preprocess_final_values: ' +str(np.unique(seg_preprocess_final)))\n",
    "# print('--------------------')\n",
    "\n",
    "\n",
    "# # display all target images for classes: 0,1,2,...,14\n",
    "# for depth__ in range(4):\n",
    "#     plt.imshow(seg_preprocess_final[depth__,:,:,0], cmap='gray')\n",
    "#     plt.title('seg_preprocess_final')\n",
    "#     plt.axis('off')\n",
    "#     plt.show()\n"
   ]
  },
  {
   "cell_type": "code",
   "execution_count": 30,
   "metadata": {},
   "outputs": [],
   "source": [
    "# One-Hot-Encoded segmented File\n",
    "\n",
    "# seg = deepcopy(seg)\n",
    "# ncols = np.max(seg) + 1\n",
    "# print(ncols)\n",
    "\n",
    "#classes = np.unique(seg)\n",
    "# get number of classes from seg files\n",
    "#num_classes = classes.size\n",
    "# num_classes2 = np.max(seg) + 1\n",
    "# print('number of classes are: ' +str(num_classes2))\n",
    "\n",
    "# # initialize resulting encoded image\n",
    "# seg_encoded = np.zeros_like(seg, subok=True)\n",
    "            \n",
    "# # add new axis for stacking segments later\n",
    "# #seg_encoded = seg_encoded[:,:,np.newaxis]\n",
    "                       \n",
    "# # define segments arrays\n",
    "# segment_background = np.where(seg == 0, 1, 0)\n",
    "# segment_intima = np.where(seg == 1, seg, 0)\n",
    "# segment_media = np.where(seg == 2, seg, 0)\n",
    "# segment_3 = np.where(seg == 3, seg, 0)\n",
    "# segment_4 = np.where(seg == 4, seg, 0)\n",
    "# segment_5 = np.where(seg == 5, seg, 0)\n",
    "# segment_6 = np.where(seg == 6, seg, 0)\n",
    "# segment_7 = np.where(seg == 7, seg, 0)\n",
    "# segment_8 = np.where(seg == 8, seg, 0)\n",
    "# segment_9 = np.where(seg == 9, seg, 0)\n",
    "# segment_10 = np.where(seg == 10, seg, 0)\n",
    "# segment_11 = np.where(seg == 11, seg, 0)\n",
    "# segment_12 = np.where(seg == 12, seg, 0)\n",
    "# segment_13 = np.where(seg == 13, seg, 0)\n",
    "# segment_lumen = np.where(seg == 14, seg, 0)\n",
    "            \n",
    "# # stack segments\n",
    "# #seg_background = np.where(seg==0, 1, 0)\n",
    "# #seg_lumen = np.where(seg==14, seg, 0 ) \n",
    "# #seg = np.stack((seg_background, seg_lumen), axis=2)\n",
    "# # seg_encoded = np.stack((segment_background,segment_intima,segment_media,segment_3,segment_4,segment_5,segment_6,segment_7,segment_8,segment_9,segment_10,segment_11,segment_12,segment_13,segment_lumen), axis=2)\n",
    "# # print('segment shape in: ' + str(seg_encoded.shape))\n",
    "\n",
    "\n"
   ]
  },
  {
   "cell_type": "code",
   "execution_count": 31,
   "metadata": {},
   "outputs": [],
   "source": [
    "# How to visualize a One_Hot_Encoded_Individual_segment\n",
    "\n",
    "# for class_idx in range(15):\n",
    "#     segment = seg_encoded2[:, :, class_idx]\n",
    "#     plt.imshow(segment, cmap='rainbow')\n",
    "#     plt.axis('off')\n",
    "#     plt.show()\n",
    "\n",
    "\n",
    "# segment = seg[:,:,:,14]\n",
    "# plt.imshow(segment, cmap='gray')\n",
    "# plt.axis('off')\n",
    "# plt.show()\n",
    "\n",
    "# segment = seg[0][:,:,14]\n",
    "# plt.imshow(segment, cmap='gray')\n",
    "# plt.axis('off')\n",
    "# plt.show()\n"
   ]
  },
  {
   "cell_type": "code",
   "execution_count": 32,
   "metadata": {},
   "outputs": [],
   "source": [
    "# # segment pipeline: filter--> mask---> ndi.label() to label each object--> morphological operation\n",
    "# seg_filter = ndi.gaussian_filter(seg, sigma = 2)\n",
    "# segment_intima = np.where(seg == 14, seg_filter, 0)\n",
    "# labels, nlabels = ndi.label(segment_intima)\n",
    "# print('labels name: ' + str(labels))\n",
    "# print('nlabels: ' + str(nlabels))\n",
    "# plt.imshow(labels, cmap='gray')\n",
    "# plt.axis('off')\n",
    "# plt.show()"
   ]
  },
  {
   "cell_type": "code",
   "execution_count": 33,
   "metadata": {},
   "outputs": [],
   "source": [
    "# # Plot the labels array on top of the original image.\n",
    "# overlay = np.where(labels > 0, labels, np.nan)\n",
    "# plt.imshow(overlay, cmap='rainbow')\n",
    "# plt.axis('off')\n",
    "# plt.show()"
   ]
  },
  {
   "cell_type": "code",
   "execution_count": 34,
   "metadata": {},
   "outputs": [],
   "source": [
    "# # select and plot a label from image\n",
    "# single_label = np.where(labels==1, seg, 0)\n",
    "# plt.imshow(single_label, cmap='gray')\n",
    "# plt.axis('off')\n",
    "# plt.show()"
   ]
  },
  {
   "cell_type": "code",
   "execution_count": 35,
   "metadata": {},
   "outputs": [],
   "source": [
    "# fig, axes = plt.subplots(nrows=1, ncols=3)\n",
    "# axes[0].imshow(segment_intima, cmap='gray')\n",
    "# axes[1].imshow(segment_media, cmap='gray')\n",
    "# axes[2].imshow(segment_lumen, cmap='gray')\n",
    "# plt.axis('off')\n",
    "# plt.show()"
   ]
  },
  {
   "cell_type": "code",
   "execution_count": 36,
   "metadata": {},
   "outputs": [],
   "source": [
    "# # Get the histogram of bone intensities\n",
    "# hist = ndi.histogram(segment_intima, min=0, max=255, bins=256)\n",
    "\n",
    "# # Plot masked image and histogram\n",
    "# fig, axes = plt.subplots(2,1)\n",
    "# axes[0].imshow(segment_intima)\n",
    "# axes[1].plot(hist)\n",
    "# #format_and_render_plot()"
   ]
  },
  {
   "cell_type": "code",
   "execution_count": 37,
   "metadata": {},
   "outputs": [],
   "source": [
    "# print('seg_encoded stacked segments shape is: ' + str(seg_encoded.shape))\n",
    "# seg_encoded.shape[0]\n",
    "# seg_encoded.shape[1]\n",
    "# seg_encoded.shape[2]\n"
   ]
  },
  {
   "cell_type": "code",
   "execution_count": 38,
   "metadata": {},
   "outputs": [],
   "source": [
    "# # resulting encoded image in shape [depth, width, height, num_classes]\n",
    "# depth = 5\n",
    "\n",
    "# seg_encoded_resize = skimage.transform.resize(\n",
    "#                     image=seg_encoded,\n",
    "#                     output_shape=(depth, seg_encoded.shape[0], seg_encoded.shape[1], num_classes))\n",
    "\n",
    "# scan_resized = skimage.transform.resize(\n",
    "#                image = input_scan.pixel_array,\n",
    "#                output_shape = (depth, input_scan.pixel_array.shape[0], input_scan.pixel_array.shape[1]))\n"
   ]
  },
  {
   "cell_type": "code",
   "execution_count": 39,
   "metadata": {},
   "outputs": [],
   "source": [
    "# print('seg_encoded resized segments shape is: ' + str(seg_encoded_resize.shape))\n",
    "# print('scan_encoded resized shape is: ' + str(scan_resized.shape))\n",
    "# print('----------------------------------------------------------------')\n",
    "# print('Segment_Values: ' + str(np.unique(seg_encoded_resize)))\n",
    "# print('Scan_Values: ' + str(np.unique(scan_resized)))"
   ]
  },
  {
   "cell_type": "markdown",
   "metadata": {},
   "source": [
    "## Visualization of Dicom Scan and Resize One Hot Encoded Files"
   ]
  },
  {
   "cell_type": "code",
   "execution_count": 40,
   "metadata": {},
   "outputs": [],
   "source": [
    "\n",
    "# # Plot only dicom scan alone\n",
    "# plt.imshow(input_scan.pixel_array, cmap = plt.cm.bone)\n",
    "# print(np.unique(input_scan.pixel_array))"
   ]
  },
  {
   "cell_type": "code",
   "execution_count": 41,
   "metadata": {},
   "outputs": [],
   "source": [
    "# #\n",
    "\n",
    "# # Plot only dicom scan alone\n",
    "# plt.imshow(input_scan.pixel_array, cmap = plt.cm.bone)\n",
    "# print(np.unique(input_scan.pixel_array))"
   ]
  },
  {
   "cell_type": "code",
   "execution_count": 42,
   "metadata": {},
   "outputs": [],
   "source": [
    "# #\n",
    "\n",
    "# # print seg file shapes \n",
    "# print('seg_encoded segments shape is: ' + str(seg_encoded.shape))\n",
    "# print('seg_encoded resized segments shape is: ' + str(seg_encoded_resize.shape))\n",
    "# print('scan_encoded resized shape is: ' + str(scan_resized.shape))"
   ]
  },
  {
   "cell_type": "code",
   "execution_count": 43,
   "metadata": {},
   "outputs": [],
   "source": [
    "# #\n",
    "\n",
    "# # concatenate scan and seg files\n",
    "# scan = scan_resized\n",
    "# seg  = seg_encoded_resize[0] * 10000\n",
    "\n",
    "# print(scan_resized.shape, seg_encoded_resize[0].shape)\n",
    "# print(input_scan.pixel_array.shape, seg.shape)\n",
    "# print(input_scan.pixel_array.shape, seg[:,:,1].shape)"
   ]
  },
  {
   "cell_type": "code",
   "execution_count": 44,
   "metadata": {},
   "outputs": [],
   "source": [
    "# #\n",
    "\n",
    "# #print pixel values in dicom scan and nrrd file\n",
    "# print(np.unique(seg_encoded_resize[0]))\n",
    "# print(np.unique(input_scan.pixel_array))\n",
    "# print(np.unique(input_seg[0]))\n",
    "\n",
    "# seg1 = input_seg[0]*10000\n"
   ]
  },
  {
   "cell_type": "code",
   "execution_count": 45,
   "metadata": {},
   "outputs": [],
   "source": [
    "# fig, ax = plt.subplots()\n",
    "# #img = input_scan.pixel_array\n",
    "# #for class_idx in range(15):\n",
    "# #img = np.hstack([seg[:,:,14], input_scan.pixel_array])\n",
    "# img = np.hstack([input_scan.pixel_array, seg1])\n",
    "# plt.imshow(img, cmap=plt.cm.bone)\n",
    "# display(fig)\n",
    "# plt.axis('off')\n",
    "# plt.show()\n",
    "\n"
   ]
  },
  {
   "cell_type": "markdown",
   "metadata": {},
   "source": [
    "## Reshape tensor using list and numpy.array"
   ]
  },
  {
   "cell_type": "code",
   "execution_count": 46,
   "metadata": {},
   "outputs": [],
   "source": [
    "# print('seg_encoded shape is: ' +str(seg_encoded.shape))"
   ]
  },
  {
   "cell_type": "code",
   "execution_count": 47,
   "metadata": {},
   "outputs": [],
   "source": [
    "# seg_encoded_copy = deepcopy(seg_encoded)\n",
    "# depth = 4\n",
    "# list_img = []\n",
    "\n",
    "# for i in range(depth):\n",
    "#     list_img.append(seg_encoded_copy)\n",
    "    \n",
    "# print('size list_images: ' + str(list_img[0].shape))\n",
    "# print('size list_images: ' + str(list_img[1].shape))\n",
    "# print('size list_images: ' + str(list_img[2].shape))\n",
    "# print('size list_images: ' + str(list_img[3].shape))\n",
    "# #print('size list_images: ' + str(list_img[4].shape))\n",
    "    "
   ]
  },
  {
   "cell_type": "code",
   "execution_count": 48,
   "metadata": {},
   "outputs": [],
   "source": [
    "# seg_encoded_new = np.array(list_img)"
   ]
  },
  {
   "cell_type": "code",
   "execution_count": 49,
   "metadata": {},
   "outputs": [],
   "source": [
    "# seg_encoded_new.shape"
   ]
  },
  {
   "cell_type": "code",
   "execution_count": 50,
   "metadata": {},
   "outputs": [],
   "source": [
    "# seg_encoded_new[0].shape"
   ]
  },
  {
   "cell_type": "code",
   "execution_count": 51,
   "metadata": {},
   "outputs": [],
   "source": [
    "# print(np.unique(seg_encoded_new[0]))\n",
    "# print(np.unique(input_scan.pixel_array))"
   ]
  },
  {
   "cell_type": "code",
   "execution_count": 52,
   "metadata": {},
   "outputs": [],
   "source": [
    "# seg1 = seg_encoded_new[0]*10000\n",
    "\n",
    "# #img = input_scan.pixel_array\n",
    "# #for class_idx in range(15):\n",
    "# #img = np.hstack([seg[:,:,14], iAnput_scan.pixel_array])0"
   ]
  },
  {
   "cell_type": "code",
   "execution_count": 53,
   "metadata": {},
   "outputs": [],
   "source": [
    "# fig, ax = plt.subplots()\n",
    "\n",
    "# for class_idx in range(15): \n",
    "#     img = np.hstack([input_scan.pixel_array, seg1[:,:,class_idx]])\n",
    "#     plt.imshow(img, cmap='gray')\n",
    "#     display(fig)\n",
    "#     plt.axis('off')\n",
    "#     plt.show()"
   ]
  }
 ],
 "metadata": {
  "kernelspec": {
   "display_name": "Python 3",
   "language": "python",
   "name": "python3"
  },
  "language_info": {
   "codemirror_mode": {
    "name": "ipython",
    "version": 3
   },
   "file_extension": ".py",
   "mimetype": "text/x-python",
   "name": "python",
   "nbconvert_exporter": "python",
   "pygments_lexer": "ipython3",
   "version": "3.6.8"
  }
 },
 "nbformat": 4,
 "nbformat_minor": 2
}
