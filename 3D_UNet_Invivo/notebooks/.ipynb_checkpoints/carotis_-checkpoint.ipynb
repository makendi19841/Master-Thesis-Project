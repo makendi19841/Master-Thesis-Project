{
 "cells": [
  {
   "cell_type": "code",
   "execution_count": 1,
   "metadata": {},
   "outputs": [],
   "source": [
    "import os\n",
    "import pydicom\n",
    "%matplotlib inline\n",
    "from pathlib import Path\n",
    "import matplotlib.pyplot as plt\n",
    "#import matplotlib.image as mpimg\n",
    "import glob\n",
    "\n",
    "import skimage\n",
    "\n",
    "import numpy\n",
    "import numpy as np"
   ]
  },
  {
   "cell_type": "markdown",
   "metadata": {},
   "source": [
    "### plot"
   ]
  },
  {
   "cell_type": "code",
   "execution_count": 2,
   "metadata": {},
   "outputs": [],
   "source": [
    "def plot_data(data,cmaps):\n",
    "    #print('data: ' +str(data))\n",
    "    data_shape = np.array(data).shape\n",
    "    print('data_shape: ' +str(data_shape))\n",
    "    numImageTypes = data_shape[0]\n",
    "    print('numImageTypes: ' +str(numImageTypes))\n",
    "    numImageSets = data_shape[1]\n",
    "    print('numImageSets: ' +str(numImageSets))\n",
    "    print(numImageTypes,numImageSets)\n",
    "    fig = plt.figure(figsize=(3*numImageTypes,3*numImageSets))\n",
    "    for i in range(numImageSets):\n",
    "        for j in range(numImageTypes):\n",
    "            plt.subplot(numImageSets, numImageTypes,i*numImageTypes + j+1)\n",
    "            plt.axis('off')\n",
    "            img = plt.imshow(data[j][i])\n",
    "            img.set_cmap(cmaps[j])\n",
    "    plt.show()\n"
   ]
  },
  {
   "cell_type": "markdown",
   "metadata": {},
   "source": [
    "### load data"
   ]
  },
  {
   "cell_type": "code",
   "execution_count": 3,
   "metadata": {},
   "outputs": [
    {
     "name": "stdout",
     "output_type": "stream",
     "text": [
      "-------------------Test_data INFO-------------------------------\n",
      "----------------------------------------------------------------\n",
      "scan files in test_data: 14\n",
      "----------------------------------------------------------------\n",
      "['../data/raw/train/Pat_01_s229_T1.dcm', '../data/raw/train/Pat_01_s186_T1.dcm', '../data/raw/train/Pat_01_s187_T1.dcm', '../data/raw/train/Pat_01_s146_T1.dcm', '../data/raw/train/Pat_01_s185_T1.dcm', '../data/raw/train/Pat_01_s227_T1.dcm', '../data/raw/train/Pat_01_s102_T1.dcm', '../data/raw/train/Pat_01_s153_T1.dcm', '../data/raw/train/Pat_01_s220_T1.dcm', '../data/raw/train/Pat_01_s154_T1.dcm', '../data/raw/train/Pat_01_s222_T1.dcm', '../data/raw/train/Pat_01_s155_T1.dcm', '../data/raw/train/Pat_01_s221_T1.dcm', '../data/raw/train/Pat_01_s228_T1.dcm']\n",
      "----------------------------------------------------------------\n",
      "seg files in test_data: 14\n",
      "----------------------------------------------------------------\n",
      "['../data/raw/train/Pat_01_s229.cso.dcm', '../data/raw/train/Pat_01_s186.cso.dcm', '../data/raw/train/Pat_01_s187.cso.dcm', '../data/raw/train/Pat_01_s146.cso.dcm', '../data/raw/train/Pat_01_s185.cso.dcm', '../data/raw/train/Pat_01_s227.cso.dcm', '../data/raw/train/Pat_01_s102.cso.dcm', '../data/raw/train/Pat_01_s153.cso.dcm', '../data/raw/train/Pat_01_s220.cso.dcm', '../data/raw/train/Pat_01_s154.cso.dcm', '../data/raw/train/Pat_01_s222.cso.dcm', '../data/raw/train/Pat_01_s155.cso.dcm', '../data/raw/train/Pat_01_s221.cso.dcm', '../data/raw/train/Pat_01_s228.cso.dcm']\n",
      "----------------------------------------------------------------\n"
     ]
    }
   ],
   "source": [
    "#\n",
    "\n",
    "test_seg_files = glob.glob('../data/raw/test/**/*.cso.dcm', recursive=True)\n",
    "test_scan_files = [s.replace(\".cso\", \"_T1\") for s in test_seg_files]\n",
    "\n",
    "\n",
    "#\n",
    "\n",
    "train_seg_files = glob.glob('../data/raw/train/**/*.cso.dcm', recursive=True)\n",
    "train_scan_files = [s.replace(\".cso\", \"_T1\") for s in train_seg_files]\n",
    "\n",
    "\n",
    "# test files\n",
    "scan_files=train_scan_files\n",
    "seg_files=train_seg_files\n",
    "\n",
    "# build datasets from file paths\n",
    "#train_dataset = Dataset(scan_files=train_scan_files, seg_files=train_seg_files)\n",
    "#test_dataset = Dataset(scan_files=test_scan_files, seg_files=test_seg_files)\n",
    "\n",
    "\n",
    "print('-------------------Test_data INFO-------------------------------')\n",
    "print('----------------------------------------------------------------')\n",
    "print('scan files in test_data: ' + str(len(scan_files)))\n",
    "print('----------------------------------------------------------------')\n",
    "print(scan_files)\n",
    "print('----------------------------------------------------------------')\n",
    "print('seg files in test_data: ' + str(len(seg_files)))\n",
    "print('----------------------------------------------------------------')\n",
    "print(seg_files)\n",
    "print('----------------------------------------------------------------')\n",
    "\n"
   ]
  },
  {
   "cell_type": "code",
   "execution_count": 4,
   "metadata": {},
   "outputs": [
    {
     "name": "stdout",
     "output_type": "stream",
     "text": [
      "../data/raw/train/Pat_01_s229_T1.dcm\n",
      "../data/raw/train/Pat_01_s229.cso.dcm\n"
     ]
    }
   ],
   "source": [
    "print(scan_files[0])\n",
    "print(seg_files[0])"
   ]
  },
  {
   "cell_type": "code",
   "execution_count": 15,
   "metadata": {},
   "outputs": [
    {
     "name": "stdout",
     "output_type": "stream",
     "text": [
      "(0008, 0008) Image Type                          CS: ['DERIVED', 'SECONDARY', 'OTHER', 'MEVISLAB']\n",
      "(0008, 0012) Instance Creation Date              DA: '20080813'\n",
      "(0008, 0016) SOP Class UID                       UI: MR Image Storage\n",
      "(0008, 0018) SOP Instance UID                    UI: 1.3.6.1.4.1.34261.93383154909039.19372.1567080301.0\n",
      "(0008, 0020) Study Date                          DA: '20080812'\n",
      "(0008, 0022) Acquisition Date                    DA: '20080812'\n",
      "(0008, 0023) Content Date                        DA: '20190829'\n",
      "(0008, 0030) Study Time                          TM: '190551'\n",
      "(0008, 0032) Acquisition Time                    TM: '181658'\n",
      "(0008, 0033) Content Time                        TM: '140501.882000'\n",
      "(0008, 0050) Accession Number                    SH: '890993315260586290631548281360202943075753233713'\n",
      "(0008, 0060) Modality                            CS: 'MR'\n",
      "(0008, 0070) Manufacturer                        LO: 'Bruker BioSpin MRI GmbH'\n",
      "(0008, 0080) Institution Name                    LO: 'anonymized'\n",
      "(0008, 0090) Referring Physician's Name          PN: ''\n",
      "(0008, 1010) Station Name                        SH: 'anonymized'\n",
      "(0010, 0010) Patient's Name                      PN: ''\n",
      "(0010, 0020) Patient ID                          LO: '670988151218117021204524491230866652344500040284'\n",
      "(0010, 0021) Issuer of Patient ID                LO: 'MEDIAN V2.14b (Feb  2 2017 21:53:37)'\n",
      "(0010, 0030) Patient's Birth Date                DA: ''\n",
      "(0010, 0040) Patient's Sex                       CS: 'F'\n",
      "(0010, 1030) Patient's Weight                    DS: \"5\"\n",
      "(0018, 0020) Scanning Sequence                   CS: 'RM'\n",
      "(0018, 0021) Sequence Variant                    CS: 'NONE'\n",
      "(0018, 0022) Scan Options                        CS: ''\n",
      "(0018, 0023) MR Acquisition Type                 CS: '3D'\n",
      "(0018, 0024) Sequence Name                       SH: 'FLASH (pvm)'\n",
      "(0018, 0050) Slice Thickness                     DS: \"0.1\"\n",
      "(0018, 0080) Repetition Time                     DS: \"13.4\"\n",
      "(0018, 0081) Echo Time                           DS: \"2.4\"\n",
      "(0018, 0083) Number of Averages                  DS: \"12\"\n",
      "(0018, 0084) Imaging Frequency                   DS: \"400.316\"\n",
      "(0018, 0085) Imaged Nucleus                      SH: '1H'\n",
      "(0018, 0088) Spacing Between Slices              DS: \"0.029296875\"\n",
      "(0018, 0089) Number of Phase Encoding Steps      IS: \"256\"\n",
      "(0018, 0091) Echo Train Length                   IS: \"1\"\n",
      "(0018, 0094) Percent Phase Field of View         DS: \"100\"\n",
      "(0018, 0095) Pixel Bandwidth                     DS: \"616.776\"\n",
      "(0018, 1020) Software Version(s)                 LO: 'ParaVision 4.0'\n",
      "(0018, 1030) Protocol Name                       LO: '02_T1_FLASH_3D_Fatsat'\n",
      "(0018, 1310) Acquisition Matrix                  US: [160, 0, 0, 320]\n",
      "(0018, 1312) In-plane Phase Encoding Direction   CS: 'COL'\n",
      "(0018, 1314) Flip Angle                          DS: \"20\"\n",
      "(0018, 5100) Patient Position                    CS: 'HFS'\n",
      "(0020, 000d) Study Instance UID                  UI: 1.3.6.1.4.1.49296.0.7262809140622816981338180527584755793307\n",
      "(0020, 000e) Series Instance UID                 UI: 1.3.6.1.4.1.49296.0.2043813543532085445495939109939922715076\n",
      "(0020, 0010) Study ID                            SH: '1121661249504791295698736456178913600364764674400'\n",
      "(0020, 0011) Series Number                       IS: \"196609\"\n",
      "(0020, 0012) Acquisition Number                  IS: \"1\"\n",
      "(0020, 0013) Instance Number                     IS: \"1\"\n",
      "(0020, 0032) Image Position (Patient)            DS: ['18.3811009767781', '22.6409455238035', '-14972.700195313']\n",
      "(0020, 0037) Image Orientation (Patient)         DS: ['-1', '-2.833088129e-12', '2.8285186785e-12', '2.8330881286e-12', '-1', '1.1102230246e-15']\n",
      "(0020, 0052) Frame of Reference UID              UI: 2.16.756.5.5.100.993970969.6854.1218560785.28\n",
      "(0020, 1002) Images in Acquisition               IS: \"1\"\n",
      "(0020, 1040) Position Reference Indicator        LO: ''\n",
      "(0020, 4000) Image Comments                      LT: 'MeVisLab'\n",
      "(0021, 0010) Private Creator                     LO: 'MeVis eD: Timepoint Information'\n",
      "(0021, 1010) Private tag data                    LT: '20080812 181658.000000'\n",
      "(0021, 1011) Private tag data                    CS: 'UNKNOWN'\n",
      "(0028, 0002) Samples per Pixel                   US: 1\n",
      "(0028, 0004) Photometric Interpretation          CS: 'MONOCHROME2'\n",
      "(0028, 0008) Number of Frames                    IS: \"1\"\n",
      "(0028, 0010) Rows                                US: 512\n",
      "(0028, 0011) Columns                             US: 512\n",
      "(0028, 0030) Pixel Spacing                       DS: ['0.029296875', '0.029296875']\n",
      "(0028, 0100) Bits Allocated                      US: 16\n",
      "(0028, 0101) Bits Stored                         US: 16\n",
      "(0028, 0102) High Bit                            US: 15\n",
      "(0028, 0103) Pixel Representation                US: 1\n",
      "(0028, 0106) Smallest Image Pixel Value          SS: 0\n",
      "(0028, 0107) Largest Image Pixel Value           SS: 14\n",
      "(0028, 1050) Window Center                       DS: \"16473.5\"\n",
      "(0028, 1051) Window Width                        DS: \"32587\"\n",
      "(0028, 1055) Window Center & Width Explanation   LO: 'MinMax'\n",
      "(1111, 0010) Private Creator                     LO: 'MEDIAN V2.14b (Feb  2 2017 21:53:37)'\n",
      "(7fe0, 0010) Pixel Data                          OW: Array of 524288 bytes\n",
      "data_shape: (2, 1)\n",
      "numImageTypes: 2\n",
      "numImageSets: 1\n",
      "2 1\n"
     ]
    },
    {
     "ename": "TypeError",
     "evalue": "Image data of dtype object cannot be converted to float",
     "output_type": "error",
     "traceback": [
      "\u001b[0;31m---------------------------------------------------------------------------\u001b[0m",
      "\u001b[0;31mTypeError\u001b[0m                                 Traceback (most recent call last)",
      "\u001b[0;32m<ipython-input-15-2c2b0a51ea88>\u001b[0m in \u001b[0;36m<module>\u001b[0;34m\u001b[0m\n\u001b[1;32m     14\u001b[0m     \u001b[0;32mbreak\u001b[0m\u001b[0;34m\u001b[0m\u001b[0;34m\u001b[0m\u001b[0m\n\u001b[1;32m     15\u001b[0m \u001b[0;34m\u001b[0m\u001b[0m\n\u001b[0;32m---> 16\u001b[0;31m \u001b[0mplot_data\u001b[0m\u001b[0;34m(\u001b[0m\u001b[0;34m[\u001b[0m\u001b[0mscans\u001b[0m\u001b[0;34m,\u001b[0m\u001b[0msegs\u001b[0m\u001b[0;34m]\u001b[0m\u001b[0;34m,\u001b[0m\u001b[0;34m[\u001b[0m\u001b[0;34m'gray'\u001b[0m\u001b[0;34m,\u001b[0m\u001b[0;34m'gnuplot'\u001b[0m\u001b[0;34m]\u001b[0m\u001b[0;34m)\u001b[0m \u001b[0;31m#fix_labels2(labels,[1,14])\u001b[0m\u001b[0;34m\u001b[0m\u001b[0;34m\u001b[0m\u001b[0m\n\u001b[0m",
      "\u001b[0;32m<ipython-input-2-8483828feeee>\u001b[0m in \u001b[0;36mplot_data\u001b[0;34m(data, cmaps)\u001b[0m\n\u001b[1;32m     13\u001b[0m             \u001b[0mplt\u001b[0m\u001b[0;34m.\u001b[0m\u001b[0msubplot\u001b[0m\u001b[0;34m(\u001b[0m\u001b[0mnumImageSets\u001b[0m\u001b[0;34m,\u001b[0m \u001b[0mnumImageTypes\u001b[0m\u001b[0;34m,\u001b[0m\u001b[0mi\u001b[0m\u001b[0;34m*\u001b[0m\u001b[0mnumImageTypes\u001b[0m \u001b[0;34m+\u001b[0m \u001b[0mj\u001b[0m\u001b[0;34m+\u001b[0m\u001b[0;36m1\u001b[0m\u001b[0;34m)\u001b[0m\u001b[0;34m\u001b[0m\u001b[0;34m\u001b[0m\u001b[0m\n\u001b[1;32m     14\u001b[0m             \u001b[0mplt\u001b[0m\u001b[0;34m.\u001b[0m\u001b[0maxis\u001b[0m\u001b[0;34m(\u001b[0m\u001b[0;34m'off'\u001b[0m\u001b[0;34m)\u001b[0m\u001b[0;34m\u001b[0m\u001b[0;34m\u001b[0m\u001b[0m\n\u001b[0;32m---> 15\u001b[0;31m             \u001b[0mimg\u001b[0m \u001b[0;34m=\u001b[0m \u001b[0mplt\u001b[0m\u001b[0;34m.\u001b[0m\u001b[0mimshow\u001b[0m\u001b[0;34m(\u001b[0m\u001b[0mdata\u001b[0m\u001b[0;34m[\u001b[0m\u001b[0mj\u001b[0m\u001b[0;34m]\u001b[0m\u001b[0;34m[\u001b[0m\u001b[0mi\u001b[0m\u001b[0;34m]\u001b[0m\u001b[0;34m)\u001b[0m\u001b[0;34m\u001b[0m\u001b[0;34m\u001b[0m\u001b[0m\n\u001b[0m\u001b[1;32m     16\u001b[0m             \u001b[0mimg\u001b[0m\u001b[0;34m.\u001b[0m\u001b[0mset_cmap\u001b[0m\u001b[0;34m(\u001b[0m\u001b[0mcmaps\u001b[0m\u001b[0;34m[\u001b[0m\u001b[0mj\u001b[0m\u001b[0;34m]\u001b[0m\u001b[0;34m)\u001b[0m\u001b[0;34m\u001b[0m\u001b[0;34m\u001b[0m\u001b[0m\n\u001b[1;32m     17\u001b[0m     \u001b[0mplt\u001b[0m\u001b[0;34m.\u001b[0m\u001b[0mshow\u001b[0m\u001b[0;34m(\u001b[0m\u001b[0;34m)\u001b[0m\u001b[0;34m\u001b[0m\u001b[0;34m\u001b[0m\u001b[0m\n",
      "\u001b[0;32m~/anaconda3/envs/thesis/lib/python3.6/site-packages/matplotlib/pyplot.py\u001b[0m in \u001b[0;36mimshow\u001b[0;34m(X, cmap, norm, aspect, interpolation, alpha, vmin, vmax, origin, extent, shape, filternorm, filterrad, imlim, resample, url, data, **kwargs)\u001b[0m\n\u001b[1;32m   2675\u001b[0m         \u001b[0mfilternorm\u001b[0m\u001b[0;34m=\u001b[0m\u001b[0mfilternorm\u001b[0m\u001b[0;34m,\u001b[0m \u001b[0mfilterrad\u001b[0m\u001b[0;34m=\u001b[0m\u001b[0mfilterrad\u001b[0m\u001b[0;34m,\u001b[0m \u001b[0mimlim\u001b[0m\u001b[0;34m=\u001b[0m\u001b[0mimlim\u001b[0m\u001b[0;34m,\u001b[0m\u001b[0;34m\u001b[0m\u001b[0;34m\u001b[0m\u001b[0m\n\u001b[1;32m   2676\u001b[0m         resample=resample, url=url, **({\"data\": data} if data is not\n\u001b[0;32m-> 2677\u001b[0;31m         None else {}), **kwargs)\n\u001b[0m\u001b[1;32m   2678\u001b[0m     \u001b[0msci\u001b[0m\u001b[0;34m(\u001b[0m\u001b[0m__ret\u001b[0m\u001b[0;34m)\u001b[0m\u001b[0;34m\u001b[0m\u001b[0;34m\u001b[0m\u001b[0m\n\u001b[1;32m   2679\u001b[0m     \u001b[0;32mreturn\u001b[0m \u001b[0m__ret\u001b[0m\u001b[0;34m\u001b[0m\u001b[0;34m\u001b[0m\u001b[0m\n",
      "\u001b[0;32m~/anaconda3/envs/thesis/lib/python3.6/site-packages/matplotlib/__init__.py\u001b[0m in \u001b[0;36minner\u001b[0;34m(ax, data, *args, **kwargs)\u001b[0m\n\u001b[1;32m   1587\u001b[0m     \u001b[0;32mdef\u001b[0m \u001b[0minner\u001b[0m\u001b[0;34m(\u001b[0m\u001b[0max\u001b[0m\u001b[0;34m,\u001b[0m \u001b[0;34m*\u001b[0m\u001b[0margs\u001b[0m\u001b[0;34m,\u001b[0m \u001b[0mdata\u001b[0m\u001b[0;34m=\u001b[0m\u001b[0;32mNone\u001b[0m\u001b[0;34m,\u001b[0m \u001b[0;34m**\u001b[0m\u001b[0mkwargs\u001b[0m\u001b[0;34m)\u001b[0m\u001b[0;34m:\u001b[0m\u001b[0;34m\u001b[0m\u001b[0;34m\u001b[0m\u001b[0m\n\u001b[1;32m   1588\u001b[0m         \u001b[0;32mif\u001b[0m \u001b[0mdata\u001b[0m \u001b[0;32mis\u001b[0m \u001b[0;32mNone\u001b[0m\u001b[0;34m:\u001b[0m\u001b[0;34m\u001b[0m\u001b[0;34m\u001b[0m\u001b[0m\n\u001b[0;32m-> 1589\u001b[0;31m             \u001b[0;32mreturn\u001b[0m \u001b[0mfunc\u001b[0m\u001b[0;34m(\u001b[0m\u001b[0max\u001b[0m\u001b[0;34m,\u001b[0m \u001b[0;34m*\u001b[0m\u001b[0mmap\u001b[0m\u001b[0;34m(\u001b[0m\u001b[0msanitize_sequence\u001b[0m\u001b[0;34m,\u001b[0m \u001b[0margs\u001b[0m\u001b[0;34m)\u001b[0m\u001b[0;34m,\u001b[0m \u001b[0;34m**\u001b[0m\u001b[0mkwargs\u001b[0m\u001b[0;34m)\u001b[0m\u001b[0;34m\u001b[0m\u001b[0;34m\u001b[0m\u001b[0m\n\u001b[0m\u001b[1;32m   1590\u001b[0m \u001b[0;34m\u001b[0m\u001b[0m\n\u001b[1;32m   1591\u001b[0m         \u001b[0mbound\u001b[0m \u001b[0;34m=\u001b[0m \u001b[0mnew_sig\u001b[0m\u001b[0;34m.\u001b[0m\u001b[0mbind\u001b[0m\u001b[0;34m(\u001b[0m\u001b[0max\u001b[0m\u001b[0;34m,\u001b[0m \u001b[0;34m*\u001b[0m\u001b[0margs\u001b[0m\u001b[0;34m,\u001b[0m \u001b[0;34m**\u001b[0m\u001b[0mkwargs\u001b[0m\u001b[0;34m)\u001b[0m\u001b[0;34m\u001b[0m\u001b[0;34m\u001b[0m\u001b[0m\n",
      "\u001b[0;32m~/anaconda3/envs/thesis/lib/python3.6/site-packages/matplotlib/cbook/deprecation.py\u001b[0m in \u001b[0;36mwrapper\u001b[0;34m(*args, **kwargs)\u001b[0m\n\u001b[1;32m    367\u001b[0m                 \u001b[0;34mf\"%(removal)s.  If any parameter follows {name!r}, they \"\u001b[0m\u001b[0;34m\u001b[0m\u001b[0;34m\u001b[0m\u001b[0m\n\u001b[1;32m    368\u001b[0m                 f\"should be pass as keyword, not positionally.\")\n\u001b[0;32m--> 369\u001b[0;31m         \u001b[0;32mreturn\u001b[0m \u001b[0mfunc\u001b[0m\u001b[0;34m(\u001b[0m\u001b[0;34m*\u001b[0m\u001b[0margs\u001b[0m\u001b[0;34m,\u001b[0m \u001b[0;34m**\u001b[0m\u001b[0mkwargs\u001b[0m\u001b[0;34m)\u001b[0m\u001b[0;34m\u001b[0m\u001b[0;34m\u001b[0m\u001b[0m\n\u001b[0m\u001b[1;32m    370\u001b[0m \u001b[0;34m\u001b[0m\u001b[0m\n\u001b[1;32m    371\u001b[0m     \u001b[0;32mreturn\u001b[0m \u001b[0mwrapper\u001b[0m\u001b[0;34m\u001b[0m\u001b[0;34m\u001b[0m\u001b[0m\n",
      "\u001b[0;32m~/anaconda3/envs/thesis/lib/python3.6/site-packages/matplotlib/cbook/deprecation.py\u001b[0m in \u001b[0;36mwrapper\u001b[0;34m(*args, **kwargs)\u001b[0m\n\u001b[1;32m    367\u001b[0m                 \u001b[0;34mf\"%(removal)s.  If any parameter follows {name!r}, they \"\u001b[0m\u001b[0;34m\u001b[0m\u001b[0;34m\u001b[0m\u001b[0m\n\u001b[1;32m    368\u001b[0m                 f\"should be pass as keyword, not positionally.\")\n\u001b[0;32m--> 369\u001b[0;31m         \u001b[0;32mreturn\u001b[0m \u001b[0mfunc\u001b[0m\u001b[0;34m(\u001b[0m\u001b[0;34m*\u001b[0m\u001b[0margs\u001b[0m\u001b[0;34m,\u001b[0m \u001b[0;34m**\u001b[0m\u001b[0mkwargs\u001b[0m\u001b[0;34m)\u001b[0m\u001b[0;34m\u001b[0m\u001b[0;34m\u001b[0m\u001b[0m\n\u001b[0m\u001b[1;32m    370\u001b[0m \u001b[0;34m\u001b[0m\u001b[0m\n\u001b[1;32m    371\u001b[0m     \u001b[0;32mreturn\u001b[0m \u001b[0mwrapper\u001b[0m\u001b[0;34m\u001b[0m\u001b[0;34m\u001b[0m\u001b[0m\n",
      "\u001b[0;32m~/anaconda3/envs/thesis/lib/python3.6/site-packages/matplotlib/axes/_axes.py\u001b[0m in \u001b[0;36mimshow\u001b[0;34m(self, X, cmap, norm, aspect, interpolation, alpha, vmin, vmax, origin, extent, shape, filternorm, filterrad, imlim, resample, url, **kwargs)\u001b[0m\n\u001b[1;32m   5658\u001b[0m                               resample=resample, **kwargs)\n\u001b[1;32m   5659\u001b[0m \u001b[0;34m\u001b[0m\u001b[0m\n\u001b[0;32m-> 5660\u001b[0;31m         \u001b[0mim\u001b[0m\u001b[0;34m.\u001b[0m\u001b[0mset_data\u001b[0m\u001b[0;34m(\u001b[0m\u001b[0mX\u001b[0m\u001b[0;34m)\u001b[0m\u001b[0;34m\u001b[0m\u001b[0;34m\u001b[0m\u001b[0m\n\u001b[0m\u001b[1;32m   5661\u001b[0m         \u001b[0mim\u001b[0m\u001b[0;34m.\u001b[0m\u001b[0mset_alpha\u001b[0m\u001b[0;34m(\u001b[0m\u001b[0malpha\u001b[0m\u001b[0;34m)\u001b[0m\u001b[0;34m\u001b[0m\u001b[0;34m\u001b[0m\u001b[0m\n\u001b[1;32m   5662\u001b[0m         \u001b[0;32mif\u001b[0m \u001b[0mim\u001b[0m\u001b[0;34m.\u001b[0m\u001b[0mget_clip_path\u001b[0m\u001b[0;34m(\u001b[0m\u001b[0;34m)\u001b[0m \u001b[0;32mis\u001b[0m \u001b[0;32mNone\u001b[0m\u001b[0;34m:\u001b[0m\u001b[0;34m\u001b[0m\u001b[0;34m\u001b[0m\u001b[0m\n",
      "\u001b[0;32m~/anaconda3/envs/thesis/lib/python3.6/site-packages/matplotlib/image.py\u001b[0m in \u001b[0;36mset_data\u001b[0;34m(self, A)\u001b[0m\n\u001b[1;32m    676\u001b[0m                 not np.can_cast(self._A.dtype, float, \"same_kind\")):\n\u001b[1;32m    677\u001b[0m             raise TypeError(\"Image data of dtype {} cannot be converted to \"\n\u001b[0;32m--> 678\u001b[0;31m                             \"float\".format(self._A.dtype))\n\u001b[0m\u001b[1;32m    679\u001b[0m \u001b[0;34m\u001b[0m\u001b[0m\n\u001b[1;32m    680\u001b[0m         if not (self._A.ndim == 2\n",
      "\u001b[0;31mTypeError\u001b[0m: Image data of dtype object cannot be converted to float"
     ]
    },
    {
     "data": {
      "image/png": "[encoded data removed]",
      "text/plain": [
       "<Figure size 432x216 with 2 Axes>"
      ]
     },
     "metadata": {
      "needs_background": "light"
     },
     "output_type": "display_data"
    }
   ],
   "source": [
    "segs = []\n",
    "scans = []\n",
    "\n",
    "for s in seg_files:\n",
    "    ds = pydicom.dcmread(s) \n",
    "    print(ds)\n",
    "    segs.append(ds.pixel_array)\n",
    "    break\n",
    "    \n",
    "for s in scan_files:\n",
    "    ds = pydicom.dcmread(s) \n",
    "    #print(ds)\n",
    "    scans.append(ds.pixel_array)\n",
    "    break\n",
    "    \n",
    "plot_data([scans,segs],['gray','gnuplot']) #fix_labels2(labels,[1,14])"
   ]
  },
  {
   "cell_type": "code",
   "execution_count": 6,
   "metadata": {},
   "outputs": [],
   "source": [
    "#from keras.utils import to_categorical--->Lilli\n",
    "#from tensorflow.python.keras.utils import to_categorical -------> Amos\n",
    "\n",
    "from tensorflow.python.keras.utils import to_categorical"
   ]
  },
  {
   "cell_type": "markdown",
   "metadata": {},
   "source": [
    "### one hot"
   ]
  },
  {
   "cell_type": "code",
   "execution_count": 7,
   "metadata": {},
   "outputs": [],
   "source": [
    "# function to change original classes or labels to a given number of classes, e.g intima:1 and lume:14\n",
    "# arguments:\n",
    "#           label_images: \n",
    "#           labels: list of number of classes, e.g [1,14]: intima and lumen\n",
    "def fix_labels2(label_images,labels): \n",
    "    encoded = []\n",
    "    numLabels = len(labels)\n",
    "    for img in label_images:\n",
    "        #print('number of classes original: ' + str(np.unique(img)))\n",
    "        img2 = numpy.zeros_like(img)\n",
    "        for i,label in enumerate(labels):\n",
    "            img2 = np.where(img==label, i+1, img2)\n",
    "            print('number of classes after fix labels: ' + str(np.unique(img)))\n",
    "        encoded.append(img2)\n",
    "    return encoded\n",
    "\n",
    "\n",
    "\n",
    "def fix_labels(img,labels):\n",
    "    img2 = numpy.zeros_like(img)\n",
    "    for i,label in enumerate(labels):\n",
    "        img2 = np.where(img==label, i+1, img2)        \n",
    "    return img2\n",
    "        \n",
    "def one_hot_encoding(label_images,numLabels):\n",
    "    encoded = []\n",
    "    for img in label_images:\n",
    "        original_shape = img.shape\n",
    "        #print('original_shape' +str(img.shape))\n",
    "        img2= to_categorical(img.flatten(), numLabels)\n",
    "        img2 = np.reshape(img2, (original_shape[0],original_shape[1],numLabels))\n",
    "        print('image encoded shape: ' +str(img2.shape))\n",
    "        encoded.append(img2)\n",
    "    return encoded\n",
    "\n",
    "# def one_hot_encoding(label_images,numLabels):\n",
    "#     encoded = []\n",
    "#     for img in label_images:\n",
    "#         original_shape = img.shape\n",
    "#         print('original_shape' +str(img.shape))\n",
    "#         img2= to_categorical(img.flatten(), numLabels)\n",
    "#         img2 = np.reshape(img2, (128,128,numLabels))\n",
    "#         print('image encoded shape: ' +str(img2.shape))\n",
    "#         encoded.append(img2)\n",
    "#     return encoded\n",
    "\n",
    "        \n",
    "def one_hot_decoding(encodings,labels):\n",
    "    decoded = []\n",
    "    for img in encodings:\n",
    "        if (len(img.shape)!=3):\n",
    "            print(\"ERROR: wrong shape\")\n",
    "        original_shape = (img.shape[0],img.shape[1])\n",
    "        img2 = numpy.zeros(original_shape)\n",
    "        \n",
    "        for i, label in enumerate(labels):\n",
    "            img2 += np.array(img)[:,:,i+1]*label\n",
    "        decoded.append(img2)\n",
    "    return decoded"
   ]
  },
  {
   "cell_type": "code",
   "execution_count": 8,
   "metadata": {},
   "outputs": [],
   "source": [
    "# \n",
    "# ohlabels = one_hot_encoding(fix_labels2(labels,[1,14]),3)\n",
    "# plot_data([np.array(ohlabels)[:,:,:,2]],['gnuplot'])\n",
    "# l = one_hot_decoding(ohlabels,[1,14])\n",
    "# plot_data([l],['gnuplot'])"
   ]
  },
  {
   "cell_type": "code",
   "execution_count": 9,
   "metadata": {},
   "outputs": [
    {
     "name": "stdout",
     "output_type": "stream",
     "text": [
      "number of classes after fix labels: [ 0  1 14]\n",
      "number of classes after fix labels: [ 0  1 14]\n",
      "number of classes after fix labels: [ 0  1  4 14]\n",
      "number of classes after fix labels: [ 0  1  4 14]\n",
      "number of classes after fix labels: [   0    1   14 4095]\n",
      "number of classes after fix labels: [   0    1   14 4095]\n",
      "number of classes after fix labels: [ 0  1  5 14]\n",
      "number of classes after fix labels: [ 0  1  5 14]\n",
      "number of classes after fix labels: [ 0  1  4 14]\n",
      "number of classes after fix labels: [ 0  1  4 14]\n",
      "number of classes after fix labels: [ 0  1 14]\n",
      "number of classes after fix labels: [ 0  1 14]\n",
      "number of classes after fix labels: [ 0  1  5 14]\n",
      "number of classes after fix labels: [ 0  1  5 14]\n",
      "number of classes after fix labels: [ 0  1  4 14]\n",
      "number of classes after fix labels: [ 0  1  4 14]\n",
      "number of classes after fix labels: [ 0  1 14]\n",
      "number of classes after fix labels: [ 0  1 14]\n",
      "number of classes after fix labels: [ 0  1  4 14]\n",
      "number of classes after fix labels: [ 0  1  4 14]\n",
      "number of classes after fix labels: [ 0  1 14]\n",
      "number of classes after fix labels: [ 0  1 14]\n",
      "number of classes after fix labels: [ 0  1  4 14]\n",
      "number of classes after fix labels: [ 0  1  4 14]\n",
      "number of classes after fix labels: [ 0  1 14]\n",
      "number of classes after fix labels: [ 0  1 14]\n",
      "number of classes after fix labels: [ 0  1 14]\n",
      "number of classes after fix labels: [ 0  1 14]\n",
      "image encoded shape: (512, 512, 3)\n",
      "image encoded shape: (512, 512, 3)\n",
      "image encoded shape: (512, 512, 3)\n",
      "image encoded shape: (512, 512, 3)\n",
      "image encoded shape: (512, 512, 3)\n",
      "image encoded shape: (512, 512, 3)\n",
      "image encoded shape: (512, 512, 3)\n",
      "image encoded shape: (512, 512, 3)\n",
      "image encoded shape: (512, 512, 3)\n",
      "image encoded shape: (512, 512, 3)\n",
      "image encoded shape: (512, 512, 3)\n",
      "image encoded shape: (512, 512, 3)\n",
      "image encoded shape: (512, 512, 3)\n",
      "image encoded shape: (512, 512, 3)\n",
      "ohlabels values: [0. 1.]\n",
      "ohlabels shape: (14, 512, 512, 3)\n",
      "data_shape: (1, 14, 512, 512)\n",
      "numImageTypes: 1\n",
      "numImageSets: 14\n",
      "1 14\n"
     ]
    },
    {
     "data": {
      "image/png": "[encoded data removed]",
      "text/plain": [
       "<Figure size 216x3024 with 14 Axes>"
      ]
     },
     "metadata": {
      "needs_background": "light"
     },
     "output_type": "display_data"
    },
    {
     "name": "stdout",
     "output_type": "stream",
     "text": [
      "-------------------------------------------\n",
      "data_shape: (1, 14, 512, 512)\n",
      "numImageTypes: 1\n",
      "numImageSets: 14\n",
      "1 14\n"
     ]
    },
    {
     "data": {
      "image/png": "[encoded data removed]",
      "text/plain": [
       "<Figure size 216x3024 with 14 Axes>"
      ]
     },
     "metadata": {
      "needs_background": "light"
     },
     "output_type": "display_data"
    }
   ],
   "source": [
    "ohlabels = one_hot_encoding(fix_labels2(segs,[1,14]),3)\n",
    "print('ohlabels values: ' +str(np.unique(ohlabels)))\n",
    "print('ohlabels shape: ' +str(np.array(ohlabels).shape))\n",
    "\n",
    "plot_data([np.array(ohlabels)[:,:,:,2]],['gnuplot'])\n",
    "\n",
    "\n",
    "print('-------------------------------------------')\n",
    "l = one_hot_decoding(ohlabels,[1,14])\n",
    "plot_data([l],['gnuplot'])\n"
   ]
  },
  {
   "cell_type": "code",
   "execution_count": null,
   "metadata": {},
   "outputs": [],
   "source": []
  }
 ],
 "metadata": {
  "kernelspec": {
   "display_name": "Python 3",
   "language": "python",
   "name": "python3"
  },
  "language_info": {
   "codemirror_mode": {
    "name": "ipython",
    "version": 3
   },
   "file_extension": ".py",
   "mimetype": "text/x-python",
   "name": "python",
   "nbconvert_exporter": "python",
   "pygments_lexer": "ipython3",
   "version": "3.6.8"
  }
 },
 "nbformat": 4,
 "nbformat_minor": 4
}
