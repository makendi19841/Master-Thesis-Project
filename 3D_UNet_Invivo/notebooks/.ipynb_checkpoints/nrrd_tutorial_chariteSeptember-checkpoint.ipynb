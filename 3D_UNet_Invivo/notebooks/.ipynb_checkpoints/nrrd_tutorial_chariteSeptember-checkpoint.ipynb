{
 "cells": [
  {
   "cell_type": "code",
   "execution_count": 39,
   "metadata": {},
   "outputs": [],
   "source": [
    "import nrrd\n",
    "\n",
    "import numpy as np\n",
    "import pandas as pd\n",
    "from copy import copy, deepcopy\n",
    "import matplotlib.pyplot as plt\n",
    "\n",
    "# use to extract label info from segment arrays\n",
    "import scipy.ndimage as ndi\n",
    "\n",
    "# \n",
    "import skimage\n",
    "\n",
    "#from skimage.transform import resize\n",
    "import tensorflow as tf\n",
    "\n",
    "import pydicom\n",
    "from pydicom.data import get_testdata_files"
   ]
  },
  {
   "cell_type": "code",
   "execution_count": 40,
   "metadata": {},
   "outputs": [],
   "source": [
    "input_seg = nrrd.read('/home/amos/3D_UNet_Multi_Class/data/raw/train/Pat_01_s221.nrrd')\n",
    "input_scans = pydicom.dcmread('/home/amos/3D_UNet_Multi_Class/data/raw/train/Pat_01_s221_T1.dcm')"
   ]
  },
  {
   "cell_type": "code",
   "execution_count": 41,
   "metadata": {},
   "outputs": [],
   "source": [
    "# extract seg data and header\n",
    "seg = input_seg[0]\n",
    "header = input_seg[1]"
   ]
  },
  {
   "cell_type": "code",
   "execution_count": 42,
   "metadata": {},
   "outputs": [
    {
     "name": "stdout",
     "output_type": "stream",
     "text": [
      "[[0 0 0 ... 0 0 0]\n",
      " [0 0 0 ... 0 0 0]\n",
      " [0 0 0 ... 0 0 0]\n",
      " ...\n",
      " [0 0 0 ... 0 0 0]\n",
      " [0 0 0 ... 0 0 0]\n",
      " [0 0 0 ... 0 0 0]]\n",
      ".......................................................\n",
      "<bound method Dataset.values of (0008, 0008) Image Type                          CS: ['DERIVED', 'SECONDARY', 'OTHER', 'MEVISLAB']\n",
      "(0008, 0012) Instance Creation Date              DA: '20080813'\n",
      "(0008, 0016) SOP Class UID                       UI: MR Image Storage\n",
      "(0008, 0018) SOP Instance UID                    UI: 1.3.6.1.4.1.34261.93383154909039.19372.1567079065.8\n",
      "(0008, 0020) Study Date                          DA: '20080812'\n",
      "(0008, 0022) Acquisition Date                    DA: '20080812'\n",
      "(0008, 0023) Content Date                        DA: '20190829'\n",
      "(0008, 0030) Study Time                          TM: '190551'\n",
      "(0008, 0032) Acquisition Time                    TM: '181658'\n",
      "(0008, 0033) Content Time                        TM: '134425.549000'\n",
      "(0008, 0050) Accession Number                    SH: '890993315260586290631548281360202943075753233713'\n",
      "(0008, 0060) Modality                            CS: 'MR'\n",
      "(0008, 0070) Manufacturer                        LO: 'Bruker BioSpin MRI GmbH'\n",
      "(0008, 0080) Institution Name                    LO: 'anonymized'\n",
      "(0008, 0090) Referring Physician's Name          PN: ''\n",
      "(0008, 1010) Station Name                        SH: 'anonymized'\n",
      "(0010, 0010) Patient's Name                      PN: ''\n",
      "(0010, 0020) Patient ID                          LO: '670988151218117021204524491230866652344500040284'\n",
      "(0010, 0021) Issuer of Patient ID                LO: 'MEDIAN V2.14b (Feb  2 2017 21:53:37)'\n",
      "(0010, 0030) Patient's Birth Date                DA: ''\n",
      "(0010, 0040) Patient's Sex                       CS: 'F'\n",
      "(0010, 1030) Patient's Weight                    DS: \"5\"\n",
      "(0018, 0020) Scanning Sequence                   CS: 'RM'\n",
      "(0018, 0021) Sequence Variant                    CS: 'NONE'\n",
      "(0018, 0022) Scan Options                        CS: ''\n",
      "(0018, 0023) MR Acquisition Type                 CS: '3D'\n",
      "(0018, 0024) Sequence Name                       SH: 'FLASH (pvm)'\n",
      "(0018, 0050) Slice Thickness                     DS: \"0.1\"\n",
      "(0018, 0080) Repetition Time                     DS: \"13.4\"\n",
      "(0018, 0081) Echo Time                           DS: \"2.4\"\n",
      "(0018, 0083) Number of Averages                  DS: \"12\"\n",
      "(0018, 0084) Imaging Frequency                   DS: \"400.316\"\n",
      "(0018, 0085) Imaged Nucleus                      SH: '1H'\n",
      "(0018, 0088) Spacing Between Slices              DS: \"0.029296875\"\n",
      "(0018, 0089) Number of Phase Encoding Steps      IS: \"256\"\n",
      "(0018, 0091) Echo Train Length                   IS: \"1\"\n",
      "(0018, 0094) Percent Phase Field of View         DS: \"100\"\n",
      "(0018, 0095) Pixel Bandwidth                     DS: \"616.776\"\n",
      "(0018, 1020) Software Version(s)                 LO: 'ParaVision 4.0'\n",
      "(0018, 1030) Protocol Name                       LO: '02_T1_FLASH_3D_Fatsat'\n",
      "(0018, 1310) Acquisition Matrix                  US: [160, 0, 0, 320]\n",
      "(0018, 1312) In-plane Phase Encoding Direction   CS: 'COL'\n",
      "(0018, 1314) Flip Angle                          DS: \"20\"\n",
      "(0018, 5100) Patient Position                    CS: 'HFS'\n",
      "(0020, 000d) Study Instance UID                  UI: 1.3.6.1.4.1.49296.0.7262809140622816981338180527584755793307\n",
      "(0020, 000e) Series Instance UID                 UI: 1.3.6.1.4.1.49296.0.2043813543532085445495939109939922715076\n",
      "(0020, 0010) Study ID                            SH: '1121661249504791295698736456178913600364764674400'\n",
      "(0020, 0011) Series Number                       IS: \"196609\"\n",
      "(0020, 0012) Acquisition Number                  IS: \"1\"\n",
      "(0020, 0013) Instance Number                     IS: \"1\"\n",
      "(0020, 0032) Image Position (Patient)            DS: ['18.3130797011871', '22.3636044320823', '-14973.5']\n",
      "(0020, 0037) Image Orientation (Patient)         DS: ['-1', '-2.833088129e-12', '2.8285186785e-12', '2.8330881286e-12', '-1', '1.1102230246e-15']\n",
      "(0020, 0052) Frame of Reference UID              UI: 2.16.756.5.5.100.993970969.6854.1218560785.28\n",
      "(0020, 1002) Images in Acquisition               IS: \"1\"\n",
      "(0020, 1040) Position Reference Indicator        LO: ''\n",
      "(0020, 4000) Image Comments                      LT: 'MeVisLab'\n",
      "(0021, 0010) Private Creator                     LO: 'MeVis eD: Timepoint Information'\n",
      "(0021, 1010) Private tag data                    LT: '20080812 181658.000000'\n",
      "(0021, 1011) Private tag data                    CS: 'UNKNOWN'\n",
      "(0028, 0002) Samples per Pixel                   US: 1\n",
      "(0028, 0004) Photometric Interpretation          CS: 'MONOCHROME2'\n",
      "(0028, 0008) Number of Frames                    IS: \"1\"\n",
      "(0028, 0010) Rows                                US: 512\n",
      "(0028, 0011) Columns                             US: 512\n",
      "(0028, 0030) Pixel Spacing                       DS: ['0.029296875', '0.029296875']\n",
      "(0028, 0100) Bits Allocated                      US: 16\n",
      "(0028, 0101) Bits Stored                         US: 16\n",
      "(0028, 0102) High Bit                            US: 15\n",
      "(0028, 0103) Pixel Representation                US: 1\n",
      "(0028, 0106) Smallest Image Pixel Value          SS: 0\n",
      "(0028, 0107) Largest Image Pixel Value           SS: 32767\n",
      "(0028, 1050) Window Center                       DS: \"16473.5\"\n",
      "(0028, 1051) Window Width                        DS: \"32587\"\n",
      "(0028, 1055) Window Center & Width Explanation   LO: 'MinMax'\n",
      "(1111, 0010) Private Creator                     LO: 'MEDIAN V2.14b (Feb  2 2017 21:53:37)'\n",
      "(7fe0, 0010) Pixel Data                          OW: Array of 524288 bytes>\n"
     ]
    }
   ],
   "source": [
    "print(seg)\n",
    "print('.......................................................')\n",
    "\n",
    "# dicom scan values\n",
    "print(input_scans.values)\n",
    "\n",
    "\n"
   ]
  },
  {
   "cell_type": "code",
   "execution_count": 43,
   "metadata": {},
   "outputs": [
    {
     "name": "stdout",
     "output_type": "stream",
     "text": [
      "OrderedDict([('type', 'short'), ('dimension', 2), ('space dimension', 2), ('sizes', array([512, 512])), ('space directions', array([[-2.92968750e-02, -8.30006288e-14],\n",
      "       [ 8.30006288e-14, -2.92968750e-02]])), ('kinds', ['domain', 'domain']), ('endian', 'little'), ('encoding', 'raw'), ('space origin', array([18.3130797 , 22.36360443]))])\n"
     ]
    }
   ],
   "source": [
    "print(header)"
   ]
  },
  {
   "cell_type": "code",
   "execution_count": 44,
   "metadata": {},
   "outputs": [
    {
     "name": "stdout",
     "output_type": "stream",
     "text": [
      "header size: [512 512]\n",
      "header space dimension: 2\n",
      "header space directions: [[-2.92968750e-02 -8.30006288e-14]\n",
      " [ 8.30006288e-14 -2.92968750e-02]]\n"
     ]
    }
   ],
   "source": [
    "print('header size: ' + str(header['sizes']))\n",
    "print('header space dimension: ' + str(header['space dimension']))\n",
    "print('header space directions: ' + str(header['space directions']))\n",
    "\n"
   ]
  },
  {
   "cell_type": "code",
   "execution_count": 45,
   "metadata": {},
   "outputs": [],
   "source": [
    "# save original image as txt for debugging purposes\n",
    "np.savetxt('data.txt', seg, fmt='%1u')"
   ]
  },
  {
   "cell_type": "code",
   "execution_count": 46,
   "metadata": {},
   "outputs": [
    {
     "name": "stdout",
     "output_type": "stream",
     "text": [
      "classes1[ 0  1 14]\n",
      "..........................\n",
      "classes2 no sort[ 0  1 14]\n",
      "classes2 with sort[ 0  1 14]\n"
     ]
    },
    {
     "data": {
      "text/plain": [
       "True"
      ]
     },
     "execution_count": 46,
     "metadata": {},
     "output_type": "execute_result"
    }
   ],
   "source": [
    "# get all existing class indexes from nrrd\n",
    "\n",
    "# Method 1\n",
    "classes1 = np.unique(seg)\n",
    "print('classes1' + str(classes1))\n",
    "print(\"..........................\")\n",
    "\n",
    "# Method 2\n",
    "u, ind = np.unique(seg, return_index=True)\n",
    "classes2 = u[np.argsort(ind)]\n",
    "print('classes2 no sort' + str(classes2))\n",
    "# sort classes indexes\n",
    "classes2.sort()\n",
    "print('classes2 with sort' + str(classes2))\n",
    "\n",
    "# asserting results\n",
    "#assert (classes1 == classes2)\n",
    "np.alltrue(classes1 == classes2)\n",
    "\n",
    "#"
   ]
  },
  {
   "cell_type": "code",
   "execution_count": 47,
   "metadata": {},
   "outputs": [
    {
     "name": "stdout",
     "output_type": "stream",
     "text": [
      "num_classes: 15\n"
     ]
    }
   ],
   "source": [
    "# get number of classes for mevislab\n",
    "#num_classes = classes1.size\n",
    "num_classes = np.max(seg) + 1\n",
    "print('num_classes: ' + str(num_classes))"
   ]
  },
  {
   "cell_type": "code",
   "execution_count": 48,
   "metadata": {},
   "outputs": [],
   "source": [
    "# # Encoding segmented images\n",
    "\n",
    "# # initialize resulting encoded image\n",
    "# # seg_encoded2 = np.zeros(seg.shape)\n",
    "# # print('seg_encoded shape is: ' + str(seg_encoded.shape))\n",
    "\n",
    "# # initialize encoded image\n",
    "# seg_encoded = np.zeros_like(seg, subok=True)\n",
    "# print('seg_encoded2 shape is: ' + str(seg_encoded.shape))\n",
    "\n",
    "# # add an additional axis for stacking segments later\n",
    "# # seg_encoded = seg_encoded[:,:,np.newaxis]\n",
    "# # print(\"seg_encoded new shape: \" + str(seg_encoded.shape))\n",
    "\n",
    "# #\n",
    "\n"
   ]
  },
  {
   "cell_type": "code",
   "execution_count": 49,
   "metadata": {},
   "outputs": [],
   "source": [
    "# # case: just 03 segments\n",
    "\n",
    "# # define segment arrays\n",
    "# segment_intima = np.where(seg == 1, seg, 0)\n",
    "# segment_media = np.where(seg == 2, seg, 0)\n",
    "# segment_lumen = np.where(seg == 14, seg, 0)\n",
    "\n",
    "# # stack segment arrays\n",
    "# seg_encoded = np.stack((segment_intima, segment_media, segment_lumen), axis=2)\n",
    "\n"
   ]
  },
  {
   "cell_type": "code",
   "execution_count": 50,
   "metadata": {},
   "outputs": [
    {
     "name": "stdout",
     "output_type": "stream",
     "text": [
      "seg shape before encoding is: (512, 512)\n",
      "seg_encoded stacked segments shape is: (512, 512, 15)\n"
     ]
    }
   ],
   "source": [
    "# One-Hot-Encoded segmented File\n",
    "\n",
    "seg = deepcopy(seg)\n",
    "\n",
    "print('seg shape before encoding is: ' + str(seg.shape))\n",
    "\n",
    "#classes = np.unique(seg)\n",
    "# get number of classes from seg files\n",
    "#num_classes = classes.size\n",
    "num_classes2 = np.max(seg) + 1\n",
    "\n",
    "# initialize resulting encoded image\n",
    "seg_encoded2 = np.zeros_like(seg, subok=True)\n",
    "            \n",
    "# add new axis for stacking segments later\n",
    "#seg_encoded = seg_encoded[:,:,np.newaxis]\n",
    "                       \n",
    "# define segments arrays\n",
    "segment_0 = np.where(seg == 0, 1, 0)\n",
    "segment_intima = np.where(seg == 1, seg, 0)\n",
    "segment_media = np.where(seg == 2, seg, 0)\n",
    "segment_3 = np.where(seg == 3, seg, 0)\n",
    "segment_atheromatous = np.where(seg == 4, seg, 0)\n",
    "segment_5 = np.where(seg == 5, seg, 0)\n",
    "segment_6 = np.where(seg == 6, seg, 0)\n",
    "segment_7 = np.where(seg == 7, seg, 0)\n",
    "segment_8 = np.where(seg == 8, seg, 0)\n",
    "segment_9 = np.where(seg == 9, seg, 0)\n",
    "segment_10 = np.where(seg == 10, seg, 0)\n",
    "segment_11 = np.where(seg == 11, seg, 0)\n",
    "segment_12 = np.where(seg == 12, seg, 0)\n",
    "segment_13 = np.where(seg == 13, seg, 0)\n",
    "segment_lumen = np.where(seg == 14, seg, 0)\n",
    "            \n",
    "# stack segments\n",
    "seg_encoded2 = np.stack((segment_0,segment_intima, segment_media,segment_3,segment_atheromatous,segment_5,segment_6,segment_7,segment_8,segment_9,segment_10,segment_11,segment_12, segment_13,segment_lumen), axis=2)\n",
    "\n",
    "#\n",
    "print('seg_encoded stacked segments shape is: ' + str(seg_encoded2.shape))\n",
    "            "
   ]
  },
  {
   "cell_type": "markdown",
   "metadata": {},
   "source": [
    "## Visualization Dicom and One Hot encoded Segementation file\n"
   ]
  },
  {
   "cell_type": "code",
   "execution_count": 51,
   "metadata": {},
   "outputs": [
    {
     "data": {
      "text/plain": [
       "<matplotlib.image.AxesImage at 0x7f7fd88cca58>"
      ]
     },
     "execution_count": 51,
     "metadata": {},
     "output_type": "execute_result"
    },
    {
     "data": {
      "image/png": "[encoded data removed]",
      "text/plain": [
       "<Figure size 432x288 with 1 Axes>"
      ]
     },
     "metadata": {
      "needs_background": "light"
     },
     "output_type": "display_data"
    }
   ],
   "source": [
    "# Visualization of Dicom\n",
    "plt.imshow(input_scans.pixel_array, cmap=plt.cm.bone) "
   ]
  },
  {
   "cell_type": "code",
   "execution_count": 52,
   "metadata": {},
   "outputs": [],
   "source": [
    "# preprocessed = True\n",
    "# fig, ax = plt.subplots()\n",
    "# scan = input_scans\n",
    "# seg = seg_encoded2\n",
    "# # if preprocessed:\n",
    "# #     seg = seg[:, :, 14] * scan.max()\n",
    "# # else:\n",
    "# #     seg = seg[i] * (scan.max() / 2)\n",
    "# img = np.hstack([scan, seg])\n",
    "# plt.imshow(img, cmap=plt.cm.bone)\n",
    "# clear_output(wait=True)\n",
    "# display(fig)\n",
    "# plt.axis('off')\n",
    "# plt.show()"
   ]
  },
  {
   "cell_type": "markdown",
   "metadata": {},
   "source": [
    "## Visualization One Hot Encoded Segmentation .nrrd"
   ]
  },
  {
   "cell_type": "code",
   "execution_count": 56,
   "metadata": {},
   "outputs": [
    {
     "name": "stdout",
     "output_type": "stream",
     "text": [
      "[0 1]\n"
     ]
    },
    {
     "data": {
      "image/png": "[encoded data removed]",
      "text/plain": [
       "<Figure size 432x288 with 1 Axes>"
      ]
     },
     "metadata": {
      "needs_background": "light"
     },
     "output_type": "display_data"
    }
   ],
   "source": [
    "# How to visualize a One_Hot_Encoded_Individual_segment\n",
    "\n",
    "# for class_idx in range(15):\n",
    "#     segment = seg_encoded2[:, :, class_idx]\n",
    "#     plt.imshow(segment, cmap='rainbow')\n",
    "#     plt.axis('off')\n",
    "#     plt.show()\n",
    "\n",
    "print(np.unique(segment))\n",
    "segment = seg_encoded2[:, :, 1]                                # LUMEN\n",
    "plt.imshow(segment, cmap='rainbow')\n",
    "plt.axis('off')\n",
    "plt.show()\n"
   ]
  },
  {
   "cell_type": "code",
   "execution_count": 66,
   "metadata": {},
   "outputs": [],
   "source": [
    "# # To extract label info from segment arrays\n",
    "# # import scipy.ndimage as ndi\n",
    "# # filtering\n",
    "# # mask \n",
    "# # label name & label number\n",
    "# # pipeline: filter--> mask---> ndi.label() to label each object--> morphological operation\n",
    "# seg_filter = ndi.gaussian_filter(seg, sigma = 2)\n",
    "# segment_intima = np.where(seg == 14, seg_filter, 0)                  # LUMEN\n",
    "# labels, nlabels = ndi.label(segment_intima)\n",
    "# print('labels name: ' + str(labels))\n",
    "# print('nlabels: ' + str(nlabels))\n",
    "# plt.imshow(labels, cmap='rainbow')\n",
    "# plt.axis('off')\n",
    "# plt.show()"
   ]
  },
  {
   "cell_type": "code",
   "execution_count": 20,
   "metadata": {},
   "outputs": [],
   "source": [
    "# # Plot the labels array on top of the original image.\n",
    "# overlay = np.where(labels > 0, labels, np.nan)                             # LUMEN\n",
    "# plt.imshow(overlay, cmap='rainbow')\n",
    "# plt.axis('off')\n",
    "# plt.show()"
   ]
  },
  {
   "cell_type": "code",
   "execution_count": 21,
   "metadata": {},
   "outputs": [],
   "source": [
    "# # select and plot a label from image\n",
    "# single_label = np.where(labels==0, seg, 0)\n",
    "# plt.imshow(single_label, cmap='gray')\n",
    "# plt.axis('off')\n",
    "# plt.show()"
   ]
  },
  {
   "cell_type": "code",
   "execution_count": 23,
   "metadata": {},
   "outputs": [],
   "source": [
    "# fig, axes = plt.subplots(nrows=1, ncols=3)\n",
    "# axes[0].imshow(segment_intima, cmap='gray')\n",
    "# axes[1].imshow(segment_atheromatous, cmap='gray')\n",
    "# axes[2].imshow(segment_lumen, cmap='gray')\n",
    "# plt.axis('off')\n",
    "# plt.show()"
   ]
  },
  {
   "cell_type": "code",
   "execution_count": 25,
   "metadata": {},
   "outputs": [],
   "source": [
    "# # Get the histogram of bone intensities\n",
    "# hist = ndi.histogram(segment_intima, min=0, max=255, bins=256)\n",
    "\n",
    "# # Plot masked image and histogram\n",
    "# fig, axes = plt.subplots(2,1)\n",
    "# axes[0].imshow(segment_intima)\n",
    "# axes[1].plot(hist)\n",
    "# #format_and_render_plot()"
   ]
  },
  {
   "cell_type": "markdown",
   "metadata": {},
   "source": [
    "## Reshaping One Hot Segmentation File"
   ]
  },
  {
   "cell_type": "code",
   "execution_count": 62,
   "metadata": {},
   "outputs": [],
   "source": [
    "# resulting encoded image in shape [depth, width, height, num_classes]\n",
    "depth = 5\n",
    "\n",
    "seg_encoded2 = skimage.transform.resize(\n",
    "                    image=seg_encoded2,\n",
    "                    output_shape=(depth, seg_encoded2.shape[0], seg_encoded2.shape[1], seg_encoded2.shape[2]))\n"
   ]
  },
  {
   "cell_type": "code",
   "execution_count": 63,
   "metadata": {},
   "outputs": [
    {
     "name": "stdout",
     "output_type": "stream",
     "text": [
      "seg_encoded new shape: (5, 512, 512, 15)\n"
     ]
    }
   ],
   "source": [
    "#seg_encoded = seg_encoded[:,:,np.newaxis]\n",
    "print(\"seg_encoded new shape: \" + str(seg_encoded2.shape))"
   ]
  },
  {
   "cell_type": "code",
   "execution_count": 28,
   "metadata": {},
   "outputs": [
    {
     "name": "stdout",
     "output_type": "stream",
     "text": [
      "(512, 512, 15)\n"
     ]
    }
   ],
   "source": [
    "segment = seg_encoded2[0] \n",
    "\n",
    "print(segment.shape)\n"
   ]
  },
  {
   "cell_type": "code",
   "execution_count": 65,
   "metadata": {},
   "outputs": [
    {
     "name": "stdout",
     "output_type": "stream",
     "text": [
      "(512, 512)  -  (512, 512, 15)\n",
      "[5.42101086e-17 5.64335701e-17 5.86570316e-17 5.96099437e-17\n",
      " 5.97687623e-17 6.08804931e-17 6.27863172e-17 6.31039546e-17\n",
      " 6.50097787e-17 6.53274161e-17 6.59626908e-17 6.75508775e-17\n",
      " 6.77096962e-17 6.91390643e-17 6.97743390e-17 7.04096137e-17\n",
      " 7.13625258e-17 7.19978005e-17 7.23154379e-17 7.42212620e-17\n",
      " 7.53329927e-17 7.54918114e-17 7.56506301e-17 7.58094488e-17\n",
      " 7.77152729e-17 7.86681850e-17 7.99387344e-17 8.12092838e-17\n",
      " 8.18445585e-17 8.35915640e-17 8.40680200e-17 8.50209321e-17\n",
      " 8.66091189e-17 8.81973056e-17 8.85149430e-17 8.94678551e-17\n",
      " 9.04207671e-17 9.13736792e-17 9.15324979e-17 9.20089539e-17\n",
      " 9.45500527e-17 9.67735142e-17 9.70911516e-17 9.74087889e-17\n",
      " 9.77264263e-17 9.89969757e-17 9.94734317e-17 1.00902800e-16\n",
      " 1.01220437e-16 1.02808624e-16 1.03126261e-16 1.04079173e-16\n",
      " 1.05508541e-16 1.05667360e-16 1.07255547e-16 1.07414366e-16\n",
      " 1.08526096e-16 1.09479008e-16 1.10008404e-16 1.10431920e-16\n",
      " 1.12973019e-16 1.13184778e-16 1.13608294e-16 1.13925931e-16\n",
      " 1.14243569e-16 1.15355300e-16 1.15831756e-16 1.16361151e-16\n",
      " 1.16784668e-16 1.18055217e-16 1.19537525e-16 1.19961041e-16\n",
      " 1.22184503e-16 1.22713898e-16 1.22819777e-16 1.23137415e-16\n",
      " 1.23296233e-16 1.24725601e-16 1.25890272e-16 1.26313788e-16\n",
      " 1.26631426e-16 1.27584338e-16 1.28537250e-16 1.28854887e-16\n",
      " 1.29066645e-16 1.29490162e-16 1.31237167e-16 1.31395986e-16\n",
      " 1.32243019e-16 1.32666535e-16 1.34889997e-16 1.35419392e-16\n",
      " 1.35684090e-16 1.35842909e-16 1.36478184e-16 1.37113458e-16\n",
      " 1.38595766e-16 1.39019282e-16 1.39178101e-16 1.39336920e-16\n",
      " 1.41242744e-16 1.41772140e-16 1.42195656e-16 1.43783843e-16\n",
      " 1.44736755e-16 1.44948513e-16 1.45372030e-16 1.46642579e-16\n",
      " 1.47119035e-16 1.47595491e-16 1.48124887e-16 1.48230766e-16\n",
      " 1.48548403e-16 1.51301260e-16 1.51724777e-16 1.52042414e-16\n",
      " 1.53948238e-16 1.54477634e-16 1.54901150e-16 1.55059969e-16\n",
      " 1.56171700e-16 1.57654007e-16 1.58077524e-16 1.58712798e-16\n",
      " 1.59983348e-16 1.60300985e-16 1.60618623e-16 1.60830381e-16\n",
      " 1.61253897e-16 1.62842084e-16 1.63000903e-16 1.64747908e-16\n",
      " 1.65700820e-16 1.65806699e-16 1.65859639e-16 1.66653732e-16\n",
      " 1.70941837e-16 1.72159447e-16 1.73006479e-16 1.73641754e-16\n",
      " 1.75229941e-16 1.76500490e-16 1.77453402e-16 1.78512194e-16\n",
      " 1.78882771e-16 1.79359227e-16 1.80947413e-16 1.81900325e-16\n",
      " 1.84759062e-16 1.84864941e-16 1.85711974e-16 1.86823704e-16\n",
      " 1.88570710e-16 1.90158897e-16 1.91217688e-16 1.92064721e-16\n",
      " 1.92382358e-16 1.93705847e-16 1.94288182e-16 1.94764638e-16\n",
      " 1.96035188e-16 1.97570435e-16 1.98417468e-16 1.99052743e-16\n",
      " 2.00958567e-16 2.01646781e-16 2.02705572e-16 2.02864391e-16\n",
      " 2.03182028e-16 2.03817303e-16 2.03923182e-16 2.04770215e-16\n",
      " 2.08264226e-16 2.09587715e-16 2.10275929e-16 2.10646506e-16\n",
      " 2.11122962e-16 2.13346424e-16 2.15569885e-16 2.16628676e-16\n",
      " 2.17158072e-16 2.17475709e-16 2.17528649e-16 2.18587440e-16\n",
      " 2.20016808e-16 2.21604995e-16 2.22875544e-16 2.22981423e-16\n",
      " 2.23828456e-16 2.24146094e-16 2.24463731e-16 2.25416643e-16\n",
      " 2.25469583e-16 2.26210736e-16 2.26528374e-16 2.28275379e-16\n",
      " 2.29334170e-16 2.30181203e-16 2.31134115e-16 2.32404665e-16\n",
      " 2.33410517e-16 2.34469308e-16 2.35686918e-16 2.36533951e-16\n",
      " 2.39075049e-16 2.40027961e-16 2.40663236e-16 2.40980873e-16\n",
      " 2.41351450e-16 2.41933786e-16 2.42039665e-16 2.42410242e-16\n",
      " 2.42886698e-16 2.45745434e-16 2.47651258e-16 2.48392412e-16\n",
      " 2.49239445e-16 2.49292384e-16 2.49874719e-16 2.50192357e-16\n",
      " 2.50351175e-16 2.51462906e-16 2.53686368e-16 2.54745159e-16\n",
      " 2.55592192e-16 2.55909829e-16 2.56386285e-16 2.57233318e-16\n",
      " 2.58133291e-16 2.58292109e-16 2.59721477e-16 2.60992027e-16\n",
      " 2.61097906e-16 2.61944939e-16 2.65174252e-16 2.66233043e-16\n",
      " 2.66391862e-16 2.67450653e-16 2.68297686e-16 2.69250598e-16\n",
      " 2.69885873e-16 2.70521148e-16 2.71791697e-16 2.73115186e-16\n",
      " 2.74173977e-16 2.74332796e-16 2.75285708e-16 2.77191532e-16\n",
      " 2.77403290e-16 2.78779719e-16 2.79097356e-16 2.80050268e-16\n",
      " 2.81056120e-16 2.82114911e-16 2.86561834e-16 2.87673565e-16\n",
      " 2.88308839e-16 2.88997054e-16 2.89579389e-16 2.90055845e-16\n",
      " 2.90108784e-16 2.91802850e-16 2.92120488e-16 2.96249773e-16\n",
      " 2.96937988e-16 2.97837960e-16 2.97996779e-16 2.99108509e-16\n",
      " 3.00696696e-16 3.02814279e-16 3.02920158e-16 3.03555432e-16\n",
      " 3.04508345e-16 3.04878921e-16 3.05937713e-16 3.07367081e-16\n",
      " 3.08637630e-16 3.12819855e-16 3.13878647e-16 3.14355103e-16\n",
      " 3.15308015e-16 3.15519773e-16 3.16737383e-16 3.16896201e-16\n",
      " 3.17213839e-16 3.18166751e-16 3.19437300e-16 3.20760789e-16\n",
      " 3.21819580e-16 3.26107685e-16 3.26425322e-16 3.27695871e-16\n",
      " 3.28225267e-16 3.29919333e-16 3.31507520e-16 3.33201586e-16\n",
      " 3.34366256e-16 3.35319168e-16 3.35954443e-16 3.36589717e-16\n",
      " 3.37224992e-16 3.40930761e-16 3.42624827e-16 3.45483563e-16\n",
      " 3.46754113e-16 3.46912931e-16 3.49083453e-16 3.51201036e-16\n",
      " 3.51518673e-16 3.53424497e-16 3.53636255e-16 3.55012684e-16\n",
      " 3.55330321e-16 3.56283233e-16 3.58824332e-16 3.60094882e-16\n",
      " 3.64541805e-16 3.64965321e-16 3.65812354e-16 3.66341750e-16\n",
      " 3.67082904e-16 3.68035816e-16 3.72482739e-16 3.74070925e-16\n",
      " 3.75341475e-16 3.76929662e-16 3.77088480e-16 3.79047244e-16\n",
      " 3.80741310e-16 3.80847189e-16 3.81058947e-16 3.82964771e-16\n",
      " 3.88682244e-16 3.88999881e-16 3.91540980e-16 3.91752738e-16\n",
      " 3.93446804e-16 3.96729057e-16 3.98846639e-16 4.02340650e-16\n",
      " 4.03293562e-16 4.04458232e-16 4.06152298e-16 4.07264029e-16\n",
      " 4.08058122e-16 4.10599221e-16 4.12610924e-16 4.14728507e-16\n",
      " 4.17163727e-16 4.17269606e-16 4.18857792e-16 4.25528177e-16\n",
      " 4.27116364e-16 4.27751638e-16 4.28492792e-16 4.29657462e-16\n",
      " 4.29869221e-16 4.30610375e-16 4.31563287e-16 4.37439578e-16\n",
      " 4.42574715e-16 4.44268781e-16 4.44374660e-16 4.44798176e-16\n",
      " 4.45856968e-16 4.46174605e-16 4.46492242e-16 4.47762792e-16\n",
      " 4.48715704e-16 4.53162627e-16 4.55280209e-16 4.56974275e-16\n",
      " 4.60256528e-16 4.62374110e-16 4.65232846e-16 4.67032791e-16\n",
      " 4.67615126e-16 4.67773945e-16 4.67985703e-16 4.69679769e-16\n",
      " 4.69997407e-16 4.74444330e-16 4.76138395e-16 4.78255978e-16\n",
      " 4.78573615e-16 4.80691198e-16 4.82385263e-16 4.84291088e-16\n",
      " 4.86832186e-16 4.89267406e-16 4.92020263e-16 4.92232021e-16\n",
      " 4.94137846e-16 4.97790675e-16 5.00596472e-16 5.03031692e-16\n",
      " 5.03349329e-16 5.03984604e-16 5.05890428e-16 5.07902131e-16\n",
      " 5.10019713e-16 5.11502021e-16 5.14466636e-16 5.22407570e-16\n",
      " 5.23783999e-16 5.24948669e-16 5.25901581e-16 5.26007460e-16\n",
      " 5.27966224e-16 5.29395592e-16 5.31619054e-16 5.33736636e-16\n",
      " 5.36701251e-16 5.39665867e-16 5.41465812e-16 5.41783449e-16\n",
      " 5.44006910e-16 5.51418449e-16 5.54806580e-16 5.55547734e-16\n",
      " 5.55971251e-16 5.56394767e-16 5.57665317e-16 5.58141773e-16\n",
      " 5.58935866e-16 5.60206415e-16 5.60524053e-16 5.63065152e-16\n",
      " 5.71429602e-16 5.73547184e-16 5.76829437e-16 5.78205866e-16\n",
      " 5.79582294e-16 5.80217569e-16 5.81170481e-16 5.82123393e-16\n",
      " 5.84293915e-16 5.84982129e-16 5.87311470e-16 5.88317321e-16\n",
      " 5.88793777e-16 5.89429052e-16 5.98640535e-16 6.00440480e-16\n",
      " 6.01181634e-16 6.02240425e-16 6.03405096e-16 6.05628557e-16\n",
      " 6.13569491e-16 6.14469464e-16 6.17381139e-16 6.17698777e-16\n",
      " 6.18492870e-16 6.20239876e-16 6.22675095e-16 6.25639711e-16\n",
      " 6.27651414e-16 6.31039546e-16 6.36757018e-16 6.39298117e-16\n",
      " 6.42156853e-16 6.44645012e-16 6.44909710e-16 6.45968501e-16\n",
      " 6.47874326e-16 6.48668419e-16 6.53062402e-16 6.55815259e-16\n",
      " 6.56450534e-16 6.58356358e-16 6.67144325e-16 6.70108940e-16\n",
      " 6.70744215e-16 6.74555863e-16 6.74820561e-16 6.74873501e-16\n",
      " 6.77414600e-16 6.78473391e-16 6.78843968e-16 6.81861523e-16\n",
      " 6.89378940e-16 6.92343555e-16 6.93931742e-16 6.96472841e-16\n",
      " 6.99331577e-16 7.03143225e-16 7.03884379e-16 7.04996110e-16\n",
      " 7.07272511e-16 7.09019516e-16 7.11613555e-16 7.14578170e-16\n",
      " 7.27918939e-16 7.29295368e-16 7.31730587e-16 7.32683499e-16\n",
      " 7.33848170e-16 7.35171659e-16 7.36812785e-16 7.39195065e-16\n",
      " 7.54706356e-16 7.56082785e-16 7.56506301e-16 7.58094488e-16\n",
      " 7.59047400e-16 7.60317949e-16 7.65347207e-16 7.69370614e-16\n",
      " 7.78317399e-16 7.80117344e-16 7.81282015e-16 7.83505476e-16\n",
      " 7.85093663e-16 7.88905311e-16 7.95522756e-16 7.99546163e-16\n",
      " 8.00552014e-16 8.03516630e-16 8.05528333e-16 8.08916465e-16\n",
      " 8.13681025e-16 8.17492673e-16 8.25698305e-16 8.29721711e-16\n",
      " 8.30939321e-16 8.34327453e-16 8.42268387e-16 8.46080035e-16\n",
      " 8.55873854e-16 8.56350310e-16 8.59738441e-16 8.59897260e-16\n",
      " 8.70855749e-16 8.74667397e-16 8.81761298e-16 8.85149430e-16\n",
      " 8.86049402e-16 8.90072809e-16 8.99443111e-16 9.03254759e-16\n",
      " 9.07172287e-16 9.10560418e-16 9.16224951e-16 9.20248358e-16\n",
      " 9.28030473e-16 9.31842121e-16 9.46400500e-16 9.50423906e-16\n",
      " 9.56617835e-16 9.60429483e-16 9.76576049e-16 9.80599455e-16\n",
      " 9.85205197e-16 9.89016845e-16 1.00675160e-15 1.01077500e-15\n",
      " 1.01379256e-15 1.01760421e-15 1.03692715e-15 1.04095055e-15\n",
      " 1.06710269e-15 1.07112610e-15] [    0     2     5 ... 16406 16426 16502]\n"
     ]
    },
    {
     "data": {
      "image/png": "[encoded data removed]",
      "text/plain": [
       "<Figure size 432x288 with 1 Axes>"
      ]
     },
     "metadata": {},
     "output_type": "display_data"
    },
    {
     "data": {
      "image/png": "[encoded data removed]",
      "text/plain": [
       "<Figure size 432x288 with 1 Axes>"
      ]
     },
     "metadata": {
      "needs_background": "light"
     },
     "output_type": "display_data"
    }
   ],
   "source": [
    "preprocessed = True\n",
    "fig, ax = plt.subplots()\n",
    "scan = input_scans\n",
    "seg = seg_encoded2[2]*1000\n",
    "\n",
    "# print(segment.shape)\n",
    "# LUMEN\n",
    "# plt.imshow(segment, cmap='rainbow')\n",
    "# plt.axis('off')\n",
    "# plt.show()\n",
    "print(scan.pixel_array.shape, \" - \", seg.shape)\n",
    "print(np.unique(seg),np.unique(scan.pixel_array))\n",
    "img = scan.pixel_array\n",
    "for class_idx in range(15):    \n",
    "    img = np.hstack([img, seg[:,:,class_idx]])\n",
    "\n",
    "plt.imshow(img, cmap=plt.cm.bone)\n",
    "#clear_output(wait=True)\n",
    "display(fig)\n",
    "plt.axis('off')\n",
    "plt.show()"
   ]
  },
  {
   "cell_type": "code",
   "execution_count": null,
   "metadata": {},
   "outputs": [],
   "source": []
  }
 ],
 "metadata": {
  "kernelspec": {
   "display_name": "Python 3",
   "language": "python",
   "name": "python3"
  },
  "language_info": {
   "codemirror_mode": {
    "name": "ipython",
    "version": 3
   },
   "file_extension": ".py",
   "mimetype": "text/x-python",
   "name": "python",
   "nbconvert_exporter": "python",
   "pygments_lexer": "ipython3",
   "version": "3.6.8"
  }
 },
 "nbformat": 4,
 "nbformat_minor": 2
}
