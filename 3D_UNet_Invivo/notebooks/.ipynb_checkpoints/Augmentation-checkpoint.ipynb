{
 "cells": [
  {
   "cell_type": "code",
   "execution_count": 1,
   "metadata": {},
   "outputs": [],
   "source": [
    "import os\n",
    "\n",
    "import pydicom\n",
    "from pydicom.pixel_data_handlers import gdcm_handler, pillow_handler\n",
    "\n",
    "%matplotlib inline\n",
    "from pathlib import Path\n",
    "import matplotlib.pyplot as plt\n",
    "#import matplotlib.image as mpimg\n",
    "import glob\n",
    "\n",
    "import skimage\n",
    "\n",
    "import numpy\n",
    "import numpy as np\n",
    "\n",
    "from tensorflow.keras.preprocessing.image import ImageDataGenerator"
   ]
  },
  {
   "cell_type": "code",
   "execution_count": 2,
   "metadata": {},
   "outputs": [],
   "source": [
    "def plot_data(data,cmaps):\n",
    "    #data_shape = np.array(data).shape\n",
    "    data_shape = np.array(data).shape\n",
    "    print('data_shape: ' + str(data_shape))\n",
    "    print('data_shape[0]: ' + str(data_shape[0]))\n",
    "    print('data_shape[1]: ' + str(data_shape[1]))\n",
    "    numImageTypes = data_shape[0]\n",
    "    numImageSets = data_shape[1]\n",
    "    fig = plt.figure(figsize=(3*numImageTypes,3*numImageSets))\n",
    "    for i in range(numImageSets):\n",
    "        for j in range(numImageTypes):\n",
    "            plt.subplot(numImageSets, numImageTypes,i*numImageTypes + j+1)\n",
    "            plt.axis('off')\n",
    "            img = plt.imshow(data[j][i])\n",
    "            img.set_cmap(cmaps[j])\n",
    "    plt.show()"
   ]
  },
  {
   "cell_type": "code",
   "execution_count": 3,
   "metadata": {},
   "outputs": [],
   "source": [
    "#Rotate\n",
    "from scipy.ndimage import rotate\n",
    "\n",
    "def rotateSlice(image, angle):\n",
    "    rotatedImage = rotate(image, angle=angle, reshape=False)\n",
    "    return rotatedImage"
   ]
  },
  {
   "cell_type": "code",
   "execution_count": 4,
   "metadata": {},
   "outputs": [],
   "source": [
    "# ScanFiles = glob.glob('/home/amos/3D_3D_UNet_Invivo/data/raw/newData/*_mask2_*.dcm', recursive=True)\n",
    "# SegFiles = glob.glob('/home/amos/3D_3D_UNet_Invivo/data/raw/newData/*_t1_*.dcm', recursive=True)\n",
    "\n",
    "\n",
    "\n",
    "# ScanDcm = []\n",
    "# SegDcm = []\n",
    "\n",
    "# segs = []\n",
    "# scans = []\n",
    "\n",
    "# for i, (scan, seg) in enumerate(zip(ScanFiles, SegFiles)):\n",
    "    \n",
    "#     # check exisiting data files\n",
    "#     print(scan)\n",
    "#     print(seg)\n",
    "#     print('------------------------------')\n",
    "    \n",
    "#     # read DICOM scan and store them into lists\n",
    "#     ScanDcm.append(pydicom.dcmread(scan))\n",
    "#     #print('ScanDcm' + str(ScanDcm))\n",
    "    \n",
    "#     # decompress pixel in list of slices (ScanDcm[i])\n",
    "#     ScanDcm[i].pixel_data_handlers = gdcm_handler\n",
    "#     #print('ScanDcm i' + str(ScanDcm[i]))\n",
    "    \n",
    "#     # display all slices contain in each list (ScanDcm[i])  \n",
    "#     #print('ScanDcm i pixel_array' + str(ScanDcm[i].pixel_array))\n",
    "#     scans.append(ScanDcm[i].pixel_array)\n",
    "    \n",
    "#     # store all slices contain in each list (ScanDcm[i]) in a new list of scan slices (scans)\n",
    "#     # scan slices = numpy array\n",
    "# #     for j, newscan in enumerate (ScanDcm[i].pixel_array):\n",
    "# #         print(newscan)\n",
    "# #         scans.append(newscan)\n",
    "\n",
    "# #     # read segmentation files and explore them\n",
    "# #     ScanDcm.append(pydicom.dcmread(scan))\n",
    "# #     #print(SegDcm)\n",
    "    \n",
    "# #     # access pixel data\n",
    "# #     for a, newscan in enumerate(ScanDcm):\n",
    "# #         #print(newseg.pixel_array)\n",
    "# #         #print(np.unique(newseg.pixel_array))\n",
    "# #         for b, newscan2 in enumerate(newscan.pixel_array):\n",
    "# #              segs.append(newscan2)\n",
    "        \n",
    "#     # read segmentation DICOM from files and explore them\n",
    "#     SegDcm.append(pydicom.dcmread(seg))\n",
    "#     #print(SegDcm)\n",
    "    \n",
    "#     # access pixel data\n",
    "#     for s, newseg in enumerate(SegDcm):\n",
    "#         #print(newseg.pixel_array)\n",
    "#         #print(np.unique(newseg.pixel_array))\n",
    "#         for t, newseg2 in enumerate(newseg.pixel_array):\n",
    "#              segs.append(newseg2)\n",
    "            \n",
    "       \n",
    "        \n",
    "# #print(scans[0]) \n",
    "# #print(segs[0])\n",
    "# #print(scans[0]) \n",
    "# #print(SegDcm[0])\n",
    "# #plot_data([scans[0], segs[0]],['gray','gnuplot'])\n",
    "# plot_data([scans, scans],['gray','gnuplot'])\n",
    "# plot_data([segs, segs],['gray','gnuplot'])\n",
    "# #plot_data([scans, segs],['gray','gnuplot'])"
   ]
  },
  {
   "cell_type": "code",
   "execution_count": 5,
   "metadata": {},
   "outputs": [
    {
     "name": "stdout",
     "output_type": "stream",
     "text": [
      "data_shape: (2, 0)\n",
      "data_shape[0]: 2\n",
      "data_shape[1]: 0\n"
     ]
    },
    {
     "data": {
      "text/plain": [
       "<Figure size 432x0 with 0 Axes>"
      ]
     },
     "metadata": {},
     "output_type": "display_data"
    },
    {
     "name": "stdout",
     "output_type": "stream",
     "text": [
      "data_shape: (2, 0)\n",
      "data_shape[0]: 2\n",
      "data_shape[1]: 0\n"
     ]
    },
    {
     "data": {
      "text/plain": [
       "<Figure size 432x0 with 0 Axes>"
      ]
     },
     "metadata": {},
     "output_type": "display_data"
    }
   ],
   "source": [
    "ScanFiles = glob.glob('/home/amos/3D_3D_UNet_Invivo_noChanges/data/raw/newData/*_t1_*.dcm', recursive=True)\n",
    "SegFiles = glob.glob('/home/amos/3D_3D_UNet_Invivo_noChanges/data/raw/newData/*_mask2_*.dcm', recursive=True)\n",
    "\n",
    "\n",
    "\n",
    "\n",
    "ScanDcm = []\n",
    "SegDcm = []\n",
    "\n",
    "segs = []\n",
    "scans = []\n",
    "\n",
    "for i, (scan, seg) in enumerate(zip(ScanFiles, SegFiles)):\n",
    "    \n",
    "    # check exisiting data files\n",
    "    print(scan)\n",
    "    print(seg)\n",
    "    print('------------------------------')\n",
    "    \n",
    "    # read files and store DICOM to lists\n",
    "    ScanDcm.append(pydicom.dcmread(scan))\n",
    "    SegDcm.append(pydicom.dcmread(seg))\n",
    "    \n",
    "    # Explore list of scans DICOM\n",
    "    for s, newscan in enumerate(ScanDcm[i].pixel_array):\n",
    "        scans.append(newscan)\n",
    "    \n",
    "    # explore list of segs DICOM\n",
    "    #SegDcm[i].pixel_data_handlers = gdcm_handler\n",
    "    segs.append(SegDcm[i].pixel_array)\n",
    " \n",
    "    \n",
    "plot_data([scans, scans],['gray','gnuplot'])\n",
    "plot_data([segs, segs],['gray','gnuplot'])\n",
    "#plot_data([scans, segs],['gray','gnuplot'])"
   ]
  },
  {
   "cell_type": "code",
   "execution_count": 6,
   "metadata": {},
   "outputs": [
    {
     "name": "stdout",
     "output_type": "stream",
     "text": [
      "Length scanList: 0\n",
      "Length segList: 0\n",
      "---------------------------------------\n",
      "Length ScanDcm: 0\n",
      "Length SegDcm: 0\n"
     ]
    }
   ],
   "source": [
    "print('Length scanList: ' + str(len(ScanFiles)))\n",
    "print('Length segList: ' + str(len(SegFiles)))\n",
    "print('---------------------------------------')\n",
    "print('Length ScanDcm: ' + str(len(ScanDcm)))\n",
    "print('Length SegDcm: ' + str(len(SegDcm)))"
   ]
  },
  {
   "cell_type": "code",
   "execution_count": 7,
   "metadata": {},
   "outputs": [],
   "source": [
    "# from scipy.ndimage import rotate\n",
    "# for i, (PatScanDcm, PatSegDcm) in enumerate(zip(ScanDcm, SegDcm)):\n",
    "#     rotScans = []\n",
    "#     rotSegs = []\n",
    "    \n",
    "#     #print(\"PatScanDcm: \" + str(PatScanDcm))\n",
    "#     #print(\"PatSegDcm: \" + str(PatSegDcm))\n",
    "    \n",
    "#     for j, (ScanSlice, SegSlice) in enumerate(zip(PatScanDcm.pixel_array, PatSegDcm.pixel_array)):\n",
    "#         #rotScans.append(rotateSlice(ScanSlice, 45))\n",
    "#         #rotSegs.append(rotateSlice(SegSlice, 45))\n",
    "#         #print(\"PatScanDcm.pixelArray j: \" + str(PatScanDcm.pixel_array[j]))\n",
    "#         #print(\"SegSlice: \" + str(SegSlice))\n",
    "#         PatScanDcm.pixel_array[j] = rotateSlice(ScanSlice, 45)\n",
    "#         PatSegDcm.pixel_array[j] = rotateSlice(SegSlice, 45)\n",
    "#         #print(PatScanDcm.dir(\"pixe\"))\n",
    "#     patID = np.random.randint(0, 1000000)\n",
    "#     PatScanDcm.PatientID = str(patID)\n",
    "    \n",
    "#     PatScanDcm.is_little_endian = True\n",
    "#     PatScanDcm.is_implicit_VR = True\n",
    "    \n",
    "#     filename = \"ROTATED_\" + str(os.path.split(ScanFiles[i])[1])\n",
    "#     #pydicom.filewriter.dcmwrite(str(os.path.split(ScanFiles[i])[0]+ \"/\" +filename), PatScanDcm, False)\n",
    "#     PatScanDcm.save_as(str(os.path.split(ScanFiles[i])[0]+ \"/\" +filename), False)\n",
    "    \n",
    "#     PatSegDcm.PatientID = str(patID)\n",
    "#     filename = \"ROTATED_\" + str(os.path.split(SegFiles[i])[1])\n",
    "#     #pydicom.filewriter.dcmwrite(str(os.path.split(SegFiles[i])[0]+ \"/\" +filename), PatSegDcm, False)\n",
    "#     PatSegDcm.save_as(str(os.path.split(SegFiles[i])[0]+ \"/\" +filename), False)\n",
    "\n",
    "#     plot_data([PatScanDcm.pixel_array, PatSegDcm.pixel_array],['gray','gnuplot'])\n",
    "    "
   ]
  },
  {
   "cell_type": "code",
   "execution_count": 8,
   "metadata": {},
   "outputs": [],
   "source": [
    "from scipy.ndimage import rotate\n",
    "rotScans = []\n",
    "\n",
    "for i, PatScanDcm in enumerate(ScanDcm): \n",
    "    for j, ScanSlice in enumerate(PatScanDcm.pixel_array):\n",
    "        #rotScans.append(rotateSlice(ScanSlice, 45))\n",
    "        #rotSegs.append(rotateSlice(SegSlice, 45))\n",
    "        #print(\"PatScanDcm.pixelArray j: \" + str(PatScanDcm.pixel_array[j]))\n",
    "        #print(\"SegSlice: \" + str(SegSlice))\n",
    "        PatScanDcm.pixel_array[j] = rotateSlice(ScanSlice, 180)\n",
    "        #print(PatScanDcm.dir(\"pixe\"))\n",
    "    patID = np.random.randint(0, 1000000)\n",
    "    PatScanDcm.PatientID = str(patID)\n",
    "    \n",
    "    print('patID: ' +str(patID))\n",
    "    print('PatScanDcm.PatientID: ' +str(PatScanDcm.PatientID))\n",
    "    \n",
    "    PatScanDcm.is_little_endian = True\n",
    "    PatScanDcm.is_implicit_VR = True\n",
    "    plot_data([PatScanDcm.pixel_array, PatScanDcm.pixel_array],['gray','gnuplot'])\n",
    "    "
   ]
  },
  {
   "cell_type": "code",
   "execution_count": 9,
   "metadata": {},
   "outputs": [
    {
     "name": "stdout",
     "output_type": "stream",
     "text": [
      "data_shape: (2, 0)\n",
      "data_shape[0]: 2\n",
      "data_shape[1]: 0\n"
     ]
    },
    {
     "data": {
      "text/plain": [
       "<Figure size 432x0 with 0 Axes>"
      ]
     },
     "metadata": {},
     "output_type": "display_data"
    }
   ],
   "source": [
    "from scipy.ndimage import rotate\n",
    "rotSegs = []\n",
    "for s, seg in enumerate(segs):\n",
    "    rot_seg = rotateSlice(seg, 90)\n",
    "    rotSegs.append(rot_seg)\n",
    "plot_data([rotSegs, rotSegs],['gray','gnuplot'])\n",
    "    "
   ]
  },
  {
   "cell_type": "code",
   "execution_count": 10,
   "metadata": {},
   "outputs": [],
   "source": [
    "# data_generator = ImageDataGenerator(rotation_range=angle)\n",
    "# data_generator.fit(image)\n",
    "# image_iterator = data_generator.flow(image)"
   ]
  },
  {
   "cell_type": "code",
   "execution_count": null,
   "metadata": {},
   "outputs": [],
   "source": []
  }
 ],
 "metadata": {
  "kernelspec": {
   "display_name": "Python 3",
   "language": "python",
   "name": "python3"
  },
  "language_info": {
   "codemirror_mode": {
    "name": "ipython",
    "version": 3
   },
   "file_extension": ".py",
   "mimetype": "text/x-python",
   "name": "python",
   "nbconvert_exporter": "python",
   "pygments_lexer": "ipython3",
   "version": "3.6.8"
  }
 },
 "nbformat": 4,
 "nbformat_minor": 2
}
